{
 "cells": [
  {
   "cell_type": "markdown",
   "metadata": {},
   "source": [
    "\n",
    "\n",
    "## Принятие решений в бизнесе (приоритезация гипотез и А/В тестирование)"
   ]
  },
  {
   "cell_type": "markdown",
   "metadata": {},
   "source": [
    "## Описание проекта  \n",
    "В рамках проекта необходимо приоритезировать подготовленные отделом маркетинга гипотезы, провести А/B тестирование и проанализировать результаты.  \n",
    "**Ход исследования**  \n",
    "**Первая часть** исследования посвящена приоретизации гипотез. В рамках исследования необходимо решить посталенные **задачи**: \n",
    "- отсортировать гипотезы по убыванию приоритета в соттветсвиии с результатми применения фреймворка ICE  \n",
    "- отсортировать гипотезы по убыванию приоритета в соттветсвиии с результатми применения фреймворка RICE  \n",
    "- зафикисировать изменения при приоретизации гипотез в рамках разных фреймворках, объяснить различия результатов, если они есть  \n",
    "\n",
    "\n",
    "**Вторая часть** исследования - анализ результатов A/B теста. В рамках второй части будет решено **14 последовательных задач**:\n",
    "    \n",
    "  1 График кумулятивной выручки по группам\n",
    "\n",
    "  2 График кумулятивного среднего чека по группам\n",
    "    \n",
    "  3 График относительного изменения кумулятивного среднего чека группы B к группе A\n",
    "    \n",
    "  4 График кумулятивной конверсии по группам\n",
    "  \n",
    "  5 График относительного изменения кумулятивной конверсии группы B к группе A\n",
    "    \n",
    "  6 Точечный график количества заказов по пользователям\n",
    "    \n",
    "  7 Расчет 95-й и 99-й перцентили количества заказов на пользователя\n",
    "    \n",
    "  8 Точечный график стоимостей заказов\n",
    "  \n",
    "  9 Расчет 95-й и 99-й перцентили стоимости заказов\n",
    "    \n",
    "  10 Расчет статистической значимости различий в конверсии между группами по «сырым» данным\n",
    "    \n",
    "  11 Расчет статистической значимости различий в среднем чеке заказа между группами по «сырым» данным\n",
    "    \n",
    "  12 Расчет статистической значимости различий в конверсии между группами по «очищенным» данным\n",
    "    \n",
    "  13 Расчет статистической значимости различий в среднем чеке заказа между группами по «очищенным» данным\n",
    "  \n",
    "  14 Принятие решения по результатам теста\n",
    "         \n"
   ]
  },
  {
   "cell_type": "markdown",
   "metadata": {},
   "source": [
    "### Описание данных  \n",
    "**Данные для первой части**  \n",
    "\n",
    "Файл /datasets/hypothesis.csv  \n",
    "\n",
    "•\tHypothesis — краткое описание гипотезы;  \n",
    "•\tReach — охват пользователей по 10-балльной шкале;  \n",
    "•\tImpact — влияние на пользователей по 10-балльной шкале;  \n",
    "•\tConfidence — уверенность в гипотезе по 10-балльной шкале;  \n",
    "•\tEfforts — затраты ресурсов на проверку гипотезы по 10-балльной шкале. Чем больше значение Efforts, тем дороже проверка гипотезы.  \n",
    "\n",
    "**Данные для второй части**  \n",
    "\n",
    "Файл /datasets/orders.csv.  \n",
    "\n",
    "•\ttransactionId — идентификатор заказа;  \n",
    "•\tvisitorId — идентификатор пользователя, совершившего заказ;  \n",
    "•\tdate — дата, когда был совершён заказ;  \n",
    "•\trevenue — выручка заказа;  \n",
    "•\tgroup — группа A/B-теста, в которую попал заказ.  \n",
    "\n",
    "Файл /datasets/visitors.csv.   \n",
    "\n",
    "•\tdate — дата;  \n",
    "•\tgroup — группа A/B-теста;  \n",
    "•\tvisitors — количество пользователей в указанную дату в указанной группе A/B-теста  \n"
   ]
  },
  {
   "cell_type": "markdown",
   "metadata": {},
   "source": [
    "## Знакомство с данными  \n",
    "### Импорт библиотек и загрузка данных"
   ]
  },
  {
   "cell_type": "code",
   "execution_count": 2,
   "metadata": {},
   "outputs": [],
   "source": [
    "import pandas as pd\n",
    "import numpy as np\n",
    "import math as mt\n",
    "from scipy import stats as st\n",
    "from datetime import datetime, timedelta\n",
    "from matplotlib import pyplot as plt"
   ]
  },
  {
   "cell_type": "code",
   "execution_count": 3,
   "metadata": {},
   "outputs": [
    {
     "data": {
      "text/html": [
       "<div>\n",
       "<style scoped>\n",
       "    .dataframe tbody tr th:only-of-type {\n",
       "        vertical-align: middle;\n",
       "    }\n",
       "\n",
       "    .dataframe tbody tr th {\n",
       "        vertical-align: top;\n",
       "    }\n",
       "\n",
       "    .dataframe thead th {\n",
       "        text-align: right;\n",
       "    }\n",
       "</style>\n",
       "<table border=\"1\" class=\"dataframe\">\n",
       "  <thead>\n",
       "    <tr style=\"text-align: right;\">\n",
       "      <th></th>\n",
       "      <th>Hypothesis</th>\n",
       "      <th>Reach</th>\n",
       "      <th>Impact</th>\n",
       "      <th>Confidence</th>\n",
       "      <th>Efforts</th>\n",
       "    </tr>\n",
       "  </thead>\n",
       "  <tbody>\n",
       "    <tr>\n",
       "      <th>0</th>\n",
       "      <td>Добавить два новых канала привлечения трафика,...</td>\n",
       "      <td>3</td>\n",
       "      <td>10</td>\n",
       "      <td>8</td>\n",
       "      <td>6</td>\n",
       "    </tr>\n",
       "    <tr>\n",
       "      <th>1</th>\n",
       "      <td>Запустить собственную службу доставки, что сок...</td>\n",
       "      <td>2</td>\n",
       "      <td>5</td>\n",
       "      <td>4</td>\n",
       "      <td>10</td>\n",
       "    </tr>\n",
       "    <tr>\n",
       "      <th>2</th>\n",
       "      <td>Добавить блоки рекомендаций товаров на сайт ин...</td>\n",
       "      <td>8</td>\n",
       "      <td>3</td>\n",
       "      <td>7</td>\n",
       "      <td>3</td>\n",
       "    </tr>\n",
       "    <tr>\n",
       "      <th>3</th>\n",
       "      <td>Изменить структура категорий, что увеличит кон...</td>\n",
       "      <td>8</td>\n",
       "      <td>3</td>\n",
       "      <td>3</td>\n",
       "      <td>8</td>\n",
       "    </tr>\n",
       "    <tr>\n",
       "      <th>4</th>\n",
       "      <td>Изменить цвет фона главной страницы, чтобы уве...</td>\n",
       "      <td>3</td>\n",
       "      <td>1</td>\n",
       "      <td>1</td>\n",
       "      <td>1</td>\n",
       "    </tr>\n",
       "  </tbody>\n",
       "</table>\n",
       "</div>"
      ],
      "text/plain": [
       "                                          Hypothesis  Reach  Impact  \\\n",
       "0  Добавить два новых канала привлечения трафика,...      3      10   \n",
       "1  Запустить собственную службу доставки, что сок...      2       5   \n",
       "2  Добавить блоки рекомендаций товаров на сайт ин...      8       3   \n",
       "3  Изменить структура категорий, что увеличит кон...      8       3   \n",
       "4  Изменить цвет фона главной страницы, чтобы уве...      3       1   \n",
       "\n",
       "   Confidence  Efforts  \n",
       "0           8        6  \n",
       "1           4       10  \n",
       "2           7        3  \n",
       "3           3        8  \n",
       "4           1        1  "
      ]
     },
     "metadata": {},
     "output_type": "display_data"
    },
    {
     "data": {
      "text/html": [
       "<div>\n",
       "<style scoped>\n",
       "    .dataframe tbody tr th:only-of-type {\n",
       "        vertical-align: middle;\n",
       "    }\n",
       "\n",
       "    .dataframe tbody tr th {\n",
       "        vertical-align: top;\n",
       "    }\n",
       "\n",
       "    .dataframe thead th {\n",
       "        text-align: right;\n",
       "    }\n",
       "</style>\n",
       "<table border=\"1\" class=\"dataframe\">\n",
       "  <thead>\n",
       "    <tr style=\"text-align: right;\">\n",
       "      <th></th>\n",
       "      <th>transactionId</th>\n",
       "      <th>visitorId</th>\n",
       "      <th>date</th>\n",
       "      <th>revenue</th>\n",
       "      <th>group</th>\n",
       "    </tr>\n",
       "  </thead>\n",
       "  <tbody>\n",
       "    <tr>\n",
       "      <th>0</th>\n",
       "      <td>3667963787</td>\n",
       "      <td>3312258926</td>\n",
       "      <td>2019-08-15</td>\n",
       "      <td>1650</td>\n",
       "      <td>B</td>\n",
       "    </tr>\n",
       "    <tr>\n",
       "      <th>1</th>\n",
       "      <td>2804400009</td>\n",
       "      <td>3642806036</td>\n",
       "      <td>2019-08-15</td>\n",
       "      <td>730</td>\n",
       "      <td>B</td>\n",
       "    </tr>\n",
       "    <tr>\n",
       "      <th>2</th>\n",
       "      <td>2961555356</td>\n",
       "      <td>4069496402</td>\n",
       "      <td>2019-08-15</td>\n",
       "      <td>400</td>\n",
       "      <td>A</td>\n",
       "    </tr>\n",
       "    <tr>\n",
       "      <th>3</th>\n",
       "      <td>3797467345</td>\n",
       "      <td>1196621759</td>\n",
       "      <td>2019-08-15</td>\n",
       "      <td>9759</td>\n",
       "      <td>B</td>\n",
       "    </tr>\n",
       "    <tr>\n",
       "      <th>4</th>\n",
       "      <td>2282983706</td>\n",
       "      <td>2322279887</td>\n",
       "      <td>2019-08-15</td>\n",
       "      <td>2308</td>\n",
       "      <td>B</td>\n",
       "    </tr>\n",
       "  </tbody>\n",
       "</table>\n",
       "</div>"
      ],
      "text/plain": [
       "   transactionId   visitorId        date  revenue group\n",
       "0     3667963787  3312258926  2019-08-15     1650     B\n",
       "1     2804400009  3642806036  2019-08-15      730     B\n",
       "2     2961555356  4069496402  2019-08-15      400     A\n",
       "3     3797467345  1196621759  2019-08-15     9759     B\n",
       "4     2282983706  2322279887  2019-08-15     2308     B"
      ]
     },
     "metadata": {},
     "output_type": "display_data"
    },
    {
     "data": {
      "text/html": [
       "<div>\n",
       "<style scoped>\n",
       "    .dataframe tbody tr th:only-of-type {\n",
       "        vertical-align: middle;\n",
       "    }\n",
       "\n",
       "    .dataframe tbody tr th {\n",
       "        vertical-align: top;\n",
       "    }\n",
       "\n",
       "    .dataframe thead th {\n",
       "        text-align: right;\n",
       "    }\n",
       "</style>\n",
       "<table border=\"1\" class=\"dataframe\">\n",
       "  <thead>\n",
       "    <tr style=\"text-align: right;\">\n",
       "      <th></th>\n",
       "      <th>date</th>\n",
       "      <th>group</th>\n",
       "      <th>visitors</th>\n",
       "    </tr>\n",
       "  </thead>\n",
       "  <tbody>\n",
       "    <tr>\n",
       "      <th>0</th>\n",
       "      <td>2019-08-01</td>\n",
       "      <td>A</td>\n",
       "      <td>719</td>\n",
       "    </tr>\n",
       "    <tr>\n",
       "      <th>1</th>\n",
       "      <td>2019-08-02</td>\n",
       "      <td>A</td>\n",
       "      <td>619</td>\n",
       "    </tr>\n",
       "    <tr>\n",
       "      <th>2</th>\n",
       "      <td>2019-08-03</td>\n",
       "      <td>A</td>\n",
       "      <td>507</td>\n",
       "    </tr>\n",
       "    <tr>\n",
       "      <th>3</th>\n",
       "      <td>2019-08-04</td>\n",
       "      <td>A</td>\n",
       "      <td>717</td>\n",
       "    </tr>\n",
       "    <tr>\n",
       "      <th>4</th>\n",
       "      <td>2019-08-05</td>\n",
       "      <td>A</td>\n",
       "      <td>756</td>\n",
       "    </tr>\n",
       "  </tbody>\n",
       "</table>\n",
       "</div>"
      ],
      "text/plain": [
       "         date group  visitors\n",
       "0  2019-08-01     A       719\n",
       "1  2019-08-02     A       619\n",
       "2  2019-08-03     A       507\n",
       "3  2019-08-04     A       717\n",
       "4  2019-08-05     A       756"
      ]
     },
     "metadata": {},
     "output_type": "display_data"
    }
   ],
   "source": [
    "try: #используем конструкцию try-except чтобы 100% прочитать файл\n",
    "    hypothesis_data = pd.read_csv('C:/Users/Полинария/Downloads/hypothesis.csv', sep=',') #чтение локально\n",
    "    orders_data = pd.read_csv('C:/Users/Полинария/Downloads/orders.csv', sep=',')\n",
    "    visitors_data = pd.read_csv('C:/Users/Полинария/Downloads/visitors.csv', sep=',')\n",
    "except:\n",
    "    hypothesis_data = pd.read_csv('/datasets/hypothesis.csv', sep=',') #чтение файла на сервере\n",
    "    orders_data = pd.read_csv('/datasets/orders.csv', sep=',')\n",
    "    visitors_data = pd.read_csv('/datasets/visitors.csv', sep=',')\n",
    "display(hypothesis_data.head()) #знакомимся с данными\n",
    "display(orders_data.head())\n",
    "display(visitors_data.head())"
   ]
  },
  {
   "cell_type": "markdown",
   "metadata": {},
   "source": [
    "### Преобразование и проверка данных  \n",
    "На прошлом шаге мы визуально познакомились с данными, сразу бросилось в глаза, что хочется поменять столбцы в таблице гипотез на названия со строчными буквами, кроме того посмотрим, сто нам покажет метод info() и проверим таблицы на пропуски и на дубликаты, чтобы убедиться, что можно начинать работу."
   ]
  },
  {
   "cell_type": "code",
   "execution_count": 4,
   "metadata": {},
   "outputs": [
    {
     "data": {
      "text/plain": [
       "Index(['hypothesis', 'reach', 'impact', 'confidence', 'efforts'], dtype='object')"
      ]
     },
     "metadata": {},
     "output_type": "display_data"
    },
    {
     "data": {
      "text/plain": [
       "Index(['transaction_id', 'visitor_id', 'date', 'revenue', 'group'], dtype='object')"
      ]
     },
     "metadata": {},
     "output_type": "display_data"
    },
    {
     "name": "stdout",
     "output_type": "stream",
     "text": [
      "<class 'pandas.core.frame.DataFrame'>\n",
      "RangeIndex: 9 entries, 0 to 8\n",
      "Data columns (total 5 columns):\n",
      " #   Column      Non-Null Count  Dtype \n",
      "---  ------      --------------  ----- \n",
      " 0   hypothesis  9 non-null      object\n",
      " 1   reach       9 non-null      int64 \n",
      " 2   impact      9 non-null      int64 \n",
      " 3   confidence  9 non-null      int64 \n",
      " 4   efforts     9 non-null      int64 \n",
      "dtypes: int64(4), object(1)\n",
      "memory usage: 488.0+ bytes\n",
      "<class 'pandas.core.frame.DataFrame'>\n",
      "RangeIndex: 1197 entries, 0 to 1196\n",
      "Data columns (total 5 columns):\n",
      " #   Column          Non-Null Count  Dtype \n",
      "---  ------          --------------  ----- \n",
      " 0   transaction_id  1197 non-null   int64 \n",
      " 1   visitor_id      1197 non-null   int64 \n",
      " 2   date            1197 non-null   object\n",
      " 3   revenue         1197 non-null   int64 \n",
      " 4   group           1197 non-null   object\n",
      "dtypes: int64(3), object(2)\n",
      "memory usage: 46.9+ KB\n",
      "<class 'pandas.core.frame.DataFrame'>\n",
      "RangeIndex: 62 entries, 0 to 61\n",
      "Data columns (total 3 columns):\n",
      " #   Column    Non-Null Count  Dtype \n",
      "---  ------    --------------  ----- \n",
      " 0   date      62 non-null     object\n",
      " 1   group     62 non-null     object\n",
      " 2   visitors  62 non-null     int64 \n",
      "dtypes: int64(1), object(2)\n",
      "memory usage: 1.6+ KB\n",
      "hypothesis    0.0\n",
      "reach         0.0\n",
      "impact        0.0\n",
      "confidence    0.0\n",
      "efforts       0.0\n",
      "dtype: float64\n",
      "transaction_id    0.0\n",
      "visitor_id        0.0\n",
      "date              0.0\n",
      "revenue           0.0\n",
      "group             0.0\n",
      "dtype: float64\n",
      "date        0.0\n",
      "group       0.0\n",
      "visitors    0.0\n",
      "dtype: float64\n",
      "Дубликатов в таблице с гипотезами выявлено: 0\n",
      "Дубликатов в таблице заказов выявлено: 0\n",
      "Дубликатов в таблице посетителей выявлено: 0\n"
     ]
    }
   ],
   "source": [
    "hypothesis_data.rename(columns = {'Hypothesis':'hypothesis', 'Reach':'reach', 'Impact':'impact', 'Confidence':'confidence', 'Efforts':'efforts'}, inplace = True)\n",
    "orders_data.rename(columns = {'transactionId':'transaction_id', 'visitorId':'visitor_id'}, inplace = True)\n",
    "display(hypothesis_data.columns) #проверяем\n",
    "display(orders_data.columns)\n",
    "\n",
    "orders_data['date'] = pd.to_datetime(orders_data['date']).dt.date #приводим к типу даты\n",
    "visitors_data['date'] = pd.to_datetime(visitors_data['date']).dt.date\n",
    "\n",
    "hypothesis_data.info() #посмотрим общую информацию о таблицах\n",
    "orders_data.info()\n",
    "visitors_data.info()\n",
    "\n",
    "print(round((hypothesis_data.isna().mean()*100),2)) #перепроверим себя и посмотрим процент пропусков по столбцам\n",
    "print(round((orders_data.isna().mean()*100),2))\n",
    "print(round((visitors_data.isna().mean()*100),2))\n",
    "\n",
    "print('Дубликатов в таблице с гипотезами выявлено:', hypothesis_data.duplicated().sum()) #убедимся, что в таблицах нет дубликатов\n",
    "print('Дубликатов в таблице заказов выявлено:', orders_data.duplicated().sum())\n",
    "print('Дубликатов в таблице посетителей выявлено:', visitors_data.duplicated().sum())"
   ]
  },
  {
   "cell_type": "markdown",
   "metadata": {},
   "source": [
    "###   Выводы по шагу:\n",
    "Данные считаны и подготовлены к дальнейшей работе: дубликатов нет, пропусков нет, типы данных приведены в нужный для последующего анализа вид, столбцы переименованы в сооответвии с общепринятыми правилами по оформлению."
   ]
  },
  {
   "cell_type": "markdown",
   "metadata": {},
   "source": [
    "## Приоретизация гипотез\n",
    "### Приоретизация по фреймворку ICE\n",
    "Проведем приоретизацию гипотез. Общая оценка по фреймворку ICE считается как отношение произведения баллов за параметры Impact и Confidence к параметру Efforts:"
   ]
  },
  {
   "cell_type": "code",
   "execution_count": 5,
   "metadata": {},
   "outputs": [
    {
     "data": {
      "text/html": [
       "<div>\n",
       "<style scoped>\n",
       "    .dataframe tbody tr th:only-of-type {\n",
       "        vertical-align: middle;\n",
       "    }\n",
       "\n",
       "    .dataframe tbody tr th {\n",
       "        vertical-align: top;\n",
       "    }\n",
       "\n",
       "    .dataframe thead th {\n",
       "        text-align: right;\n",
       "    }\n",
       "</style>\n",
       "<table border=\"1\" class=\"dataframe\">\n",
       "  <thead>\n",
       "    <tr style=\"text-align: right;\">\n",
       "      <th></th>\n",
       "      <th>hypothesis</th>\n",
       "      <th>ICE</th>\n",
       "    </tr>\n",
       "  </thead>\n",
       "  <tbody>\n",
       "    <tr>\n",
       "      <th>8</th>\n",
       "      <td>Запустить акцию, дающую скидку на товар в день рождения</td>\n",
       "      <td>16.200000</td>\n",
       "    </tr>\n",
       "    <tr>\n",
       "      <th>0</th>\n",
       "      <td>Добавить два новых канала привлечения трафика, что позволит привлекать на 30% больше пользователей</td>\n",
       "      <td>13.333333</td>\n",
       "    </tr>\n",
       "    <tr>\n",
       "      <th>7</th>\n",
       "      <td>Добавить форму подписки на все основные страницы, чтобы собрать базу клиентов для email-рассылок</td>\n",
       "      <td>11.200000</td>\n",
       "    </tr>\n",
       "    <tr>\n",
       "      <th>6</th>\n",
       "      <td>Показать на главной странице баннеры с актуальными акциями и распродажами, чтобы увеличить конверсию</td>\n",
       "      <td>8.000000</td>\n",
       "    </tr>\n",
       "    <tr>\n",
       "      <th>2</th>\n",
       "      <td>Добавить блоки рекомендаций товаров на сайт интернет магазина, чтобы повысить конверсию и средний чек заказа</td>\n",
       "      <td>7.000000</td>\n",
       "    </tr>\n",
       "    <tr>\n",
       "      <th>1</th>\n",
       "      <td>Запустить собственную службу доставки, что сократит срок доставки заказов</td>\n",
       "      <td>2.000000</td>\n",
       "    </tr>\n",
       "    <tr>\n",
       "      <th>5</th>\n",
       "      <td>Добавить страницу отзывов клиентов о магазине, что позволит увеличить количество заказов</td>\n",
       "      <td>1.333333</td>\n",
       "    </tr>\n",
       "    <tr>\n",
       "      <th>3</th>\n",
       "      <td>Изменить структура категорий, что увеличит конверсию, т.к. пользователи быстрее найдут нужный товар</td>\n",
       "      <td>1.125000</td>\n",
       "    </tr>\n",
       "    <tr>\n",
       "      <th>4</th>\n",
       "      <td>Изменить цвет фона главной страницы, чтобы увеличить вовлеченность пользователей</td>\n",
       "      <td>1.000000</td>\n",
       "    </tr>\n",
       "  </tbody>\n",
       "</table>\n",
       "</div>"
      ],
      "text/plain": [
       "                                                                                                     hypothesis  \\\n",
       "8                                                       Запустить акцию, дающую скидку на товар в день рождения   \n",
       "0            Добавить два новых канала привлечения трафика, что позволит привлекать на 30% больше пользователей   \n",
       "7              Добавить форму подписки на все основные страницы, чтобы собрать базу клиентов для email-рассылок   \n",
       "6          Показать на главной странице баннеры с актуальными акциями и распродажами, чтобы увеличить конверсию   \n",
       "2  Добавить блоки рекомендаций товаров на сайт интернет магазина, чтобы повысить конверсию и средний чек заказа   \n",
       "1                                     Запустить собственную службу доставки, что сократит срок доставки заказов   \n",
       "5                      Добавить страницу отзывов клиентов о магазине, что позволит увеличить количество заказов   \n",
       "3           Изменить структура категорий, что увеличит конверсию, т.к. пользователи быстрее найдут нужный товар   \n",
       "4                              Изменить цвет фона главной страницы, чтобы увеличить вовлеченность пользователей   \n",
       "\n",
       "         ICE  \n",
       "8  16.200000  \n",
       "0  13.333333  \n",
       "7  11.200000  \n",
       "6   8.000000  \n",
       "2   7.000000  \n",
       "1   2.000000  \n",
       "5   1.333333  \n",
       "3   1.125000  \n",
       "4   1.000000  "
      ]
     },
     "execution_count": 5,
     "metadata": {},
     "output_type": "execute_result"
    }
   ],
   "source": [
    "hypothesis_data['ICE'] = (\n",
    "    (hypothesis_data['impact'] * hypothesis_data['confidence']) / hypothesis_data['efforts'])\n",
    "pd.set_option('display.max_columns', None) \n",
    "pd.options.display.max_colwidth = 150 \n",
    "hypothesis_data[['hypothesis','ICE']].sort_values(by = 'ICE', ascending = False)\n"
   ]
  },
  {
   "cell_type": "markdown",
   "metadata": {},
   "source": [
    "Наиболее перспективные гипотезы - 8, 0 и 7. Остальные гипотезы уже слишком сильно уступают (например 6ая, которая на 4ом месте имеет менее половины ценности топ-1 гипотезы).  \n",
    "### Приоретизация по фреймворку RICE  \n",
    "Посмотрим изменится ли что нибудь, если мы используем другой метод определения наиболее перспективных гипотез. Общая оценка по фреймворку RICE считается почти также как ICE, но в числителе в произведение добавляется еще параметр Reach:"
   ]
  },
  {
   "cell_type": "code",
   "execution_count": 6,
   "metadata": {},
   "outputs": [
    {
     "data": {
      "text/html": [
       "<div>\n",
       "<style scoped>\n",
       "    .dataframe tbody tr th:only-of-type {\n",
       "        vertical-align: middle;\n",
       "    }\n",
       "\n",
       "    .dataframe tbody tr th {\n",
       "        vertical-align: top;\n",
       "    }\n",
       "\n",
       "    .dataframe thead th {\n",
       "        text-align: right;\n",
       "    }\n",
       "</style>\n",
       "<table border=\"1\" class=\"dataframe\">\n",
       "  <thead>\n",
       "    <tr style=\"text-align: right;\">\n",
       "      <th></th>\n",
       "      <th>hypothesis</th>\n",
       "      <th>RICE</th>\n",
       "    </tr>\n",
       "  </thead>\n",
       "  <tbody>\n",
       "    <tr>\n",
       "      <th>7</th>\n",
       "      <td>Добавить форму подписки на все основные страницы, чтобы собрать базу клиентов для email-рассылок</td>\n",
       "      <td>112.0</td>\n",
       "    </tr>\n",
       "    <tr>\n",
       "      <th>2</th>\n",
       "      <td>Добавить блоки рекомендаций товаров на сайт интернет магазина, чтобы повысить конверсию и средний чек заказа</td>\n",
       "      <td>56.0</td>\n",
       "    </tr>\n",
       "    <tr>\n",
       "      <th>0</th>\n",
       "      <td>Добавить два новых канала привлечения трафика, что позволит привлекать на 30% больше пользователей</td>\n",
       "      <td>40.0</td>\n",
       "    </tr>\n",
       "    <tr>\n",
       "      <th>6</th>\n",
       "      <td>Показать на главной странице баннеры с актуальными акциями и распродажами, чтобы увеличить конверсию</td>\n",
       "      <td>40.0</td>\n",
       "    </tr>\n",
       "    <tr>\n",
       "      <th>8</th>\n",
       "      <td>Запустить акцию, дающую скидку на товар в день рождения</td>\n",
       "      <td>16.2</td>\n",
       "    </tr>\n",
       "    <tr>\n",
       "      <th>3</th>\n",
       "      <td>Изменить структура категорий, что увеличит конверсию, т.к. пользователи быстрее найдут нужный товар</td>\n",
       "      <td>9.0</td>\n",
       "    </tr>\n",
       "    <tr>\n",
       "      <th>1</th>\n",
       "      <td>Запустить собственную службу доставки, что сократит срок доставки заказов</td>\n",
       "      <td>4.0</td>\n",
       "    </tr>\n",
       "    <tr>\n",
       "      <th>5</th>\n",
       "      <td>Добавить страницу отзывов клиентов о магазине, что позволит увеличить количество заказов</td>\n",
       "      <td>4.0</td>\n",
       "    </tr>\n",
       "    <tr>\n",
       "      <th>4</th>\n",
       "      <td>Изменить цвет фона главной страницы, чтобы увеличить вовлеченность пользователей</td>\n",
       "      <td>3.0</td>\n",
       "    </tr>\n",
       "  </tbody>\n",
       "</table>\n",
       "</div>"
      ],
      "text/plain": [
       "                                                                                                     hypothesis  \\\n",
       "7              Добавить форму подписки на все основные страницы, чтобы собрать базу клиентов для email-рассылок   \n",
       "2  Добавить блоки рекомендаций товаров на сайт интернет магазина, чтобы повысить конверсию и средний чек заказа   \n",
       "0            Добавить два новых канала привлечения трафика, что позволит привлекать на 30% больше пользователей   \n",
       "6          Показать на главной странице баннеры с актуальными акциями и распродажами, чтобы увеличить конверсию   \n",
       "8                                                       Запустить акцию, дающую скидку на товар в день рождения   \n",
       "3           Изменить структура категорий, что увеличит конверсию, т.к. пользователи быстрее найдут нужный товар   \n",
       "1                                     Запустить собственную службу доставки, что сократит срок доставки заказов   \n",
       "5                      Добавить страницу отзывов клиентов о магазине, что позволит увеличить количество заказов   \n",
       "4                              Изменить цвет фона главной страницы, чтобы увеличить вовлеченность пользователей   \n",
       "\n",
       "    RICE  \n",
       "7  112.0  \n",
       "2   56.0  \n",
       "0   40.0  \n",
       "6   40.0  \n",
       "8   16.2  \n",
       "3    9.0  \n",
       "1    4.0  \n",
       "5    4.0  \n",
       "4    3.0  "
      ]
     },
     "execution_count": 6,
     "metadata": {},
     "output_type": "execute_result"
    }
   ],
   "source": [
    "hypothesis_data['RICE'] = (\n",
    "    (hypothesis_data['reach'] * hypothesis_data['impact'] * hypothesis_data['confidence']) / hypothesis_data['efforts'])\n",
    "\n",
    "hypothesis_data[['hypothesis','RICE']].sort_values(by = 'RICE', ascending = False)"
   ]
  },
  {
   "cell_type": "markdown",
   "metadata": {},
   "source": [
    "### Приоретизация гипотез. Выводы:"
   ]
  },
  {
   "cell_type": "code",
   "execution_count": 7,
   "metadata": {},
   "outputs": [
    {
     "data": {
      "text/html": [
       "<div>\n",
       "<style scoped>\n",
       "    .dataframe tbody tr th:only-of-type {\n",
       "        vertical-align: middle;\n",
       "    }\n",
       "\n",
       "    .dataframe tbody tr th {\n",
       "        vertical-align: top;\n",
       "    }\n",
       "\n",
       "    .dataframe thead th {\n",
       "        text-align: right;\n",
       "    }\n",
       "</style>\n",
       "<table border=\"1\" class=\"dataframe\">\n",
       "  <thead>\n",
       "    <tr style=\"text-align: right;\">\n",
       "      <th></th>\n",
       "      <th>hypothesis</th>\n",
       "      <th>ICE</th>\n",
       "      <th>RICE</th>\n",
       "    </tr>\n",
       "  </thead>\n",
       "  <tbody>\n",
       "    <tr>\n",
       "      <th>7</th>\n",
       "      <td>Добавить форму подписки на все основные страницы, чтобы собрать базу клиентов для email-рассылок</td>\n",
       "      <td>11.200000</td>\n",
       "      <td>112.0</td>\n",
       "    </tr>\n",
       "    <tr>\n",
       "      <th>2</th>\n",
       "      <td>Добавить блоки рекомендаций товаров на сайт интернет магазина, чтобы повысить конверсию и средний чек заказа</td>\n",
       "      <td>7.000000</td>\n",
       "      <td>56.0</td>\n",
       "    </tr>\n",
       "    <tr>\n",
       "      <th>0</th>\n",
       "      <td>Добавить два новых канала привлечения трафика, что позволит привлекать на 30% больше пользователей</td>\n",
       "      <td>13.333333</td>\n",
       "      <td>40.0</td>\n",
       "    </tr>\n",
       "    <tr>\n",
       "      <th>6</th>\n",
       "      <td>Показать на главной странице баннеры с актуальными акциями и распродажами, чтобы увеличить конверсию</td>\n",
       "      <td>8.000000</td>\n",
       "      <td>40.0</td>\n",
       "    </tr>\n",
       "    <tr>\n",
       "      <th>8</th>\n",
       "      <td>Запустить акцию, дающую скидку на товар в день рождения</td>\n",
       "      <td>16.200000</td>\n",
       "      <td>16.2</td>\n",
       "    </tr>\n",
       "    <tr>\n",
       "      <th>3</th>\n",
       "      <td>Изменить структура категорий, что увеличит конверсию, т.к. пользователи быстрее найдут нужный товар</td>\n",
       "      <td>1.125000</td>\n",
       "      <td>9.0</td>\n",
       "    </tr>\n",
       "    <tr>\n",
       "      <th>1</th>\n",
       "      <td>Запустить собственную службу доставки, что сократит срок доставки заказов</td>\n",
       "      <td>2.000000</td>\n",
       "      <td>4.0</td>\n",
       "    </tr>\n",
       "    <tr>\n",
       "      <th>5</th>\n",
       "      <td>Добавить страницу отзывов клиентов о магазине, что позволит увеличить количество заказов</td>\n",
       "      <td>1.333333</td>\n",
       "      <td>4.0</td>\n",
       "    </tr>\n",
       "    <tr>\n",
       "      <th>4</th>\n",
       "      <td>Изменить цвет фона главной страницы, чтобы увеличить вовлеченность пользователей</td>\n",
       "      <td>1.000000</td>\n",
       "      <td>3.0</td>\n",
       "    </tr>\n",
       "  </tbody>\n",
       "</table>\n",
       "</div>"
      ],
      "text/plain": [
       "                                                                                                     hypothesis  \\\n",
       "7              Добавить форму подписки на все основные страницы, чтобы собрать базу клиентов для email-рассылок   \n",
       "2  Добавить блоки рекомендаций товаров на сайт интернет магазина, чтобы повысить конверсию и средний чек заказа   \n",
       "0            Добавить два новых канала привлечения трафика, что позволит привлекать на 30% больше пользователей   \n",
       "6          Показать на главной странице баннеры с актуальными акциями и распродажами, чтобы увеличить конверсию   \n",
       "8                                                       Запустить акцию, дающую скидку на товар в день рождения   \n",
       "3           Изменить структура категорий, что увеличит конверсию, т.к. пользователи быстрее найдут нужный товар   \n",
       "1                                     Запустить собственную службу доставки, что сократит срок доставки заказов   \n",
       "5                      Добавить страницу отзывов клиентов о магазине, что позволит увеличить количество заказов   \n",
       "4                              Изменить цвет фона главной страницы, чтобы увеличить вовлеченность пользователей   \n",
       "\n",
       "         ICE   RICE  \n",
       "7  11.200000  112.0  \n",
       "2   7.000000   56.0  \n",
       "0  13.333333   40.0  \n",
       "6   8.000000   40.0  \n",
       "8  16.200000   16.2  \n",
       "3   1.125000    9.0  \n",
       "1   2.000000    4.0  \n",
       "5   1.333333    4.0  \n",
       "4   1.000000    3.0  "
      ]
     },
     "execution_count": 7,
     "metadata": {},
     "output_type": "execute_result"
    }
   ],
   "source": [
    "hypothesis_data[['hypothesis','ICE','RICE']].sort_values(by = 'RICE', ascending = False)"
   ]
  },
  {
   "cell_type": "markdown",
   "metadata": {},
   "source": [
    "Несмотря на то, что топ-5 остался прежним (ну хоть почти половину отсекли!) внутри топ-5 все переигралось. Это связано с тем, что фреймворк RICE учитывает параметр Reach, который отвечает за охват. Таким образом мы понимаем, что если говорить о топ-5, то изменения, предложенные в гипотезах 7, 2 и 0 коснуться большего количества пользователей, чем 8, которая лидировала по фреймворку RICE.  \n",
    "При выборе гипотезы, как мне кажется, стоит отталкиваться от задачи, которую мы перед собой ставим. Таким образом если нас волнует охват, то стоит обратиться к фреймворку RICE, однако если нас волнует то насколько сильно например гипотеза повлияет на определенный сегмент, мы его знаем и охват нас не волнует, то лучше обратиться к фреймворку ICE.  "
   ]
  },
  {
   "cell_type": "markdown",
   "metadata": {},
   "source": [
    "\n",
    "## Анализ A/B теста\n",
    "#### Определение дат начала и окончания теста, проверка на пересечения  \n",
    "Проверим временной интервал и сразу же посмотрим есть ли пересечения в группах:"
   ]
  },
  {
   "cell_type": "code",
   "execution_count": 8,
   "metadata": {},
   "outputs": [
    {
     "data": {
      "text/html": [
       "<div>\n",
       "<style scoped>\n",
       "    .dataframe tbody tr th:only-of-type {\n",
       "        vertical-align: middle;\n",
       "    }\n",
       "\n",
       "    .dataframe tbody tr th {\n",
       "        vertical-align: top;\n",
       "    }\n",
       "\n",
       "    .dataframe thead th {\n",
       "        text-align: right;\n",
       "    }\n",
       "</style>\n",
       "<table border=\"1\" class=\"dataframe\">\n",
       "  <thead>\n",
       "    <tr style=\"text-align: right;\">\n",
       "      <th></th>\n",
       "      <th>date</th>\n",
       "    </tr>\n",
       "    <tr>\n",
       "      <th>group</th>\n",
       "      <th></th>\n",
       "    </tr>\n",
       "  </thead>\n",
       "  <tbody>\n",
       "    <tr>\n",
       "      <th>A</th>\n",
       "      <td>2019-08-01</td>\n",
       "    </tr>\n",
       "    <tr>\n",
       "      <th>B</th>\n",
       "      <td>2019-08-01</td>\n",
       "    </tr>\n",
       "  </tbody>\n",
       "</table>\n",
       "</div>"
      ],
      "text/plain": [
       "             date\n",
       "group            \n",
       "A      2019-08-01\n",
       "B      2019-08-01"
      ]
     },
     "metadata": {},
     "output_type": "display_data"
    },
    {
     "data": {
      "text/html": [
       "<div>\n",
       "<style scoped>\n",
       "    .dataframe tbody tr th:only-of-type {\n",
       "        vertical-align: middle;\n",
       "    }\n",
       "\n",
       "    .dataframe tbody tr th {\n",
       "        vertical-align: top;\n",
       "    }\n",
       "\n",
       "    .dataframe thead th {\n",
       "        text-align: right;\n",
       "    }\n",
       "</style>\n",
       "<table border=\"1\" class=\"dataframe\">\n",
       "  <thead>\n",
       "    <tr style=\"text-align: right;\">\n",
       "      <th></th>\n",
       "      <th>date</th>\n",
       "    </tr>\n",
       "    <tr>\n",
       "      <th>group</th>\n",
       "      <th></th>\n",
       "    </tr>\n",
       "  </thead>\n",
       "  <tbody>\n",
       "    <tr>\n",
       "      <th>A</th>\n",
       "      <td>2019-08-31</td>\n",
       "    </tr>\n",
       "    <tr>\n",
       "      <th>B</th>\n",
       "      <td>2019-08-31</td>\n",
       "    </tr>\n",
       "  </tbody>\n",
       "</table>\n",
       "</div>"
      ],
      "text/plain": [
       "             date\n",
       "group            \n",
       "A      2019-08-31\n",
       "B      2019-08-31"
      ]
     },
     "metadata": {},
     "output_type": "display_data"
    },
    {
     "data": {
      "text/plain": [
       "group    116\n",
       "dtype: int64"
      ]
     },
     "metadata": {},
     "output_type": "display_data"
    },
    {
     "data": {
      "text/plain": [
       "1031"
      ]
     },
     "metadata": {},
     "output_type": "display_data"
    }
   ],
   "source": [
    "display(visitors_data.groupby('group').agg({'date':'first'}))\n",
    "display(visitors_data.groupby('group').agg({'date':'last'}))\n",
    "display(orders_data.groupby(['visitor_id']) #группируем по айди\n",
    "       .agg({'group':'nunique'}) #считаем количество групп для каждого айди\n",
    "       .query('group > 1')  #выводим результат, где групп больше 1\n",
    "       .sum()\n",
    ") #выводим общее количество\n",
    "\n",
    "display(orders_data['visitor_id'].nunique())"
   ]
  },
  {
   "cell_type": "markdown",
   "metadata": {},
   "source": [
    "\n",
    "Мы определили временной интервал теста: август 2019 года. Что касается пересекающихся пользователей они составляют около 10% от общего количества испытуемых. Однако мне кажется, что если у нас есть transaction_id мы точно знаем куда именно отнести покупку к группе А или Б. Я не знаю какую гипотезу проверяли в рамках теста, но знание об этом помогло бы сделать более точные выводы о том, будут эти 10% репрезентативными или наоборот будуь искажать результат. В данном случае нам важна конверсия и средний чек, которые мы сможем определить по transaction_id поэтому не хочется отказываться от 10% итак небольшого датасета.</div> "
   ]
  },
  {
   "cell_type": "markdown",
   "metadata": {},
   "source": [
    "#### Проверка гипотезы о равенстве долей\n",
    "Прежде всего перед анализом результатов А/В теста проверим гипотезу о равенстве долей (группа А и группа В):"
   ]
  },
  {
   "cell_type": "code",
   "execution_count": 9,
   "metadata": {},
   "outputs": [
    {
     "data": {
      "text/html": [
       "<div>\n",
       "<style scoped>\n",
       "    .dataframe tbody tr th:only-of-type {\n",
       "        vertical-align: middle;\n",
       "    }\n",
       "\n",
       "    .dataframe tbody tr th {\n",
       "        vertical-align: top;\n",
       "    }\n",
       "\n",
       "    .dataframe thead th {\n",
       "        text-align: right;\n",
       "    }\n",
       "</style>\n",
       "<table border=\"1\" class=\"dataframe\">\n",
       "  <thead>\n",
       "    <tr style=\"text-align: right;\">\n",
       "      <th></th>\n",
       "      <th>visitor_id</th>\n",
       "    </tr>\n",
       "    <tr>\n",
       "      <th>group</th>\n",
       "      <th></th>\n",
       "    </tr>\n",
       "  </thead>\n",
       "  <tbody>\n",
       "    <tr>\n",
       "      <th>A</th>\n",
       "      <td>503</td>\n",
       "    </tr>\n",
       "    <tr>\n",
       "      <th>B</th>\n",
       "      <td>586</td>\n",
       "    </tr>\n",
       "  </tbody>\n",
       "</table>\n",
       "</div>"
      ],
      "text/plain": [
       "       visitor_id\n",
       "group            \n",
       "A             503\n",
       "B             586"
      ]
     },
     "metadata": {},
     "output_type": "display_data"
    },
    {
     "data": {
      "text/html": [
       "<div>\n",
       "<style scoped>\n",
       "    .dataframe tbody tr th:only-of-type {\n",
       "        vertical-align: middle;\n",
       "    }\n",
       "\n",
       "    .dataframe tbody tr th {\n",
       "        vertical-align: top;\n",
       "    }\n",
       "\n",
       "    .dataframe thead th {\n",
       "        text-align: right;\n",
       "    }\n",
       "</style>\n",
       "<table border=\"1\" class=\"dataframe\">\n",
       "  <thead>\n",
       "    <tr style=\"text-align: right;\">\n",
       "      <th></th>\n",
       "      <th>visitors</th>\n",
       "    </tr>\n",
       "    <tr>\n",
       "      <th>group</th>\n",
       "      <th></th>\n",
       "    </tr>\n",
       "  </thead>\n",
       "  <tbody>\n",
       "    <tr>\n",
       "      <th>A</th>\n",
       "      <td>18736</td>\n",
       "    </tr>\n",
       "    <tr>\n",
       "      <th>B</th>\n",
       "      <td>18916</td>\n",
       "    </tr>\n",
       "  </tbody>\n",
       "</table>\n",
       "</div>"
      ],
      "text/plain": [
       "       visitors\n",
       "group          \n",
       "A         18736\n",
       "B         18916"
      ]
     },
     "metadata": {},
     "output_type": "display_data"
    }
   ],
   "source": [
    "display(orders_data.groupby('group').agg({'visitor_id':'nunique'})) # смотрим количество покупателей в группах\n",
    "display(visitors_data.groupby('group').agg({'visitors':'sum'})) # смотрим количество поситителей в группах"
   ]
  },
  {
   "cell_type": "markdown",
   "metadata": {},
   "source": [
    "На глазок ничего не получится сказать о равенстве долей, поэтому приступим к проверке гипотезы о том, что доли равны:"
   ]
  },
  {
   "cell_type": "code",
   "execution_count": 10,
   "metadata": {},
   "outputs": [
    {
     "name": "stdout",
     "output_type": "stream",
     "text": [
      "p-значение:  0.016744645350056153\n",
      "Отвергаем нулевую гипотезу: между долями есть значимая разница\n"
     ]
    }
   ],
   "source": [
    "alpha = 0.05 # критический уровень статистической значимости\n",
    "\n",
    "\n",
    "\n",
    "purchases = np.array([orders_data.query('group == \"A\"')['visitor_id'].nunique(), orders_data.query('group == \"B\"')['visitor_id'].nunique()])\n",
    "leads = np.array([visitors_data.query('group == \"A\"')['visitors'].sum(), visitors_data.query('group == \"B\"')['visitors'].sum()])\n",
    "\n",
    "p1 = purchases[0]/leads[0] #пропорции покупок в разрезе по группам\n",
    "p2 = purchases[1]/leads[1]\n",
    "\n",
    "p_combined = (purchases[0] + purchases[1]) / (leads[0] + leads[1]) #пропорция покупок в комбинированном датасете\n",
    "difference = p1 - p2 #разница пропорций\n",
    "\n",
    "z_value = difference / mt.sqrt(p_combined * (1 - p_combined) * (1/leads[0] + 1/leads[1])) # считаем статистику в ст.отклонениях стандартного нормального распределения\n",
    "distr = st.norm(0, 1) # задаем стандартное нормальное распределение \n",
    "\n",
    "p_value = (1 - distr.cdf(abs(z_value))) * 2\n",
    "\n",
    "print('p-значение: ', p_value)\n",
    "\n",
    "if p_value < alpha:\n",
    "    print('Отвергаем нулевую гипотезу: между долями есть значимая разница')\n",
    "else:\n",
    "    print(\n",
    "        'Не получилось отвергнуть нулевую гипотезу, нет оснований считать доли разными'\n",
    "    )"
   ]
  },
  {
   "cell_type": "markdown",
   "metadata": {},
   "source": [
    "Получается, что разница конверсии регистраций в заказ есть.  \n",
    "#### Проверка распредления ежедневного количества посетителей на нормальность\n",
    "Перед тием как переходить к чек листу проделаем еще одну замечательную вещь, проверим, нормально ли распределено ежедневное количество поситителей, для этого применим критерий Шапиро-Уилка: "
   ]
  },
  {
   "cell_type": "code",
   "execution_count": 11,
   "metadata": {},
   "outputs": [
    {
     "name": "stdout",
     "output_type": "stream",
     "text": [
      "p-значение:  0.002020221436396241\n",
      "Отвергаем нулевую гипотезу: распределение не нормально\n"
     ]
    }
   ],
   "source": [
    "temp = visitors_data['visitors'].values #делаем список значений переменной, которая отраждает количество ежедневных пользователей\n",
    "#display(temp) #проверка\n",
    "alpha = 0.05  # критический уровень статистической значимости\n",
    "\n",
    "results = st.shapiro(temp)\n",
    "p_value = results[1]  # второе значение в массиве результатов (с индексом 1) - p-value\n",
    "\n",
    "print('p-значение: ', p_value)\n",
    "\n",
    "if p_value < alpha:\n",
    "    print('Отвергаем нулевую гипотезу: распределение не нормально')\n",
    "else:\n",
    "    print('Не получилось отвергнуть нулевую гипотезу, всё нормально')"
   ]
  },
  {
   "cell_type": "markdown",
   "metadata": {},
   "source": [
    "Вот досада! Получается в данных есть большие выбросы :С А что если нам теперь провести непараметрический тест Уилкоксона-Манна-Уитни, вдруг он нам подскажет, покупают пользователи из группы В больше или нет.\n",
    "#### Непараметрический тест. Критерий Манна-Уитни."
   ]
  },
  {
   "cell_type": "markdown",
   "metadata": {},
   "source": [
    "Сформулируем нулевую гипотезу: средние чеки группы А и группы В равны.</div> "
   ]
  },
  {
   "cell_type": "code",
   "execution_count": 12,
   "metadata": {},
   "outputs": [
    {
     "name": "stdout",
     "output_type": "stream",
     "text": [
      "p-значение:  0.7292909855432458\n",
      "Не получилось отвергнуть нулевую гипотезу, вывод о различии сделать нельзя\n"
     ]
    }
   ],
   "source": [
    "sales_a = orders_data.query('group ==\"A\"')['revenue'].values #формируем массив данных\n",
    "sales_b = orders_data.query('group ==\"B\"')['revenue'].values\n",
    "\n",
    "alpha = 0.05  # критический уровень статистической значимости\n",
    "\n",
    "results = st.mannwhitneyu(sales_a, sales_b)\n",
    "\n",
    "print('p-значение: ', results.pvalue)\n",
    "\n",
    "if results.pvalue < alpha:\n",
    "    print('Отвергаем нулевую гипотезу: разница статистически значима')\n",
    "else:\n",
    "    print(\n",
    "        'Не получилось отвергнуть нулевую гипотезу, вывод о различии сделать нельзя'\n",
    "    )"
   ]
  },
  {
   "cell_type": "markdown",
   "metadata": {},
   "source": [
    "Опять досада, вывод о различии сделать нельзя, значит мы не можем сказать, покупают ли пользователи из какой то группы лучше или нет, а значит и не можем оценить результаты А/В тестирования. Чтож видимо приступаем к нашему чек-листу из описания проекта.  \n",
    "\n",
    "### Кумулятивная выручка по группам\n",
    "Чтобы построить графики, нужно собрать кумулятивные данные. Поэтому соберем датасет cumulative_data со столбцами:   \n",
    "•\tdate — дата;  \n",
    "•\tgroup — группа A/B-теста (A или B);  \n",
    "•\torders — кумулятивное количество заказов на указанную дату в указанной группе;  \n",
    "•\tbuyers — кумулятивное количество пользователей, совершивших хотя бы один заказ, на указанную дату в указанной группе;  \n",
    "•\trevenue — кумулятивная выручка на указанную дату в указанной группе (средний чек);  \n",
    "•\tvisitors — кумулятивное количество посетителей интернет-магазина на указанную дату в определённой группе.  \n"
   ]
  },
  {
   "cell_type": "code",
   "execution_count": 13,
   "metadata": {},
   "outputs": [
    {
     "name": "stdout",
     "output_type": "stream",
     "text": [
      "         date group  orders  buyers  revenue  visitors\n",
      "0  2019-08-01     A      24      20   148579       719\n",
      "1  2019-08-01     B      21      20   101217       713\n",
      "2  2019-08-02     A      44      38   242401      1338\n",
      "3  2019-08-02     B      45      43   266748      1294\n",
      "4  2019-08-03     A      68      62   354874      1845\n"
     ]
    }
   ],
   "source": [
    "# создаем массив уникальных пар значений дат и групп теста\n",
    "datesGroups = orders_data[['date','group']].drop_duplicates()\n",
    "# получаем агрегированные кумулятивные по дням данные о заказах \n",
    "ordersAggregated = datesGroups.apply(lambda x: orders_data[np.logical_and(orders_data['date'] <= x['date'], orders_data['group'] == x['group'])].agg({'date' : 'max', 'group' : 'max', 'transaction_id' : 'nunique', 'visitor_id' : 'nunique', 'revenue' : 'sum'}), axis=1).sort_values(by=['date','group'])\n",
    "# получаем агрегированные кумулятивные по дням данные о посетителях интернет-магазина \n",
    "visitorsAggregated = datesGroups.apply(lambda x: visitors_data[np.logical_and(visitors_data['date'] <= x['date'], visitors_data['group'] == x['group'])].agg({'date' : 'max', 'group' : 'max', 'visitors' : 'sum'}), axis=1).sort_values(by=['date','group'])\n",
    "# объединяем кумулятивные данные в одной таблице и присваиваем ее столбцам понятные названия\n",
    "cumulativeData = ordersAggregated.merge(visitorsAggregated, left_on=['date', 'group'], right_on=['date', 'group'])\n",
    "cumulativeData.columns = ['date', 'group', 'orders', 'buyers', 'revenue', 'visitors']\n",
    "\n",
    "print(cumulativeData.head(5))\n"
   ]
  },
  {
   "cell_type": "markdown",
   "metadata": {},
   "source": [
    "Теперь мы можем построить графики кумулятивной выручки по дням и группам:"
   ]
  },
  {
   "cell_type": "code",
   "execution_count": 20,
   "metadata": {},
   "outputs": [
    {
     "data": {
      "image/png": "[encoded data removed]",
      "text/plain": [
       "<Figure size 720x360 with 1 Axes>"
      ]
     },
     "metadata": {
      "needs_background": "light"
     },
     "output_type": "display_data"
    }
   ],
   "source": [
    "# датафрейм с кумулятивным количеством заказов и кумулятивной выручкой по дням в группе А\n",
    "cumulativeRevenueA = cumulativeData[cumulativeData['group']=='A'][['date','revenue', 'orders']]\n",
    "\n",
    "# датафрейм с кумулятивным количеством заказов и кумулятивной выручкой по дням в группе B\n",
    "cumulativeRevenueB = cumulativeData[cumulativeData['group']=='B'][['date','revenue', 'orders']]\n",
    "\n",
    "plt.figure(figsize=(10, 5)) #задаем размер графика, чтобы было видно даты\n",
    "\n",
    "# Строим график выручки группы А\n",
    "plt.plot(cumulativeRevenueA['date'], cumulativeRevenueA['revenue'], label='A')\n",
    "\n",
    "# Строим график выручки группы B\n",
    "plt.plot(cumulativeRevenueB['date'], cumulativeRevenueB['revenue'], label='B') \n",
    "plt.title('Кумулятивная выручка по группам')\n",
    "plt.xlabel('Дата')\n",
    "plt.ylabel('Млн. руб')\n",
    "plt.legend(['Контрольная группа А', 'Тестовая группа В'])\n",
    "\n",
    "plt.show() \n"
   ]
  },
  {
   "cell_type": "markdown",
   "metadata": {},
   "source": [
    "В каждой группе выручка почти равномерно увеличивается. Однако в графике группы В есть точка, где выручка резко растет. Скорее всего это свидетельство либо большого всплеска заказов, либо, что на мой взгляд более логично, появлении очень дорогого заказа в выборке. Чтож по чек листу работа с выбросами нам предстоит далее. А пок ане будем слишком забегать вперед и построим график кумулятивного среднего чека.\n",
    "### Кумулятивный средний чек по группам\n",
    "Тут все просто: чтобы получить средний чек разделим кумулятивную выручку, на кумулятивное число заказов:"
   ]
  },
  {
   "cell_type": "code",
   "execution_count": 14,
   "metadata": {},
   "outputs": [
    {
     "data": {
      "image/png": "[encoded data removed]",
      "text/plain": [
       "<Figure size 720x360 with 1 Axes>"
      ]
     },
     "metadata": {
      "needs_background": "light"
     },
     "output_type": "display_data"
    }
   ],
   "source": [
    "plt.figure(figsize=(10, 5))\n",
    "plt.plot(cumulativeRevenueA['date'], cumulativeRevenueA['revenue']/cumulativeRevenueA['orders'], label='A')\n",
    "plt.plot(cumulativeRevenueB['date'], cumulativeRevenueB['revenue']/cumulativeRevenueB['orders'], label='B')\n",
    "plt.title('Кумулятивный средний чек по группам')\n",
    "plt.xlabel('Дата')\n",
    "plt.ylabel('Руб')\n",
    "plt.legend(['Контрольная группа А', 'Тестовая группа В']) \n",
    "plt.show()"
   ]
  },
  {
   "cell_type": "markdown",
   "metadata": {},
   "source": [
    "Воу, если средний чек группы А после довольно резкого подъема вроде как устаканился, то средний чек группы В резко вырос и демонтрирует тенденцию к снижению, а продолжилась бы она, если бы тест проводился дольше? Ответим на эти вопросы чуть позже, а пока построим график\n",
    "### График относительного различия для среднего чека групп А и В"
   ]
  },
  {
   "cell_type": "code",
   "execution_count": 15,
   "metadata": {},
   "outputs": [
    {
     "data": {
      "image/png": "[encoded data removed]",
      "text/plain": [
       "<Figure size 720x360 with 1 Axes>"
      ]
     },
     "metadata": {
      "needs_background": "light"
     },
     "output_type": "display_data"
    }
   ],
   "source": [
    "# собираем данные в одном датафрейме\n",
    "mergedCumulativeRevenue = cumulativeRevenueA.merge(cumulativeRevenueB, left_on='date', right_on='date', how='left', suffixes=['A', 'B'])\n",
    "\n",
    "plt.figure(figsize=(10, 5)) \n",
    "# cтроим отношение средних чеков\n",
    "plt.plot(mergedCumulativeRevenue['date'], (mergedCumulativeRevenue['revenueB']/mergedCumulativeRevenue['ordersB'])/(mergedCumulativeRevenue['revenueA']/mergedCumulativeRevenue['ordersA'])-1)\n",
    "\n",
    "# добавляем ось X\n",
    "plt.axhline(y=0, color='black', linestyle='--')\n",
    "plt.title('Относительное различие среднего чека')\n",
    "plt.xlabel('Дата')\n",
    "plt.ylabel('%')\n",
    "plt.legend(['Динамика различия'])\n",
    "plt.show()"
   ]
  },
  {
   "cell_type": "markdown",
   "metadata": {},
   "source": [
    "У графика есть пики, которые могут свидетесьтвовать о выбросах. Влюбом случае, пока что практически все время средний чек группы В выше. \n",
    "### График кумулятивной конверсии"
   ]
  },
  {
   "cell_type": "code",
   "execution_count": 16,
   "metadata": {},
   "outputs": [
    {
     "data": {
      "image/png": "[encoded data removed]",
      "text/plain": [
       "<Figure size 720x360 with 1 Axes>"
      ]
     },
     "metadata": {
      "needs_background": "light"
     },
     "output_type": "display_data"
    }
   ],
   "source": [
    "# считаем кумулятивную конверсию\n",
    "cumulativeData['conversion'] = cumulativeData['orders']/cumulativeData['visitors']\n",
    "\n",
    "# отделяем данные по группе A\n",
    "cumulativeDataA = cumulativeData[cumulativeData['group']=='A']\n",
    "\n",
    "# отделяем данные по группе B\n",
    "cumulativeDataB = cumulativeData[cumulativeData['group']=='B']\n",
    "plt.figure(figsize=(10, 5)) \n",
    "# строим графики\n",
    "plt.plot(cumulativeDataA['date'], cumulativeDataA['conversion'], label='A')\n",
    "plt.plot(cumulativeDataB['date'], cumulativeDataB['conversion'], label='B')\n",
    "plt.title('Кумулятивная конверсия по группам')\n",
    "plt.xlabel('Дата')\n",
    "plt.ylabel('Доля')\n",
    "plt.legend(['Контрольная группа А', 'Тестовая группа В'])\n",
    "plt.show()\n"
   ]
  },
  {
   "cell_type": "markdown",
   "metadata": {},
   "source": [
    "Сначала лидировала группа А, но оооочень не долго, группа В вырвалась и удерживает преимущество.\n",
    "### График относительного различия кумулятивных конверсий"
   ]
  },
  {
   "cell_type": "code",
   "execution_count": 17,
   "metadata": {},
   "outputs": [
    {
     "data": {
      "image/png": "[encoded data removed]",
      "text/plain": [
       "<Figure size 720x360 with 1 Axes>"
      ]
     },
     "metadata": {
      "needs_background": "light"
     },
     "output_type": "display_data"
    }
   ],
   "source": [
    "mergedCumulativeConversions = cumulativeDataA[['date','conversion']].merge(cumulativeDataB[['date','conversion']], left_on='date', right_on='date', how='left', suffixes=['A', 'B'])\n",
    "plt.figure(figsize=(10, 5)) \n",
    "plt.plot(mergedCumulativeConversions['date'], mergedCumulativeConversions['conversionB']/mergedCumulativeConversions['conversionA']-1, label=\"Относительный прирост конверсии группы B относительно группы A\")\n",
    "plt.legend()\n",
    "\n",
    "plt.axhline(y=0.1, color='black', linestyle='--')\n",
    "plt.axhline(y=-0.1, color='grey', linestyle='--')\n",
    "plt.title('Относительное различие кумулятивных конверсий')\n",
    "plt.xlabel('Дата')\n",
    "plt.ylabel('%')\n",
    "plt.legend(['Динамика различий комулятивной конверсии'])\n",
    "plt.show() \n"
   ]
  },
  {
   "cell_type": "markdown",
   "metadata": {},
   "source": [
    "В начале теста группа B проигрывала группе A, затем вырвалась вперёд. Потом её конверсия снова падала, но послдение данные говорят о постепенном росте. В целом отношение конверсии ещё не установилось, и сейчас делать какие-либо выводы по тесту нельзя. Впрочем, сперва стоит проанализировать выбросы, возможно, они изменят картину. \n",
    "### Точечный график количества заказов по пользователям  \n",
    "Сначала подсчитаем количество заказов по пользователям: "
   ]
  },
  {
   "cell_type": "code",
   "execution_count": 18,
   "metadata": {},
   "outputs": [
    {
     "name": "stdout",
     "output_type": "stream",
     "text": [
      "          userId  orders\n",
      "1023  4256040402      11\n",
      "591   2458001652      11\n",
      "569   2378935119       9\n",
      "487   2038680547       8\n",
      "44     199603092       5\n",
      "744   3062433592       5\n",
      "55     237748145       5\n",
      "917   3803269165       5\n",
      "299   1230306981       5\n",
      "897   3717692402       5\n"
     ]
    }
   ],
   "source": [
    "ordersByUsers = (\n",
    "    orders_data.groupby('visitor_id', as_index=False)\n",
    "    .agg({'transaction_id': 'nunique'})\n",
    ")\n",
    "\n",
    "ordersByUsers.columns = ['userId', 'orders']\n",
    "\n",
    "print(ordersByUsers.sort_values(by='orders', ascending=False).head(10))"
   ]
  },
  {
   "cell_type": "markdown",
   "metadata": {},
   "source": [
    "Есть пользователи, которые совершают больше заказаов чем остальные. Чтож время точечного графика:"
   ]
  },
  {
   "cell_type": "code",
   "execution_count": 19,
   "metadata": {},
   "outputs": [
    {
     "data": {
      "image/png": "[encoded data removed]",
      "text/plain": [
       "<Figure size 432x288 with 1 Axes>"
      ]
     },
     "metadata": {
      "needs_background": "light"
     },
     "output_type": "display_data"
    }
   ],
   "source": [
    "x_values = pd.Series(range(0,len(ordersByUsers)))\n",
    "\n",
    "plt.scatter(x_values, ordersByUsers['orders']) \n",
    "plt.show()"
   ]
  },
  {
   "cell_type": "markdown",
   "metadata": {},
   "source": [
    "Догадки подтверждаются, подавляющее большиснтво пользователей делают 1-3 заказа, ну никак не 11. Перцентили - ваш выход!\n",
    "### 95-й и 99-й перцентили количества заказов на пользователя"
   ]
  },
  {
   "cell_type": "code",
   "execution_count": 20,
   "metadata": {},
   "outputs": [
    {
     "name": "stdout",
     "output_type": "stream",
     "text": [
      "[2. 4.]\n"
     ]
    }
   ],
   "source": [
    "print(np.percentile(ordersByUsers['orders'], [95, 99]))"
   ]
  },
  {
   "cell_type": "markdown",
   "metadata": {},
   "source": [
    "Не более 5% пользователей оформляли больше 2х заказов и не более 1 % больше 4. Будем определять границу по 2м заказам.\n",
    "### Точечный график стоимостей заказов "
   ]
  },
  {
   "cell_type": "code",
   "execution_count": 21,
   "metadata": {},
   "outputs": [
    {
     "data": {
      "image/png": "[encoded data removed]",
      "text/plain": [
       "<Figure size 432x288 with 1 Axes>"
      ]
     },
     "metadata": {
      "needs_background": "light"
     },
     "output_type": "display_data"
    }
   ],
   "source": [
    "x_values = pd.Series(range(0,len(orders_data['revenue'])))\n",
    "plt.scatter(x_values, orders_data['revenue'])\n",
    "plt.show()"
   ]
  },
  {
   "cell_type": "markdown",
   "metadata": {},
   "source": [
    "Мы догадывались, что есть выбросы (ух ты, на глазок целых 2 очевидных!), кроме того сразу видно один ооооочень дорогой заказ, который кстати и мог повлечь за собой пики в графиках группы В. Пора переходить к процентилям, чтобы отсеять \"лишнее\".\n",
    "### 95-й и 99-й перцентили среднего чека"
   ]
  },
  {
   "cell_type": "code",
   "execution_count": 22,
   "metadata": {},
   "outputs": [
    {
     "name": "stdout",
     "output_type": "stream",
     "text": [
      "[28000.  58233.2]\n"
     ]
    }
   ],
   "source": [
    "print(np.percentile(orders_data['revenue'], [95, 99]))"
   ]
  },
  {
   "cell_type": "markdown",
   "metadata": {},
   "source": [
    "Не более 5% пользователей совершили заказы дороже 28000. Это и будет нашей границей.\n",
    "### Cтатистическая значимость различий в конверсии между группами по «сырым» данным\n",
    "Прежде всего сформулируем гипотезы. H0 - различий в конверсии между группами НЕТ, то есть так как нулевая гипотеза со знаком равно грубо говоря: конверсия в группе А равна конверсии в группе В. Н1, или альтернативная - конверсии в группах не равны, то есть различия в конверсии между группами есть.  \n"
   ]
  },
  {
   "cell_type": "markdown",
   "metadata": {},
   "source": [
    "Создадим переменные ordersByUsersA и ordersByUsersB со столбцами ['visitor_id', 'orders']. В них для пользователей, которые заказывали хотя бы 1 раз, укажем число совершённых заказов."
   ]
  },
  {
   "cell_type": "code",
   "execution_count": 24,
   "metadata": {},
   "outputs": [
    {
     "data": {
      "text/html": [
       "<div>\n",
       "<style scoped>\n",
       "    .dataframe tbody tr th:only-of-type {\n",
       "        vertical-align: middle;\n",
       "    }\n",
       "\n",
       "    .dataframe tbody tr th {\n",
       "        vertical-align: top;\n",
       "    }\n",
       "\n",
       "    .dataframe thead th {\n",
       "        text-align: right;\n",
       "    }\n",
       "</style>\n",
       "<table border=\"1\" class=\"dataframe\">\n",
       "  <thead>\n",
       "    <tr style=\"text-align: right;\">\n",
       "      <th></th>\n",
       "      <th>visitor_id</th>\n",
       "      <th>orders</th>\n",
       "    </tr>\n",
       "  </thead>\n",
       "  <tbody>\n",
       "    <tr>\n",
       "      <th>83</th>\n",
       "      <td>787824685</td>\n",
       "      <td>1</td>\n",
       "    </tr>\n",
       "    <tr>\n",
       "      <th>222</th>\n",
       "      <td>1957949546</td>\n",
       "      <td>1</td>\n",
       "    </tr>\n",
       "  </tbody>\n",
       "</table>\n",
       "</div>"
      ],
      "text/plain": [
       "     visitor_id  orders\n",
       "83    787824685       1\n",
       "222  1957949546       1"
      ]
     },
     "metadata": {},
     "output_type": "display_data"
    }
   ],
   "source": [
    "ordersByUsersA = (\n",
    "    orders_data[orders_data['group'] == 'A']\n",
    "    .groupby('visitor_id', as_index=False)\n",
    "    .agg({'transaction_id': pd.Series.nunique})\n",
    ")\n",
    "ordersByUsersA.columns = ['visitor_id', 'orders']\n",
    "\n",
    "ordersByUsersB = (\n",
    "    orders_data[orders_data['group'] == 'B']\n",
    "    .groupby('visitor_id', as_index=False)\n",
    "    .agg({'transaction_id': pd.Series.nunique})\n",
    ")\n",
    "ordersByUsersB.columns = ['visitor_id', 'orders']\n",
    "display(ordersByUsersA.sample(2))"
   ]
  },
  {
   "cell_type": "markdown",
   "metadata": {},
   "source": [
    "Объявим переменные sampleA и sampleB, в которых пользователям из разных групп будет соответствовать количество заказов. Тем, кто ничего не заказал, будут соответствовать нули. Это нужно, чтобы подготовить выборки к проверке критерием Манна-Уитни:"
   ]
  },
  {
   "cell_type": "code",
   "execution_count": 25,
   "metadata": {},
   "outputs": [
    {
     "data": {
      "text/plain": [
       "13596    0\n",
       "8878     0\n",
       "Name: orders, dtype: int64"
      ]
     },
     "metadata": {},
     "output_type": "display_data"
    }
   ],
   "source": [
    "sampleA = pd.concat([ordersByUsersA['orders'],pd.Series(0, index=np.arange(visitors_data.query('group == \"A\"')['visitors'].sum() - len(ordersByUsersA['orders'])), name='orders')],axis=0)\n",
    "sampleB = pd.concat([ordersByUsersB['orders'],pd.Series(0, index=np.arange(visitors_data.query('group == \"B\"')['visitors'].sum() - len(ordersByUsersB['orders'])), name='orders')],axis=0)\n",
    "\n",
    "display(sampleA.sample(2))"
   ]
  },
  {
   "cell_type": "markdown",
   "metadata": {},
   "source": [
    "Применим критерий и отформатируем p-value, округлив его до трёх знаков после запятой"
   ]
  },
  {
   "cell_type": "code",
   "execution_count": 26,
   "metadata": {},
   "outputs": [
    {
     "name": "stdout",
     "output_type": "stream",
     "text": [
      "p-value равно: 0.017\n",
      "Относительная разница конверсий: 0.138\n"
     ]
    }
   ],
   "source": [
    "print('p-value равно:', \"{0:.3f}\".format(st.mannwhitneyu(sampleA, sampleB)[1]))\n",
    "print('Относительная разница конверсий:',\"{0:.3f}\".format(sampleB.mean() / sampleA.mean() - 1))"
   ]
  },
  {
   "cell_type": "markdown",
   "metadata": {},
   "source": [
    "P-value меньше 0,05, значит мы отвергаем нудевую гипотезу о равенстве конверсий. Разница между группами в пользу группы В достигает практически 14%.\n",
    "### Cтатистическая значимость различий в среднем чеке заказа между группами по «сырым» данным\n",
    "Посмотрим еще статистическую значимость различий в среднем чеке, нудева гипотеза - различий в среднем чеке нет. Чтобы посчитать передадим критерию данные о выручке с заказов:"
   ]
  },
  {
   "cell_type": "code",
   "execution_count": 27,
   "metadata": {},
   "outputs": [
    {
     "name": "stdout",
     "output_type": "stream",
     "text": [
      "p-value: 0.729\n",
      "Относительная разница среднего чека 0.259\n"
     ]
    }
   ],
   "source": [
    "print('p-value:','{0:.3f}'.format(st.mannwhitneyu(orders_data[orders_data['group']=='A']['revenue'], orders_data[orders_data['group']=='B']['revenue'])[1]))\n",
    "print('Относительная разница среднего чека','{0:.3f}'.format(orders_data[orders_data['group']=='B']['revenue'].mean()/orders_data[orders_data['group']=='A']['revenue'].mean()-1))"
   ]
  },
  {
   "cell_type": "markdown",
   "metadata": {},
   "source": [
    "P-value значительно больше 0,05, значит статистически значимых различий в среднем чеке - нет, то есть средниче чеки условно равны. Однако, разница чека в пользу группы В достигает почти 26%, а это больше четверти (внушительно). Предположим что при такой большой разнице гипотеза о равенстве среднего чека не опровергнута из-за аномально дорогих заказов - мы успеем проверить это далее. \n",
    "Перейдем к проверке очищенных данных.\n",
    "\n",
    "\n",
    "\n",
    "### Cтатистическая значимость различий в конверсии между группами по \"очищенным\" данным\n",
    "Напомним, что найденные 95-й и 99-й перцентили средних чеков равны 28000 и 58233.2 рублям. А 95-й и 99-й перцентили количества заказов на одного пользователя равны 2 и 4 заказа на пользователя.\n",
    "Примем за аномальных пользователей тех, кто совершил от 3 заказов или совершил заказ дороже 28 000 рублей. Так мы уберём 5% пользователей с наибольшим числом заказов и  5% пользователей с дорогими заказами. Сделаем срезы пользователей с числом заказов больше 3 — usersWithManyOrders и пользователей, совершивших заказы дороже 28 000 — usersWithExpensiveOrders. Объединим их в таблице abnormalUsers.\n",
    "Узнаем, сколько всего аномальных пользователей методом shape():"
   ]
  },
  {
   "cell_type": "code",
   "execution_count": 28,
   "metadata": {},
   "outputs": [
    {
     "name": "stdout",
     "output_type": "stream",
     "text": [
      "1099    148427295\n",
      "18      199603092\n",
      "928     204675465\n",
      "23      237748145\n",
      "684     358944393\n",
      "Name: visitor_id, dtype: int64\n",
      "Аномальных пользователей выявлено: 63\n"
     ]
    }
   ],
   "source": [
    "X = np.percentile(ordersByUsers['orders'], [95,98,99])[1]\n",
    "Y = np.percentile(orders_data['revenue'], [95,99])[0]\n",
    "usersWithManyOrders = pd.concat(\n",
    "    [\n",
    "        ordersByUsersA[ordersByUsersA['orders'] > X]['visitor_id'],\n",
    "        ordersByUsersB[ordersByUsersB['orders'] > X]['visitor_id'],\n",
    "    ],\n",
    "    axis=0,\n",
    ")\n",
    "usersWithExpensiveOrders = orders_data[orders_data['revenue'] > Y]['visitor_id']\n",
    "abnormalUsers = (\n",
    "    pd.concat([usersWithManyOrders, usersWithExpensiveOrders], axis=0)\n",
    "    .drop_duplicates()\n",
    "    .sort_values()\n",
    ")\n",
    "print(abnormalUsers.head(5))\n",
    "print('Аномальных пользователей выявлено:', abnormalUsers.shape[0])\n"
   ]
  },
  {
   "cell_type": "markdown",
   "metadata": {},
   "source": [
    "Теперь узхнаем как действия 86 пользователей повлияли на результаты нашего А/В тестирования - снова посчитаем статистическую значимость различий в конверсии между группами теста. Прежде всего заново подготовим выборки:"
   ]
  },
  {
   "cell_type": "code",
   "execution_count": 29,
   "metadata": {},
   "outputs": [
    {
     "data": {
      "text/plain": [
       "17909    0\n",
       "7658     0\n",
       "Name: orders, dtype: int64"
      ]
     },
     "metadata": {},
     "output_type": "display_data"
    }
   ],
   "source": [
    "sampleAFiltered = pd.concat(\n",
    "    [\n",
    "        ordersByUsersA[\n",
    "            np.logical_not(ordersByUsersA['visitor_id'].isin(abnormalUsers))\n",
    "        ]['orders'],\n",
    "        pd.Series(\n",
    "            0,\n",
    "            index=np.arange(\n",
    "                data['visitorsPerDateA'].sum() - len(ordersByUsersA['orders'])\n",
    "            ),\n",
    "            name='orders',\n",
    "        ),\n",
    "    ],\n",
    "    axis=0,\n",
    ")\n",
    "\n",
    "sampleBFiltered = pd.concat(\n",
    "    [\n",
    "        ordersByUsersB[\n",
    "            np.logical_not(ordersByUsersB['visitor_id'].isin(abnormalUsers))\n",
    "        ]['orders'],\n",
    "        pd.Series(\n",
    "            0,\n",
    "            index=np.arange(\n",
    "                data['visitorsPerDateB'].sum() - len(ordersByUsersB['orders'])\n",
    "            ),\n",
    "            name='orders',\n",
    "        ),\n",
    "    ],\n",
    "    axis=0,\n",
    ")\n",
    "display(sampleAFiltered.sample(2))"
   ]
  },
  {
   "cell_type": "markdown",
   "metadata": {},
   "source": [
    "Применим статистический критерий Манна-Уитни к полученным срезам:"
   ]
  },
  {
   "cell_type": "code",
   "execution_count": 30,
   "metadata": {},
   "outputs": [
    {
     "name": "stdout",
     "output_type": "stream",
     "text": [
      "0.018\n",
      "0.148\n"
     ]
    }
   ],
   "source": [
    "print('{0:.3f}'.format(st.mannwhitneyu(sampleAFiltered, sampleBFiltered)[1]))\n",
    "print('{0:.3f}'.format(sampleBFiltered.mean()/sampleAFiltered.mean()-1))"
   ]
  },
  {
   "cell_type": "markdown",
   "metadata": {},
   "source": [
    "P-value увеличился, однако все еще недостаточно, чтобы достигнуть статистической значимости в 0,05. Значит нулевая гипотеза все таки отвергнута и разница между конверсиями есть.\n",
    "Посмотрим изменилось ли что то по среднему чеку:\n",
    "### Cтатистическая значимость различий в среднем чеке заказа между группами по «очищенным» данным\n"
   ]
  },
  {
   "cell_type": "code",
   "execution_count": 31,
   "metadata": {},
   "outputs": [
    {
     "name": "stdout",
     "output_type": "stream",
     "text": [
      "0.977\n",
      "-0.017\n"
     ]
    }
   ],
   "source": [
    "print(\n",
    "    '{0:.3f}'.format(\n",
    "        st.mannwhitneyu(\n",
    "            orders_data[\n",
    "                np.logical_and(\n",
    "                    orders_data['group'] == 'A',\n",
    "                    np.logical_not(orders_data['visitor_id'].isin(abnormalUsers)),\n",
    "                )\n",
    "            ]['revenue'],\n",
    "            orders_data[\n",
    "                np.logical_and(\n",
    "                    orders_data['group'] == 'B',\n",
    "                    np.logical_not(orders_data['visitor_id'].isin(abnormalUsers)),\n",
    "                )\n",
    "            ]['revenue'],\n",
    "        )[1]\n",
    "    )\n",
    ")\n",
    "\n",
    "print(\n",
    "    \"{0:.3f}\".format(\n",
    "        orders_data[\n",
    "            np.logical_and(\n",
    "                orders_data['group'] == 'B',\n",
    "                np.logical_not(orders_data['visitor_id'].isin(abnormalUsers)),\n",
    "            )\n",
    "        ]['revenue'].mean()\n",
    "        / orders_data[\n",
    "            np.logical_and(\n",
    "                orders_data['group'] == 'A',\n",
    "                np.logical_not(orders_data['visitor_id'].isin(abnormalUsers)),\n",
    "            )\n",
    "        ]['revenue'].mean()\n",
    "        - 1\n",
    "    )\n",
    ")\n"
   ]
  },
  {
   "cell_type": "markdown",
   "metadata": {},
   "source": [
    "P-value значительно больше порога в 0,05, значит нулевую гипотезу о том, что средний чек одинаковый принимаем. После удаления аномальных заказов стало понятно, что разница в среднем чеке не 26%, а всего лишь 0,2%.\n",
    "\n",
    "### Выводы по результатам А/В теста"
   ]
  },
  {
   "attachments": {
    "%D0%A0%D0%B0%D0%B7%D0%BD%D0%B8%D1%86%D0%B0%20%D0%BA%D0%BE%D0%BD%D0%B2%D0%B5%D1%80%D1%81%D0%B8%D0%B9.png": {
     "image/png": "[encoded data removed]"
    }
   },
   "cell_type": "markdown",
   "metadata": {},
   "source": [
    "Результатом анализа А/В теста стали следующие факты:\n",
    "•\tЕсть статистически значимое различие по конверсии между группами как по сырым данным, так и после фильтрации аномалий    \n",
    "•   Статистически значимое различие среднего чека между группами нет, как в сырых данных, так и в очищенных, то есть средний чек в обоих группах условно одинаковый  \n",
    "•   Исходя из графика разницы конверсий между группами можно сделать вывод, что результаты группы В лучше, чем у группы А, несмотря на падение, к концу эксперимента они устаканиваются и снова начинают расти:  ![%D0%A0%D0%B0%D0%B7%D0%BD%D0%B8%D1%86%D0%B0%20%D0%BA%D0%BE%D0%BD%D0%B2%D0%B5%D1%80%D1%81%D0%B8%D0%B9.png](attachment:%D0%A0%D0%B0%D0%B7%D0%BD%D0%B8%D1%86%D0%B0%20%D0%BA%D0%BE%D0%BD%D0%B2%D0%B5%D1%80%D1%81%D0%B8%D0%B9.png)  \n",
    "•  График разницы среднего чека \"штормит\", однако когда во многом благодаря ему мы заметили аномалии, в любом случае статистической разницы в среднем чеке между группами нет.  \n",
    "\n",
    "Исходя из фактов выше, тест следует остановить и признать успешным: при отсутсвии разницы в среднем чеке, конверсия группы В выше, чем конверсия группы А, значит гипотеза успешно проверена."
   ]
  }
 ],
 "metadata": {
  "ExecuteTimeLog": [
   {
    "duration": 3129,
    "start_time": "2022-04-26T12:55:37.041Z"
   },
   {
    "duration": 455,
    "start_time": "2022-04-26T12:56:44.717Z"
   },
   {
    "duration": 181,
    "start_time": "2022-04-26T12:57:03.886Z"
   },
   {
    "duration": 57,
    "start_time": "2022-04-26T13:03:33.964Z"
   },
   {
    "duration": 77,
    "start_time": "2022-04-26T13:07:04.124Z"
   },
   {
    "duration": 63,
    "start_time": "2022-04-26T13:07:20.869Z"
   },
   {
    "duration": 64,
    "start_time": "2022-04-26T13:07:30.371Z"
   },
   {
    "duration": 80,
    "start_time": "2022-04-26T13:10:06.563Z"
   },
   {
    "duration": 74,
    "start_time": "2022-04-26T13:15:56.062Z"
   },
   {
    "duration": 5,
    "start_time": "2022-04-26T13:46:56.801Z"
   },
   {
    "duration": 18,
    "start_time": "2022-04-26T13:47:03.409Z"
   },
   {
    "duration": 13,
    "start_time": "2022-04-26T13:47:13.548Z"
   },
   {
    "duration": 24,
    "start_time": "2022-04-26T13:52:48.150Z"
   },
   {
    "duration": 1938,
    "start_time": "2022-04-26T14:05:29.819Z"
   },
   {
    "duration": 97,
    "start_time": "2022-04-26T14:05:31.763Z"
   },
   {
    "duration": 16,
    "start_time": "2022-04-26T14:05:31.865Z"
   },
   {
    "duration": 20,
    "start_time": "2022-04-26T14:05:31.885Z"
   },
   {
    "duration": 13,
    "start_time": "2022-04-26T14:20:19.908Z"
   },
   {
    "duration": 16,
    "start_time": "2022-04-26T14:20:49.499Z"
   },
   {
    "duration": 20,
    "start_time": "2022-04-26T14:21:36.075Z"
   },
   {
    "duration": 34,
    "start_time": "2022-04-26T14:22:44.052Z"
   },
   {
    "duration": 41,
    "start_time": "2022-04-26T14:23:24.244Z"
   },
   {
    "duration": 24,
    "start_time": "2022-04-26T14:24:56.808Z"
   },
   {
    "duration": 16,
    "start_time": "2022-04-26T14:28:06.862Z"
   },
   {
    "duration": 8,
    "start_time": "2022-04-26T14:40:07.058Z"
   },
   {
    "duration": 6,
    "start_time": "2022-04-26T14:41:36.764Z"
   },
   {
    "duration": 9,
    "start_time": "2022-04-26T14:42:49.259Z"
   },
   {
    "duration": 6,
    "start_time": "2022-04-26T14:43:38.779Z"
   },
   {
    "duration": 11,
    "start_time": "2022-04-26T14:50:44.273Z"
   },
   {
    "duration": 19,
    "start_time": "2022-04-26T14:51:15.816Z"
   },
   {
    "duration": 16,
    "start_time": "2022-04-26T14:52:13.666Z"
   },
   {
    "duration": 195,
    "start_time": "2022-04-26T15:14:55.849Z"
   },
   {
    "duration": 487,
    "start_time": "2022-04-26T15:15:59.769Z"
   },
   {
    "duration": 463,
    "start_time": "2022-04-26T15:17:19.264Z"
   },
   {
    "duration": 298,
    "start_time": "2022-04-26T15:17:32.499Z"
   },
   {
    "duration": 300,
    "start_time": "2022-04-26T15:17:42.169Z"
   },
   {
    "duration": 315,
    "start_time": "2022-04-26T15:17:47.528Z"
   },
   {
    "duration": 284,
    "start_time": "2022-04-26T15:21:28.711Z"
   },
   {
    "duration": 350,
    "start_time": "2022-04-26T15:25:41.458Z"
   },
   {
    "duration": 343,
    "start_time": "2022-04-26T15:28:01.519Z"
   },
   {
    "duration": 498,
    "start_time": "2022-04-26T15:29:56.777Z"
   },
   {
    "duration": 400,
    "start_time": "2022-04-26T15:30:19.646Z"
   },
   {
    "duration": 416,
    "start_time": "2022-04-26T15:31:48.963Z"
   },
   {
    "duration": 218,
    "start_time": "2022-04-26T15:35:13.749Z"
   },
   {
    "duration": 208,
    "start_time": "2022-04-26T15:35:26.389Z"
   },
   {
    "duration": 210,
    "start_time": "2022-04-26T15:35:44.964Z"
   },
   {
    "duration": 8,
    "start_time": "2022-04-26T15:39:09.245Z"
   },
   {
    "duration": 6,
    "start_time": "2022-04-26T15:39:33.302Z"
   },
   {
    "duration": 18,
    "start_time": "2022-04-26T15:42:18.950Z"
   },
   {
    "duration": 15,
    "start_time": "2022-04-26T15:42:49.782Z"
   },
   {
    "duration": 201,
    "start_time": "2022-04-26T15:43:43.913Z"
   },
   {
    "duration": 6,
    "start_time": "2022-04-26T15:45:27.297Z"
   },
   {
    "duration": 476,
    "start_time": "2022-04-26T15:52:23.102Z"
   },
   {
    "duration": 478,
    "start_time": "2022-04-26T15:52:34.792Z"
   },
   {
    "duration": 268,
    "start_time": "2022-04-26T15:52:52.762Z"
   },
   {
    "duration": 253,
    "start_time": "2022-04-26T15:53:00.566Z"
   },
   {
    "duration": 295,
    "start_time": "2022-04-26T15:53:08.960Z"
   },
   {
    "duration": 411,
    "start_time": "2022-04-26T15:54:42.863Z"
   },
   {
    "duration": 382,
    "start_time": "2022-04-26T15:54:55.259Z"
   },
   {
    "duration": 293,
    "start_time": "2022-04-26T15:55:47.800Z"
   },
   {
    "duration": 312,
    "start_time": "2022-04-26T15:55:53.614Z"
   },
   {
    "duration": 288,
    "start_time": "2022-04-26T15:56:02.279Z"
   },
   {
    "duration": 355,
    "start_time": "2022-04-26T15:56:16.017Z"
   },
   {
    "duration": 350,
    "start_time": "2022-04-26T15:56:21.896Z"
   },
   {
    "duration": 323,
    "start_time": "2022-04-26T15:56:28.062Z"
   },
   {
    "duration": 297,
    "start_time": "2022-04-26T15:56:59.085Z"
   },
   {
    "duration": 451,
    "start_time": "2022-04-26T15:57:18.500Z"
   },
   {
    "duration": 335,
    "start_time": "2022-04-26T15:57:27.080Z"
   },
   {
    "duration": 428,
    "start_time": "2022-04-26T15:57:33.655Z"
   },
   {
    "duration": 1906,
    "start_time": "2022-04-27T08:22:44.059Z"
   },
   {
    "duration": 100,
    "start_time": "2022-04-27T08:22:45.969Z"
   },
   {
    "duration": 12,
    "start_time": "2022-04-27T08:22:46.072Z"
   },
   {
    "duration": 12,
    "start_time": "2022-04-27T08:22:46.087Z"
   },
   {
    "duration": 64,
    "start_time": "2022-04-27T08:22:46.101Z"
   },
   {
    "duration": 11,
    "start_time": "2022-04-27T08:22:46.168Z"
   },
   {
    "duration": 8,
    "start_time": "2022-04-27T08:22:46.181Z"
   },
   {
    "duration": 58,
    "start_time": "2022-04-27T08:22:46.194Z"
   },
   {
    "duration": 759,
    "start_time": "2022-04-27T08:22:46.255Z"
   },
   {
    "duration": 690,
    "start_time": "2022-04-27T08:22:47.019Z"
   },
   {
    "duration": 450,
    "start_time": "2022-04-27T08:22:47.711Z"
   },
   {
    "duration": 580,
    "start_time": "2022-04-27T08:22:48.164Z"
   },
   {
    "duration": 481,
    "start_time": "2022-04-27T08:22:48.751Z"
   },
   {
    "duration": 446,
    "start_time": "2022-04-27T08:22:49.234Z"
   },
   {
    "duration": 19,
    "start_time": "2022-04-27T08:22:49.682Z"
   },
   {
    "duration": 203,
    "start_time": "2022-04-27T08:22:49.704Z"
   },
   {
    "duration": 6,
    "start_time": "2022-04-27T08:22:49.909Z"
   },
   {
    "duration": 316,
    "start_time": "2022-04-27T08:22:49.918Z"
   },
   {
    "duration": 15,
    "start_time": "2022-04-27T08:22:50.237Z"
   },
   {
    "duration": 260,
    "start_time": "2022-04-27T08:25:59.103Z"
   },
   {
    "duration": 437,
    "start_time": "2022-04-27T08:26:08.321Z"
   },
   {
    "duration": 428,
    "start_time": "2022-04-27T08:26:14.383Z"
   },
   {
    "duration": 258,
    "start_time": "2022-04-27T08:27:46.520Z"
   },
   {
    "duration": 18,
    "start_time": "2022-04-27T08:28:52.538Z"
   },
   {
    "duration": 628,
    "start_time": "2022-04-27T08:33:48.723Z"
   },
   {
    "duration": 365,
    "start_time": "2022-04-27T08:34:35.912Z"
   },
   {
    "duration": 355,
    "start_time": "2022-04-27T08:34:48.489Z"
   },
   {
    "duration": 21,
    "start_time": "2022-04-27T08:35:06.000Z"
   },
   {
    "duration": 12,
    "start_time": "2022-04-27T08:35:10.686Z"
   },
   {
    "duration": 11,
    "start_time": "2022-04-27T08:36:29.240Z"
   },
   {
    "duration": 33,
    "start_time": "2022-04-27T08:37:02.897Z"
   },
   {
    "duration": 29,
    "start_time": "2022-04-27T08:39:54.183Z"
   },
   {
    "duration": 12,
    "start_time": "2022-04-27T08:40:44.686Z"
   },
   {
    "duration": 6,
    "start_time": "2022-04-27T08:41:14.840Z"
   },
   {
    "duration": 18,
    "start_time": "2022-04-27T08:46:17.578Z"
   },
   {
    "duration": 13,
    "start_time": "2022-04-27T08:46:40.775Z"
   },
   {
    "duration": 18,
    "start_time": "2022-04-27T08:47:08.636Z"
   },
   {
    "duration": 2455,
    "start_time": "2022-04-27T08:49:05.668Z"
   },
   {
    "duration": 25,
    "start_time": "2022-04-27T08:49:20.715Z"
   },
   {
    "duration": 13,
    "start_time": "2022-04-27T08:50:14.340Z"
   },
   {
    "duration": 48,
    "start_time": "2022-04-27T08:50:19.319Z"
   },
   {
    "duration": 48,
    "start_time": "2022-04-27T08:50:55.173Z"
   },
   {
    "duration": 20,
    "start_time": "2022-04-27T08:51:11.214Z"
   },
   {
    "duration": 17,
    "start_time": "2022-04-27T08:51:17.688Z"
   },
   {
    "duration": 13,
    "start_time": "2022-04-27T08:51:40.058Z"
   },
   {
    "duration": 15,
    "start_time": "2022-04-27T08:51:46.010Z"
   },
   {
    "duration": 19,
    "start_time": "2022-04-27T08:54:11.141Z"
   },
   {
    "duration": 18,
    "start_time": "2022-04-27T08:55:42.326Z"
   },
   {
    "duration": 15,
    "start_time": "2022-04-27T08:55:44.315Z"
   },
   {
    "duration": 24,
    "start_time": "2022-04-27T09:00:05.053Z"
   },
   {
    "duration": 22,
    "start_time": "2022-04-27T09:00:11.062Z"
   },
   {
    "duration": 1425,
    "start_time": "2022-04-27T10:59:55.517Z"
   },
   {
    "duration": 39,
    "start_time": "2022-04-27T10:59:56.943Z"
   },
   {
    "duration": 7,
    "start_time": "2022-04-27T10:59:56.984Z"
   },
   {
    "duration": 9,
    "start_time": "2022-04-27T10:59:56.992Z"
   },
   {
    "duration": 16,
    "start_time": "2022-04-27T10:59:57.003Z"
   },
   {
    "duration": 111,
    "start_time": "2022-04-27T10:59:57.020Z"
   },
   {
    "duration": 0,
    "start_time": "2022-04-27T10:59:57.133Z"
   },
   {
    "duration": 0,
    "start_time": "2022-04-27T10:59:57.134Z"
   },
   {
    "duration": 0,
    "start_time": "2022-04-27T10:59:57.135Z"
   },
   {
    "duration": 0,
    "start_time": "2022-04-27T10:59:57.136Z"
   },
   {
    "duration": 0,
    "start_time": "2022-04-27T10:59:57.137Z"
   },
   {
    "duration": 0,
    "start_time": "2022-04-27T10:59:57.138Z"
   },
   {
    "duration": 0,
    "start_time": "2022-04-27T10:59:57.154Z"
   },
   {
    "duration": 0,
    "start_time": "2022-04-27T10:59:57.155Z"
   },
   {
    "duration": 0,
    "start_time": "2022-04-27T10:59:57.157Z"
   },
   {
    "duration": 0,
    "start_time": "2022-04-27T10:59:57.158Z"
   },
   {
    "duration": 0,
    "start_time": "2022-04-27T10:59:57.159Z"
   },
   {
    "duration": 0,
    "start_time": "2022-04-27T10:59:57.160Z"
   },
   {
    "duration": 0,
    "start_time": "2022-04-27T10:59:57.161Z"
   },
   {
    "duration": 0,
    "start_time": "2022-04-27T10:59:57.162Z"
   },
   {
    "duration": 0,
    "start_time": "2022-04-27T10:59:57.163Z"
   },
   {
    "duration": 0,
    "start_time": "2022-04-27T10:59:57.164Z"
   },
   {
    "duration": 0,
    "start_time": "2022-04-27T10:59:57.164Z"
   },
   {
    "duration": 0,
    "start_time": "2022-04-27T10:59:57.165Z"
   },
   {
    "duration": 0,
    "start_time": "2022-04-27T10:59:57.166Z"
   },
   {
    "duration": 0,
    "start_time": "2022-04-27T10:59:57.167Z"
   },
   {
    "duration": 0,
    "start_time": "2022-04-27T10:59:57.168Z"
   },
   {
    "duration": 0,
    "start_time": "2022-04-27T10:59:57.169Z"
   },
   {
    "duration": 7,
    "start_time": "2022-04-27T11:01:02.515Z"
   },
   {
    "duration": 4,
    "start_time": "2022-04-27T11:01:10.313Z"
   },
   {
    "duration": 16,
    "start_time": "2022-04-27T11:01:10.319Z"
   },
   {
    "duration": 255,
    "start_time": "2022-04-27T11:01:10.337Z"
   },
   {
    "duration": 246,
    "start_time": "2022-04-27T11:01:10.594Z"
   },
   {
    "duration": 169,
    "start_time": "2022-04-27T11:01:10.842Z"
   },
   {
    "duration": 365,
    "start_time": "2022-04-27T11:01:11.013Z"
   },
   {
    "duration": 185,
    "start_time": "2022-04-27T11:01:11.379Z"
   },
   {
    "duration": 288,
    "start_time": "2022-04-27T11:01:11.566Z"
   },
   {
    "duration": 9,
    "start_time": "2022-04-27T11:01:11.856Z"
   },
   {
    "duration": 109,
    "start_time": "2022-04-27T11:01:11.866Z"
   },
   {
    "duration": 4,
    "start_time": "2022-04-27T11:01:11.977Z"
   },
   {
    "duration": 130,
    "start_time": "2022-04-27T11:01:11.983Z"
   },
   {
    "duration": 5,
    "start_time": "2022-04-27T11:01:12.115Z"
   },
   {
    "duration": 217,
    "start_time": "2022-04-27T11:01:12.123Z"
   },
   {
    "duration": 160,
    "start_time": "2022-04-27T11:01:12.341Z"
   },
   {
    "duration": 8,
    "start_time": "2022-04-27T11:01:12.502Z"
   },
   {
    "duration": 24,
    "start_time": "2022-04-27T11:01:12.512Z"
   },
   {
    "duration": 24,
    "start_time": "2022-04-27T11:01:12.537Z"
   },
   {
    "duration": 8,
    "start_time": "2022-04-27T11:01:12.563Z"
   },
   {
    "duration": 13,
    "start_time": "2022-04-27T11:01:12.572Z"
   },
   {
    "duration": 22,
    "start_time": "2022-04-27T11:01:12.587Z"
   },
   {
    "duration": 12,
    "start_time": "2022-04-27T11:01:12.611Z"
   },
   {
    "duration": 9,
    "start_time": "2022-04-27T11:50:07.319Z"
   },
   {
    "duration": 8,
    "start_time": "2022-04-27T11:50:27.464Z"
   },
   {
    "duration": 10,
    "start_time": "2022-04-27T11:50:39.764Z"
   },
   {
    "duration": 23,
    "start_time": "2022-04-27T11:53:32.911Z"
   },
   {
    "duration": 23,
    "start_time": "2022-04-27T11:53:37.767Z"
   },
   {
    "duration": 5,
    "start_time": "2022-04-27T11:54:00.255Z"
   },
   {
    "duration": 9,
    "start_time": "2022-04-27T12:22:45.635Z"
   },
   {
    "duration": 11,
    "start_time": "2022-04-27T12:23:04.697Z"
   },
   {
    "duration": 9,
    "start_time": "2022-04-27T12:23:12.903Z"
   },
   {
    "duration": 3,
    "start_time": "2022-04-27T12:23:27.800Z"
   },
   {
    "duration": 6,
    "start_time": "2022-04-27T12:23:43.426Z"
   },
   {
    "duration": 7,
    "start_time": "2022-04-27T12:23:47.055Z"
   },
   {
    "duration": 6,
    "start_time": "2022-04-27T12:24:01.869Z"
   },
   {
    "duration": 4,
    "start_time": "2022-04-27T13:09:45.754Z"
   },
   {
    "duration": 4,
    "start_time": "2022-04-27T13:09:50.200Z"
   },
   {
    "duration": 4,
    "start_time": "2022-04-27T13:09:52.808Z"
   },
   {
    "duration": 7,
    "start_time": "2022-04-27T13:20:03.199Z"
   },
   {
    "duration": 5,
    "start_time": "2022-04-27T13:26:39.568Z"
   },
   {
    "duration": 9,
    "start_time": "2022-04-27T13:27:54.767Z"
   },
   {
    "duration": 10,
    "start_time": "2022-04-27T13:28:11.406Z"
   },
   {
    "duration": 24,
    "start_time": "2022-04-27T13:28:14.620Z"
   },
   {
    "duration": 9,
    "start_time": "2022-04-27T13:28:32.921Z"
   },
   {
    "duration": 15,
    "start_time": "2022-04-27T13:28:37.004Z"
   },
   {
    "duration": 37,
    "start_time": "2022-04-27T13:28:39.572Z"
   },
   {
    "duration": 145,
    "start_time": "2022-04-27T13:38:23.095Z"
   },
   {
    "duration": 41,
    "start_time": "2022-04-27T13:38:23.242Z"
   },
   {
    "duration": 7,
    "start_time": "2022-04-27T13:38:23.285Z"
   },
   {
    "duration": 27,
    "start_time": "2022-04-27T13:38:23.294Z"
   },
   {
    "duration": 16,
    "start_time": "2022-04-27T13:38:23.323Z"
   },
   {
    "duration": 7,
    "start_time": "2022-04-27T13:38:23.341Z"
   },
   {
    "duration": 10,
    "start_time": "2022-04-27T13:38:23.354Z"
   },
   {
    "duration": 26,
    "start_time": "2022-04-27T13:38:23.365Z"
   },
   {
    "duration": 247,
    "start_time": "2022-04-27T13:38:23.393Z"
   },
   {
    "duration": 190,
    "start_time": "2022-04-27T13:38:23.643Z"
   },
   {
    "duration": 261,
    "start_time": "2022-04-27T13:38:23.835Z"
   },
   {
    "duration": 297,
    "start_time": "2022-04-27T13:38:24.098Z"
   },
   {
    "duration": 390,
    "start_time": "2022-04-27T13:38:24.396Z"
   },
   {
    "duration": 467,
    "start_time": "2022-04-27T13:38:24.788Z"
   },
   {
    "duration": 9,
    "start_time": "2022-04-27T13:38:25.257Z"
   },
   {
    "duration": 202,
    "start_time": "2022-04-27T13:38:25.267Z"
   },
   {
    "duration": 4,
    "start_time": "2022-04-27T13:38:25.470Z"
   },
   {
    "duration": 282,
    "start_time": "2022-04-27T13:38:25.475Z"
   },
   {
    "duration": 4,
    "start_time": "2022-04-27T13:38:25.758Z"
   },
   {
    "duration": 355,
    "start_time": "2022-04-27T13:38:25.764Z"
   },
   {
    "duration": 173,
    "start_time": "2022-04-27T13:38:26.121Z"
   },
   {
    "duration": 9,
    "start_time": "2022-04-27T13:38:26.295Z"
   },
   {
    "duration": 23,
    "start_time": "2022-04-27T13:38:26.305Z"
   },
   {
    "duration": 30,
    "start_time": "2022-04-27T13:38:26.330Z"
   },
   {
    "duration": 11,
    "start_time": "2022-04-27T13:38:26.362Z"
   },
   {
    "duration": 21,
    "start_time": "2022-04-27T13:38:26.375Z"
   },
   {
    "duration": 25,
    "start_time": "2022-04-27T13:38:26.397Z"
   },
   {
    "duration": 29,
    "start_time": "2022-04-27T13:38:26.426Z"
   },
   {
    "duration": 2010,
    "start_time": "2022-04-28T08:14:28.444Z"
   },
   {
    "duration": 89,
    "start_time": "2022-04-28T08:14:30.457Z"
   },
   {
    "duration": 12,
    "start_time": "2022-04-28T08:14:30.552Z"
   },
   {
    "duration": 30,
    "start_time": "2022-04-28T08:14:30.566Z"
   },
   {
    "duration": 46,
    "start_time": "2022-04-28T08:14:30.599Z"
   },
   {
    "duration": 31,
    "start_time": "2022-04-28T08:14:30.648Z"
   },
   {
    "duration": 19,
    "start_time": "2022-04-28T08:14:30.681Z"
   },
   {
    "duration": 41,
    "start_time": "2022-04-28T08:14:30.703Z"
   },
   {
    "duration": 562,
    "start_time": "2022-04-28T08:14:30.748Z"
   },
   {
    "duration": 480,
    "start_time": "2022-04-28T08:14:31.313Z"
   },
   {
    "duration": 308,
    "start_time": "2022-04-28T08:14:31.796Z"
   },
   {
    "duration": 441,
    "start_time": "2022-04-28T08:14:32.107Z"
   },
   {
    "duration": 338,
    "start_time": "2022-04-28T08:14:32.550Z"
   },
   {
    "duration": 467,
    "start_time": "2022-04-28T08:14:32.891Z"
   },
   {
    "duration": 14,
    "start_time": "2022-04-28T08:14:33.360Z"
   },
   {
    "duration": 200,
    "start_time": "2022-04-28T08:14:33.376Z"
   },
   {
    "duration": 6,
    "start_time": "2022-04-28T08:14:33.578Z"
   },
   {
    "duration": 217,
    "start_time": "2022-04-28T08:14:33.586Z"
   },
   {
    "duration": 6,
    "start_time": "2022-04-28T08:14:33.806Z"
   },
   {
    "duration": 390,
    "start_time": "2022-04-28T08:14:33.825Z"
   },
   {
    "duration": 310,
    "start_time": "2022-04-28T08:14:34.218Z"
   },
   {
    "duration": 12,
    "start_time": "2022-04-28T08:14:34.530Z"
   },
   {
    "duration": 42,
    "start_time": "2022-04-28T08:14:34.544Z"
   },
   {
    "duration": 39,
    "start_time": "2022-04-28T08:14:34.589Z"
   },
   {
    "duration": 13,
    "start_time": "2022-04-28T08:14:34.630Z"
   },
   {
    "duration": 54,
    "start_time": "2022-04-28T08:14:34.645Z"
   },
   {
    "duration": 39,
    "start_time": "2022-04-28T08:14:34.706Z"
   },
   {
    "duration": 18,
    "start_time": "2022-04-28T08:14:34.748Z"
   },
   {
    "duration": 4,
    "start_time": "2022-04-28T08:20:34.302Z"
   },
   {
    "duration": 172,
    "start_time": "2022-04-28T08:20:36.779Z"
   },
   {
    "duration": 147,
    "start_time": "2022-04-28T09:33:13.051Z"
   },
   {
    "duration": 2795,
    "start_time": "2022-04-28T09:33:20.562Z"
   },
   {
    "duration": 1527,
    "start_time": "2022-04-28T09:33:49.756Z"
   },
   {
    "duration": 211,
    "start_time": "2022-04-28T09:33:51.287Z"
   },
   {
    "duration": 77,
    "start_time": "2022-04-28T09:33:51.504Z"
   },
   {
    "duration": 11,
    "start_time": "2022-04-28T09:33:51.583Z"
   },
   {
    "duration": 41,
    "start_time": "2022-04-28T09:33:51.597Z"
   },
   {
    "duration": 22,
    "start_time": "2022-04-28T09:33:51.641Z"
   },
   {
    "duration": 10,
    "start_time": "2022-04-28T09:33:51.666Z"
   },
   {
    "duration": 9,
    "start_time": "2022-04-28T09:33:51.678Z"
   },
   {
    "duration": 21,
    "start_time": "2022-04-28T09:33:51.734Z"
   },
   {
    "duration": 504,
    "start_time": "2022-04-28T09:33:51.757Z"
   },
   {
    "duration": 480,
    "start_time": "2022-04-28T09:33:52.264Z"
   },
   {
    "duration": 316,
    "start_time": "2022-04-28T09:33:52.746Z"
   },
   {
    "duration": 447,
    "start_time": "2022-04-28T09:33:53.064Z"
   },
   {
    "duration": 346,
    "start_time": "2022-04-28T09:33:53.514Z"
   },
   {
    "duration": 498,
    "start_time": "2022-04-28T09:33:53.863Z"
   },
   {
    "duration": 13,
    "start_time": "2022-04-28T09:33:54.363Z"
   },
   {
    "duration": 211,
    "start_time": "2022-04-28T09:33:54.378Z"
   },
   {
    "duration": 6,
    "start_time": "2022-04-28T09:33:54.591Z"
   },
   {
    "duration": 230,
    "start_time": "2022-04-28T09:33:54.599Z"
   },
   {
    "duration": 8,
    "start_time": "2022-04-28T09:33:54.832Z"
   },
   {
    "duration": 410,
    "start_time": "2022-04-28T09:33:54.843Z"
   },
   {
    "duration": 370,
    "start_time": "2022-04-28T09:33:55.255Z"
   },
   {
    "duration": 19,
    "start_time": "2022-04-28T09:33:55.628Z"
   },
   {
    "duration": 75,
    "start_time": "2022-04-28T09:33:55.650Z"
   },
   {
    "duration": 19,
    "start_time": "2022-04-28T09:33:55.729Z"
   },
   {
    "duration": 20,
    "start_time": "2022-04-28T09:33:55.752Z"
   },
   {
    "duration": 57,
    "start_time": "2022-04-28T09:33:55.780Z"
   },
   {
    "duration": 32,
    "start_time": "2022-04-28T09:33:55.844Z"
   },
   {
    "duration": 47,
    "start_time": "2022-04-28T09:33:55.879Z"
   },
   {
    "duration": 16,
    "start_time": "2022-04-28T09:40:49.341Z"
   },
   {
    "duration": 26,
    "start_time": "2022-04-28T09:40:57.913Z"
   },
   {
    "duration": 17,
    "start_time": "2022-04-28T09:41:04.943Z"
   },
   {
    "duration": 144,
    "start_time": "2022-04-28T09:47:52.556Z"
   },
   {
    "duration": 226,
    "start_time": "2022-04-28T09:48:03.946Z"
   },
   {
    "duration": 19,
    "start_time": "2022-04-28T09:50:06.161Z"
   },
   {
    "duration": 14,
    "start_time": "2022-04-28T09:52:29.180Z"
   },
   {
    "duration": 18,
    "start_time": "2022-04-28T09:53:46.878Z"
   },
   {
    "duration": 38,
    "start_time": "2022-04-28T09:53:57.418Z"
   },
   {
    "duration": 30,
    "start_time": "2022-04-28T09:54:04.272Z"
   },
   {
    "duration": 17,
    "start_time": "2022-04-28T09:54:09.676Z"
   },
   {
    "duration": 13,
    "start_time": "2022-04-28T10:02:02.956Z"
   },
   {
    "duration": 172,
    "start_time": "2022-04-28T10:12:18.214Z"
   },
   {
    "duration": 147,
    "start_time": "2022-04-28T10:12:35.262Z"
   },
   {
    "duration": 21,
    "start_time": "2022-04-28T10:12:41.438Z"
   },
   {
    "duration": 34,
    "start_time": "2022-04-28T10:12:50.111Z"
   },
   {
    "duration": 32,
    "start_time": "2022-04-28T10:13:03.268Z"
   },
   {
    "duration": 16,
    "start_time": "2022-04-28T10:13:55.514Z"
   },
   {
    "duration": 32,
    "start_time": "2022-04-28T10:14:04.974Z"
   },
   {
    "duration": 21,
    "start_time": "2022-04-28T11:20:55.285Z"
   },
   {
    "duration": 491,
    "start_time": "2022-04-28T11:42:59.766Z"
   },
   {
    "duration": 585,
    "start_time": "2022-04-28T11:43:34.736Z"
   },
   {
    "duration": 426,
    "start_time": "2022-04-28T11:44:37.910Z"
   },
   {
    "duration": 490,
    "start_time": "2022-04-28T11:44:47.153Z"
   },
   {
    "duration": 320,
    "start_time": "2022-04-28T11:45:26.416Z"
   },
   {
    "duration": 522,
    "start_time": "2022-04-28T11:46:31.184Z"
   },
   {
    "duration": 339,
    "start_time": "2022-04-28T11:47:23.211Z"
   },
   {
    "duration": 443,
    "start_time": "2022-04-28T11:48:35.553Z"
   },
   {
    "duration": 18,
    "start_time": "2022-04-28T11:56:05.252Z"
   },
   {
    "duration": 48,
    "start_time": "2022-04-28T12:01:18.316Z"
   },
   {
    "duration": 30,
    "start_time": "2022-04-28T12:01:53.151Z"
   },
   {
    "duration": 18,
    "start_time": "2022-04-28T12:02:50.098Z"
   },
   {
    "duration": 138,
    "start_time": "2022-04-28T12:05:31.834Z"
   },
   {
    "duration": 23,
    "start_time": "2022-04-28T12:05:51.341Z"
   },
   {
    "duration": 21,
    "start_time": "2022-04-28T12:07:31.586Z"
   },
   {
    "duration": 15,
    "start_time": "2022-04-28T12:07:47.616Z"
   },
   {
    "duration": 15,
    "start_time": "2022-04-28T12:08:16.736Z"
   },
   {
    "duration": 1578,
    "start_time": "2022-04-28T12:09:54.535Z"
   },
   {
    "duration": 205,
    "start_time": "2022-04-28T12:09:56.116Z"
   },
   {
    "duration": 70,
    "start_time": "2022-04-28T12:09:56.323Z"
   },
   {
    "duration": 39,
    "start_time": "2022-04-28T12:09:56.396Z"
   },
   {
    "duration": 27,
    "start_time": "2022-04-28T12:09:56.438Z"
   },
   {
    "duration": 24,
    "start_time": "2022-04-28T12:09:56.468Z"
   },
   {
    "duration": 74,
    "start_time": "2022-04-28T12:09:56.494Z"
   },
   {
    "duration": 20,
    "start_time": "2022-04-28T12:09:56.571Z"
   },
   {
    "duration": 24,
    "start_time": "2022-04-28T12:09:56.625Z"
   },
   {
    "duration": 7,
    "start_time": "2022-04-28T12:09:56.652Z"
   },
   {
    "duration": 36,
    "start_time": "2022-04-28T12:09:56.661Z"
   },
   {
    "duration": 483,
    "start_time": "2022-04-28T12:09:56.699Z"
   },
   {
    "duration": 473,
    "start_time": "2022-04-28T12:09:57.185Z"
   },
   {
    "duration": 331,
    "start_time": "2022-04-28T12:09:57.661Z"
   },
   {
    "duration": 458,
    "start_time": "2022-04-28T12:09:57.994Z"
   },
   {
    "duration": 375,
    "start_time": "2022-04-28T12:09:58.454Z"
   },
   {
    "duration": 602,
    "start_time": "2022-04-28T12:09:58.832Z"
   },
   {
    "duration": 14,
    "start_time": "2022-04-28T12:09:59.436Z"
   },
   {
    "duration": 264,
    "start_time": "2022-04-28T12:09:59.453Z"
   },
   {
    "duration": 7,
    "start_time": "2022-04-28T12:09:59.720Z"
   },
   {
    "duration": 316,
    "start_time": "2022-04-28T12:09:59.730Z"
   },
   {
    "duration": 8,
    "start_time": "2022-04-28T12:10:00.049Z"
   },
   {
    "duration": 387,
    "start_time": "2022-04-28T12:10:00.060Z"
   },
   {
    "duration": 380,
    "start_time": "2022-04-28T12:10:00.450Z"
   },
   {
    "duration": 18,
    "start_time": "2022-04-28T12:10:00.832Z"
   },
   {
    "duration": 56,
    "start_time": "2022-04-28T12:10:00.853Z"
   },
   {
    "duration": 21,
    "start_time": "2022-04-28T12:10:00.912Z"
   },
   {
    "duration": 28,
    "start_time": "2022-04-28T12:10:00.939Z"
   },
   {
    "duration": 55,
    "start_time": "2022-04-28T12:10:00.969Z"
   },
   {
    "duration": 35,
    "start_time": "2022-04-28T12:10:01.027Z"
   },
   {
    "duration": 21,
    "start_time": "2022-04-28T12:10:01.065Z"
   },
   {
    "duration": 82,
    "start_time": "2022-04-28T20:20:33.537Z"
   },
   {
    "duration": 1334,
    "start_time": "2022-04-28T20:20:40.607Z"
   },
   {
    "duration": 179,
    "start_time": "2022-04-28T20:20:41.944Z"
   },
   {
    "duration": 75,
    "start_time": "2022-04-28T20:20:42.126Z"
   },
   {
    "duration": 15,
    "start_time": "2022-04-28T20:20:42.205Z"
   },
   {
    "duration": 28,
    "start_time": "2022-04-28T20:20:42.222Z"
   },
   {
    "duration": 41,
    "start_time": "2022-04-28T20:20:42.253Z"
   },
   {
    "duration": 43,
    "start_time": "2022-04-28T20:20:42.297Z"
   },
   {
    "duration": 53,
    "start_time": "2022-04-28T20:20:42.342Z"
   },
   {
    "duration": 28,
    "start_time": "2022-04-28T20:20:42.408Z"
   },
   {
    "duration": 9,
    "start_time": "2022-04-28T20:20:42.439Z"
   },
   {
    "duration": 50,
    "start_time": "2022-04-28T20:20:42.449Z"
   },
   {
    "duration": 459,
    "start_time": "2022-04-28T20:20:42.502Z"
   },
   {
    "duration": 298,
    "start_time": "2022-04-28T20:20:47.788Z"
   },
   {
    "duration": 374,
    "start_time": "2022-04-28T20:21:01.424Z"
   },
   {
    "duration": 413,
    "start_time": "2022-04-28T20:22:05.453Z"
   },
   {
    "duration": 154,
    "start_time": "2022-04-28T20:22:47.471Z"
   },
   {
    "duration": 488,
    "start_time": "2022-04-28T20:23:04.710Z"
   },
   {
    "duration": 142,
    "start_time": "2022-04-28T20:23:31.227Z"
   },
   {
    "duration": 309,
    "start_time": "2022-04-28T20:23:45.956Z"
   }
  ],
  "kernelspec": {
   "display_name": "Python 3 (ipykernel)",
   "language": "python",
   "name": "python3"
  },
  "language_info": {
   "codemirror_mode": {
    "name": "ipython",
    "version": 3
   },
   "file_extension": ".py",
   "mimetype": "text/x-python",
   "name": "python",
   "nbconvert_exporter": "python",
   "pygments_lexer": "ipython3",
   "version": "3.9.7"
  },
  "toc": {
   "base_numbering": 1,
   "nav_menu": {},
   "number_sections": true,
   "sideBar": true,
   "skip_h1_title": true,
   "title_cell": "Table of Contents",
   "title_sidebar": "Contents",
   "toc_cell": false,
   "toc_position": {
    "height": "calc(100% - 180px)",
    "left": "10px",
    "top": "150px",
    "width": "362.391px"
   },
   "toc_section_display": true,
   "toc_window_display": true
  }
 },
 "nbformat": 4,
 "nbformat_minor": 2
}
