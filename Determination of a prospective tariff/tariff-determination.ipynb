{
 "cells": [
  {
   "cell_type": "markdown",
   "metadata": {},
   "source": [
    "<h1>Определение перспективного тарифа</h1>  \n",
    "  \n",
    "«Мегалайн» — федеральный оператор сотовой связи. Клиентам предлагают два тарифных плана: «Смарт» и «Ультра». Чтобы скорректировать рекламный бюджет, коммерческий департамент хочет понять, какой тариф приносит больше денег. \n",
    "  \n",
    "Необходимо сделать предварительный анализ тарифов на небольшой выборке клиентов - 500 пользователей \"Мегалайна\". Выбрка содержит данные о том кто они, откуда, каким тарифом пользуются, сколько звонков и сообщений каждый отправил за 2018 год.  \n",
    "  \n",
    "**Задача:** анализ поведения клиентов, вывод о том, какой тариф лучше."
   ]
  },
  {
   "cell_type": "markdown",
   "metadata": {},
   "source": [
    "**Описание тарифов**"
   ]
  },
  {
   "cell_type": "code",
   "execution_count": 1,
   "metadata": {},
   "outputs": [
    {
     "data": {
      "text/html": [
       "<div>\n",
       "<style scoped>\n",
       "    .dataframe tbody tr th:only-of-type {\n",
       "        vertical-align: middle;\n",
       "    }\n",
       "\n",
       "    .dataframe tbody tr th {\n",
       "        vertical-align: top;\n",
       "    }\n",
       "\n",
       "    .dataframe thead th {\n",
       "        text-align: right;\n",
       "    }\n",
       "</style>\n",
       "<table border=\"1\" class=\"dataframe\">\n",
       "  <thead>\n",
       "    <tr style=\"text-align: right;\">\n",
       "      <th></th>\n",
       "      <th>messages_included</th>\n",
       "      <th>mb_per_month_included</th>\n",
       "      <th>minutes_included</th>\n",
       "      <th>rub_monthly_fee</th>\n",
       "      <th>rub_per_gb</th>\n",
       "      <th>rub_per_message</th>\n",
       "      <th>rub_per_minute</th>\n",
       "      <th>tariff_name</th>\n",
       "    </tr>\n",
       "  </thead>\n",
       "  <tbody>\n",
       "    <tr>\n",
       "      <td>0</td>\n",
       "      <td>50</td>\n",
       "      <td>15360</td>\n",
       "      <td>500</td>\n",
       "      <td>550</td>\n",
       "      <td>200</td>\n",
       "      <td>3</td>\n",
       "      <td>3</td>\n",
       "      <td>smart</td>\n",
       "    </tr>\n",
       "    <tr>\n",
       "      <td>1</td>\n",
       "      <td>1000</td>\n",
       "      <td>30720</td>\n",
       "      <td>3000</td>\n",
       "      <td>1950</td>\n",
       "      <td>150</td>\n",
       "      <td>1</td>\n",
       "      <td>1</td>\n",
       "      <td>ultra</td>\n",
       "    </tr>\n",
       "  </tbody>\n",
       "</table>\n",
       "</div>"
      ],
      "text/plain": [
       "   messages_included  mb_per_month_included  minutes_included  \\\n",
       "0                 50                  15360               500   \n",
       "1               1000                  30720              3000   \n",
       "\n",
       "   rub_monthly_fee  rub_per_gb  rub_per_message  rub_per_minute tariff_name  \n",
       "0              550         200                3               3       smart  \n",
       "1             1950         150                1               1       ultra  "
      ]
     },
     "metadata": {},
     "output_type": "display_data"
    }
   ],
   "source": [
    "import pandas as pd #импорт библиотек\n",
    "import numpy as np\n",
    "import matplotlib.pyplot as plt\n",
    "import seaborn as sns\n",
    "import warnings \n",
    "\n",
    "warnings.filterwarnings(\"ignore\", category=DeprecationWarning)\n",
    "\n",
    "try: #используем конструкцию try-except чтобы 100% прочитать файл\n",
    "    tariffs_data = pd.read_csv('C:/Users/Полинария/Downloads/tariffs.csv', sep=',') #чтение локально\n",
    "except:\n",
    "    tariffs_data = pd.read_csv('/datasets/tariffs.csv', sep=',') #чтение файла на сервере\n",
    "display(tariffs_data.head()) #знакомимся с данными"
   ]
  },
  {
   "cell_type": "markdown",
   "metadata": {},
   "source": [
    "<h1>Шаг 1. Просмотр файлов с данными и изучение общей информации</h1>  \n",
    "  \n",
    "На этом шаге просматриваю датасеты, изучаю общую информацию методами info() и describe()."
   ]
  },
  {
   "cell_type": "code",
   "execution_count": 2,
   "metadata": {},
   "outputs": [
    {
     "data": {
      "text/html": [
       "<div>\n",
       "<style scoped>\n",
       "    .dataframe tbody tr th:only-of-type {\n",
       "        vertical-align: middle;\n",
       "    }\n",
       "\n",
       "    .dataframe tbody tr th {\n",
       "        vertical-align: top;\n",
       "    }\n",
       "\n",
       "    .dataframe thead th {\n",
       "        text-align: right;\n",
       "    }\n",
       "</style>\n",
       "<table border=\"1\" class=\"dataframe\">\n",
       "  <thead>\n",
       "    <tr style=\"text-align: right;\">\n",
       "      <th></th>\n",
       "      <th>id</th>\n",
       "      <th>call_date</th>\n",
       "      <th>duration</th>\n",
       "      <th>user_id</th>\n",
       "    </tr>\n",
       "  </thead>\n",
       "  <tbody>\n",
       "    <tr>\n",
       "      <td>0</td>\n",
       "      <td>1000_0</td>\n",
       "      <td>2018-07-25</td>\n",
       "      <td>0.00</td>\n",
       "      <td>1000</td>\n",
       "    </tr>\n",
       "    <tr>\n",
       "      <td>1</td>\n",
       "      <td>1000_1</td>\n",
       "      <td>2018-08-17</td>\n",
       "      <td>0.00</td>\n",
       "      <td>1000</td>\n",
       "    </tr>\n",
       "    <tr>\n",
       "      <td>2</td>\n",
       "      <td>1000_2</td>\n",
       "      <td>2018-06-11</td>\n",
       "      <td>2.85</td>\n",
       "      <td>1000</td>\n",
       "    </tr>\n",
       "    <tr>\n",
       "      <td>3</td>\n",
       "      <td>1000_3</td>\n",
       "      <td>2018-09-21</td>\n",
       "      <td>13.80</td>\n",
       "      <td>1000</td>\n",
       "    </tr>\n",
       "    <tr>\n",
       "      <td>4</td>\n",
       "      <td>1000_4</td>\n",
       "      <td>2018-12-15</td>\n",
       "      <td>5.18</td>\n",
       "      <td>1000</td>\n",
       "    </tr>\n",
       "  </tbody>\n",
       "</table>\n",
       "</div>"
      ],
      "text/plain": [
       "       id   call_date  duration  user_id\n",
       "0  1000_0  2018-07-25      0.00     1000\n",
       "1  1000_1  2018-08-17      0.00     1000\n",
       "2  1000_2  2018-06-11      2.85     1000\n",
       "3  1000_3  2018-09-21     13.80     1000\n",
       "4  1000_4  2018-12-15      5.18     1000"
      ]
     },
     "metadata": {},
     "output_type": "display_data"
    },
    {
     "name": "stdout",
     "output_type": "stream",
     "text": [
      "<class 'pandas.core.frame.DataFrame'>\n",
      "RangeIndex: 202607 entries, 0 to 202606\n",
      "Data columns (total 4 columns):\n",
      "id           202607 non-null object\n",
      "call_date    202607 non-null object\n",
      "duration     202607 non-null float64\n",
      "user_id      202607 non-null int64\n",
      "dtypes: float64(1), int64(1), object(2)\n",
      "memory usage: 6.2+ MB\n"
     ]
    }
   ],
   "source": [
    "try: #используем конструкцию try-except чтобы 100% прочитать файл\n",
    "    calls_data = pd.read_csv('C:/Users/Полинария/Downloads/calls.csv', sep=',') #чтение локально\n",
    "except:\n",
    "    calls_data = pd.read_csv('/datasets/calls.csv', sep=',') #чтение файла на сервере\n",
    "display(calls_data.head()) #знакомимся с данными\n",
    "calls_data.info()"
   ]
  },
  {
   "cell_type": "markdown",
   "metadata": {},
   "source": [
    "Радует, что в таблице с информацией о звонках нет пропущенных значений, однако можно сразу наметить себе фронт работ по calls_data:  \n",
    "1. Столбец call_date привести к типу datetime\n",
    "2. Округлить значения в столбце duration до минут, так как по условию \"Мегалайн\" всегда округляет секунды до минут.\n",
    "3. Округленный столбец duration привести к типу int64"
   ]
  },
  {
   "cell_type": "code",
   "execution_count": 3,
   "metadata": {},
   "outputs": [
    {
     "data": {
      "text/html": [
       "<div>\n",
       "<style scoped>\n",
       "    .dataframe tbody tr th:only-of-type {\n",
       "        vertical-align: middle;\n",
       "    }\n",
       "\n",
       "    .dataframe tbody tr th {\n",
       "        vertical-align: top;\n",
       "    }\n",
       "\n",
       "    .dataframe thead th {\n",
       "        text-align: right;\n",
       "    }\n",
       "</style>\n",
       "<table border=\"1\" class=\"dataframe\">\n",
       "  <thead>\n",
       "    <tr style=\"text-align: right;\">\n",
       "      <th></th>\n",
       "      <th>Unnamed: 0</th>\n",
       "      <th>id</th>\n",
       "      <th>mb_used</th>\n",
       "      <th>session_date</th>\n",
       "      <th>user_id</th>\n",
       "    </tr>\n",
       "  </thead>\n",
       "  <tbody>\n",
       "    <tr>\n",
       "      <td>0</td>\n",
       "      <td>0</td>\n",
       "      <td>1000_0</td>\n",
       "      <td>112.95</td>\n",
       "      <td>2018-11-25</td>\n",
       "      <td>1000</td>\n",
       "    </tr>\n",
       "    <tr>\n",
       "      <td>1</td>\n",
       "      <td>1</td>\n",
       "      <td>1000_1</td>\n",
       "      <td>1052.81</td>\n",
       "      <td>2018-09-07</td>\n",
       "      <td>1000</td>\n",
       "    </tr>\n",
       "    <tr>\n",
       "      <td>2</td>\n",
       "      <td>2</td>\n",
       "      <td>1000_2</td>\n",
       "      <td>1197.26</td>\n",
       "      <td>2018-06-25</td>\n",
       "      <td>1000</td>\n",
       "    </tr>\n",
       "    <tr>\n",
       "      <td>3</td>\n",
       "      <td>3</td>\n",
       "      <td>1000_3</td>\n",
       "      <td>550.27</td>\n",
       "      <td>2018-08-22</td>\n",
       "      <td>1000</td>\n",
       "    </tr>\n",
       "    <tr>\n",
       "      <td>4</td>\n",
       "      <td>4</td>\n",
       "      <td>1000_4</td>\n",
       "      <td>302.56</td>\n",
       "      <td>2018-09-24</td>\n",
       "      <td>1000</td>\n",
       "    </tr>\n",
       "  </tbody>\n",
       "</table>\n",
       "</div>"
      ],
      "text/plain": [
       "   Unnamed: 0      id  mb_used session_date  user_id\n",
       "0           0  1000_0   112.95   2018-11-25     1000\n",
       "1           1  1000_1  1052.81   2018-09-07     1000\n",
       "2           2  1000_2  1197.26   2018-06-25     1000\n",
       "3           3  1000_3   550.27   2018-08-22     1000\n",
       "4           4  1000_4   302.56   2018-09-24     1000"
      ]
     },
     "metadata": {},
     "output_type": "display_data"
    },
    {
     "name": "stdout",
     "output_type": "stream",
     "text": [
      "<class 'pandas.core.frame.DataFrame'>\n",
      "RangeIndex: 149396 entries, 0 to 149395\n",
      "Data columns (total 5 columns):\n",
      "Unnamed: 0      149396 non-null int64\n",
      "id              149396 non-null object\n",
      "mb_used         149396 non-null float64\n",
      "session_date    149396 non-null object\n",
      "user_id         149396 non-null int64\n",
      "dtypes: float64(1), int64(2), object(2)\n",
      "memory usage: 5.7+ MB\n"
     ]
    },
    {
     "data": {
      "text/html": [
       "<div>\n",
       "<style scoped>\n",
       "    .dataframe tbody tr th:only-of-type {\n",
       "        vertical-align: middle;\n",
       "    }\n",
       "\n",
       "    .dataframe tbody tr th {\n",
       "        vertical-align: top;\n",
       "    }\n",
       "\n",
       "    .dataframe thead th {\n",
       "        text-align: right;\n",
       "    }\n",
       "</style>\n",
       "<table border=\"1\" class=\"dataframe\">\n",
       "  <thead>\n",
       "    <tr style=\"text-align: right;\">\n",
       "      <th></th>\n",
       "      <th>Unnamed: 0</th>\n",
       "      <th>mb_used</th>\n",
       "      <th>user_id</th>\n",
       "    </tr>\n",
       "  </thead>\n",
       "  <tbody>\n",
       "    <tr>\n",
       "      <td>count</td>\n",
       "      <td>149396.000000</td>\n",
       "      <td>149396.000000</td>\n",
       "      <td>149396.000000</td>\n",
       "    </tr>\n",
       "    <tr>\n",
       "      <td>mean</td>\n",
       "      <td>74697.500000</td>\n",
       "      <td>370.192426</td>\n",
       "      <td>1252.099842</td>\n",
       "    </tr>\n",
       "    <tr>\n",
       "      <td>std</td>\n",
       "      <td>43127.054745</td>\n",
       "      <td>278.300951</td>\n",
       "      <td>144.050823</td>\n",
       "    </tr>\n",
       "    <tr>\n",
       "      <td>min</td>\n",
       "      <td>0.000000</td>\n",
       "      <td>0.000000</td>\n",
       "      <td>1000.000000</td>\n",
       "    </tr>\n",
       "    <tr>\n",
       "      <td>25%</td>\n",
       "      <td>37348.750000</td>\n",
       "      <td>138.187500</td>\n",
       "      <td>1130.000000</td>\n",
       "    </tr>\n",
       "    <tr>\n",
       "      <td>50%</td>\n",
       "      <td>74697.500000</td>\n",
       "      <td>348.015000</td>\n",
       "      <td>1251.000000</td>\n",
       "    </tr>\n",
       "    <tr>\n",
       "      <td>75%</td>\n",
       "      <td>112046.250000</td>\n",
       "      <td>559.552500</td>\n",
       "      <td>1380.000000</td>\n",
       "    </tr>\n",
       "    <tr>\n",
       "      <td>max</td>\n",
       "      <td>149395.000000</td>\n",
       "      <td>1724.830000</td>\n",
       "      <td>1499.000000</td>\n",
       "    </tr>\n",
       "  </tbody>\n",
       "</table>\n",
       "</div>"
      ],
      "text/plain": [
       "          Unnamed: 0        mb_used        user_id\n",
       "count  149396.000000  149396.000000  149396.000000\n",
       "mean    74697.500000     370.192426    1252.099842\n",
       "std     43127.054745     278.300951     144.050823\n",
       "min         0.000000       0.000000    1000.000000\n",
       "25%     37348.750000     138.187500    1130.000000\n",
       "50%     74697.500000     348.015000    1251.000000\n",
       "75%    112046.250000     559.552500    1380.000000\n",
       "max    149395.000000    1724.830000    1499.000000"
      ]
     },
     "execution_count": 3,
     "metadata": {},
     "output_type": "execute_result"
    }
   ],
   "source": [
    "try: #используем конструкцию try-except чтобы 100% прочитать файл\n",
    "    internet_data = pd.read_csv('C:/Users/Полинария/Downloads/internet.csv', sep=',') #чтение локально\n",
    "except:\n",
    "    internet_data = pd.read_csv('/datasets/internet.csv', sep=',') #чтение файла на сервере\n",
    "display(internet_data.head()) #знакомимся с данными\n",
    "internet_data.info()\n",
    "internet_data.describe()"
   ]
  },
  {
   "cell_type": "markdown",
   "metadata": {},
   "source": [
    "Снова вдохновляет отсутствие пропусков! И опять стоит отметить фронт работ с таблицей:  \n",
    "1. Удалить столбец Unnamed, дублирующий индексы строк (вызвала метод describe() специально, чтобы убедиться, что это дубль индексов)\n",
    "2. Перевести колонку с датой сессии в формат datetime. \n",
    "  \n",
    "Мегабайты в гигабайты пока не переводим, так как округляется общее количество мегабайт за месяц. Поэтому перевод будем осуществлять уже после группировки по пользователям и месяцам."
   ]
  },
  {
   "cell_type": "code",
   "execution_count": 4,
   "metadata": {},
   "outputs": [
    {
     "data": {
      "text/html": [
       "<div>\n",
       "<style scoped>\n",
       "    .dataframe tbody tr th:only-of-type {\n",
       "        vertical-align: middle;\n",
       "    }\n",
       "\n",
       "    .dataframe tbody tr th {\n",
       "        vertical-align: top;\n",
       "    }\n",
       "\n",
       "    .dataframe thead th {\n",
       "        text-align: right;\n",
       "    }\n",
       "</style>\n",
       "<table border=\"1\" class=\"dataframe\">\n",
       "  <thead>\n",
       "    <tr style=\"text-align: right;\">\n",
       "      <th></th>\n",
       "      <th>id</th>\n",
       "      <th>mb_used</th>\n",
       "      <th>session_date</th>\n",
       "      <th>user_id</th>\n",
       "    </tr>\n",
       "  </thead>\n",
       "  <tbody>\n",
       "    <tr>\n",
       "      <td>0</td>\n",
       "      <td>1000_0</td>\n",
       "      <td>112.95</td>\n",
       "      <td>2018-11-25</td>\n",
       "      <td>1000</td>\n",
       "    </tr>\n",
       "    <tr>\n",
       "      <td>1</td>\n",
       "      <td>1000_1</td>\n",
       "      <td>1052.81</td>\n",
       "      <td>2018-09-07</td>\n",
       "      <td>1000</td>\n",
       "    </tr>\n",
       "    <tr>\n",
       "      <td>2</td>\n",
       "      <td>1000_2</td>\n",
       "      <td>1197.26</td>\n",
       "      <td>2018-06-25</td>\n",
       "      <td>1000</td>\n",
       "    </tr>\n",
       "    <tr>\n",
       "      <td>3</td>\n",
       "      <td>1000_3</td>\n",
       "      <td>550.27</td>\n",
       "      <td>2018-08-22</td>\n",
       "      <td>1000</td>\n",
       "    </tr>\n",
       "    <tr>\n",
       "      <td>4</td>\n",
       "      <td>1000_4</td>\n",
       "      <td>302.56</td>\n",
       "      <td>2018-09-24</td>\n",
       "      <td>1000</td>\n",
       "    </tr>\n",
       "  </tbody>\n",
       "</table>\n",
       "</div>"
      ],
      "text/plain": [
       "       id  mb_used session_date  user_id\n",
       "0  1000_0   112.95   2018-11-25     1000\n",
       "1  1000_1  1052.81   2018-09-07     1000\n",
       "2  1000_2  1197.26   2018-06-25     1000\n",
       "3  1000_3   550.27   2018-08-22     1000\n",
       "4  1000_4   302.56   2018-09-24     1000"
      ]
     },
     "metadata": {},
     "output_type": "display_data"
    }
   ],
   "source": [
    "internet_data = pd.read_csv('/datasets/internet.csv', sep=',', index_col=0) \n",
    "display(internet_data.head()) "
   ]
  },
  {
   "cell_type": "code",
   "execution_count": 5,
   "metadata": {},
   "outputs": [
    {
     "data": {
      "text/html": [
       "<div>\n",
       "<style scoped>\n",
       "    .dataframe tbody tr th:only-of-type {\n",
       "        vertical-align: middle;\n",
       "    }\n",
       "\n",
       "    .dataframe tbody tr th {\n",
       "        vertical-align: top;\n",
       "    }\n",
       "\n",
       "    .dataframe thead th {\n",
       "        text-align: right;\n",
       "    }\n",
       "</style>\n",
       "<table border=\"1\" class=\"dataframe\">\n",
       "  <thead>\n",
       "    <tr style=\"text-align: right;\">\n",
       "      <th></th>\n",
       "      <th>id</th>\n",
       "      <th>message_date</th>\n",
       "      <th>user_id</th>\n",
       "    </tr>\n",
       "  </thead>\n",
       "  <tbody>\n",
       "    <tr>\n",
       "      <td>0</td>\n",
       "      <td>1000_0</td>\n",
       "      <td>2018-06-27</td>\n",
       "      <td>1000</td>\n",
       "    </tr>\n",
       "    <tr>\n",
       "      <td>1</td>\n",
       "      <td>1000_1</td>\n",
       "      <td>2018-10-08</td>\n",
       "      <td>1000</td>\n",
       "    </tr>\n",
       "    <tr>\n",
       "      <td>2</td>\n",
       "      <td>1000_2</td>\n",
       "      <td>2018-08-04</td>\n",
       "      <td>1000</td>\n",
       "    </tr>\n",
       "    <tr>\n",
       "      <td>3</td>\n",
       "      <td>1000_3</td>\n",
       "      <td>2018-06-16</td>\n",
       "      <td>1000</td>\n",
       "    </tr>\n",
       "    <tr>\n",
       "      <td>4</td>\n",
       "      <td>1000_4</td>\n",
       "      <td>2018-12-05</td>\n",
       "      <td>1000</td>\n",
       "    </tr>\n",
       "  </tbody>\n",
       "</table>\n",
       "</div>"
      ],
      "text/plain": [
       "       id message_date  user_id\n",
       "0  1000_0   2018-06-27     1000\n",
       "1  1000_1   2018-10-08     1000\n",
       "2  1000_2   2018-08-04     1000\n",
       "3  1000_3   2018-06-16     1000\n",
       "4  1000_4   2018-12-05     1000"
      ]
     },
     "metadata": {},
     "output_type": "display_data"
    },
    {
     "name": "stdout",
     "output_type": "stream",
     "text": [
      "<class 'pandas.core.frame.DataFrame'>\n",
      "RangeIndex: 123036 entries, 0 to 123035\n",
      "Data columns (total 3 columns):\n",
      "id              123036 non-null object\n",
      "message_date    123036 non-null object\n",
      "user_id         123036 non-null int64\n",
      "dtypes: int64(1), object(2)\n",
      "memory usage: 2.8+ MB\n"
     ]
    }
   ],
   "source": [
    "try: #используем конструкцию try-except чтобы 100% прочитать файл\n",
    "    messages_data = pd.read_csv('C:/Users/Полинария/Downloads/messages.csv', sep=',') #чтение локально\n",
    "except:\n",
    "    messages_data = pd.read_csv('/datasets/messages.csv', sep=',') #чтение файла на сервере\n",
    "display(messages_data.head()) #знакомимся с данными\n",
    "messages_data.info()"
   ]
  },
  {
   "cell_type": "markdown",
   "metadata": {},
   "source": [
    "Пропуски отсутствуют, действия такие же как с таблицей с данными по интернет-сессиям."
   ]
  },
  {
   "cell_type": "code",
   "execution_count": 6,
   "metadata": {},
   "outputs": [
    {
     "data": {
      "text/html": [
       "<div>\n",
       "<style scoped>\n",
       "    .dataframe tbody tr th:only-of-type {\n",
       "        vertical-align: middle;\n",
       "    }\n",
       "\n",
       "    .dataframe tbody tr th {\n",
       "        vertical-align: top;\n",
       "    }\n",
       "\n",
       "    .dataframe thead th {\n",
       "        text-align: right;\n",
       "    }\n",
       "</style>\n",
       "<table border=\"1\" class=\"dataframe\">\n",
       "  <thead>\n",
       "    <tr style=\"text-align: right;\">\n",
       "      <th></th>\n",
       "      <th>user_id</th>\n",
       "      <th>age</th>\n",
       "      <th>churn_date</th>\n",
       "      <th>city</th>\n",
       "      <th>first_name</th>\n",
       "      <th>last_name</th>\n",
       "      <th>reg_date</th>\n",
       "      <th>tariff</th>\n",
       "    </tr>\n",
       "  </thead>\n",
       "  <tbody>\n",
       "    <tr>\n",
       "      <td>0</td>\n",
       "      <td>1000</td>\n",
       "      <td>52</td>\n",
       "      <td>NaN</td>\n",
       "      <td>Краснодар</td>\n",
       "      <td>Рафаил</td>\n",
       "      <td>Верещагин</td>\n",
       "      <td>2018-05-25</td>\n",
       "      <td>ultra</td>\n",
       "    </tr>\n",
       "    <tr>\n",
       "      <td>1</td>\n",
       "      <td>1001</td>\n",
       "      <td>41</td>\n",
       "      <td>NaN</td>\n",
       "      <td>Москва</td>\n",
       "      <td>Иван</td>\n",
       "      <td>Ежов</td>\n",
       "      <td>2018-11-01</td>\n",
       "      <td>smart</td>\n",
       "    </tr>\n",
       "    <tr>\n",
       "      <td>2</td>\n",
       "      <td>1002</td>\n",
       "      <td>59</td>\n",
       "      <td>NaN</td>\n",
       "      <td>Стерлитамак</td>\n",
       "      <td>Евгений</td>\n",
       "      <td>Абрамович</td>\n",
       "      <td>2018-06-17</td>\n",
       "      <td>smart</td>\n",
       "    </tr>\n",
       "    <tr>\n",
       "      <td>3</td>\n",
       "      <td>1003</td>\n",
       "      <td>23</td>\n",
       "      <td>NaN</td>\n",
       "      <td>Москва</td>\n",
       "      <td>Белла</td>\n",
       "      <td>Белякова</td>\n",
       "      <td>2018-08-17</td>\n",
       "      <td>ultra</td>\n",
       "    </tr>\n",
       "    <tr>\n",
       "      <td>4</td>\n",
       "      <td>1004</td>\n",
       "      <td>68</td>\n",
       "      <td>NaN</td>\n",
       "      <td>Новокузнецк</td>\n",
       "      <td>Татьяна</td>\n",
       "      <td>Авдеенко</td>\n",
       "      <td>2018-05-14</td>\n",
       "      <td>ultra</td>\n",
       "    </tr>\n",
       "  </tbody>\n",
       "</table>\n",
       "</div>"
      ],
      "text/plain": [
       "   user_id  age churn_date         city first_name  last_name    reg_date  \\\n",
       "0     1000   52        NaN    Краснодар     Рафаил  Верещагин  2018-05-25   \n",
       "1     1001   41        NaN       Москва       Иван       Ежов  2018-11-01   \n",
       "2     1002   59        NaN  Стерлитамак    Евгений  Абрамович  2018-06-17   \n",
       "3     1003   23        NaN       Москва      Белла   Белякова  2018-08-17   \n",
       "4     1004   68        NaN  Новокузнецк    Татьяна   Авдеенко  2018-05-14   \n",
       "\n",
       "  tariff  \n",
       "0  ultra  \n",
       "1  smart  \n",
       "2  smart  \n",
       "3  ultra  \n",
       "4  ultra  "
      ]
     },
     "metadata": {},
     "output_type": "display_data"
    },
    {
     "name": "stdout",
     "output_type": "stream",
     "text": [
      "<class 'pandas.core.frame.DataFrame'>\n",
      "RangeIndex: 500 entries, 0 to 499\n",
      "Data columns (total 8 columns):\n",
      "user_id       500 non-null int64\n",
      "age           500 non-null int64\n",
      "churn_date    38 non-null object\n",
      "city          500 non-null object\n",
      "first_name    500 non-null object\n",
      "last_name     500 non-null object\n",
      "reg_date      500 non-null object\n",
      "tariff        500 non-null object\n",
      "dtypes: int64(2), object(6)\n",
      "memory usage: 31.4+ KB\n"
     ]
    }
   ],
   "source": [
    "try: #используем конструкцию try-except чтобы 100% прочитать файл\n",
    "    users_data = pd.read_csv('C:/Users/Полинария/Downloads/users.csv', sep=',') #чтение локально\n",
    "except:\n",
    "    users_data = pd.read_csv('/datasets/users.csv', sep=',') #чтение файла на сервере\n",
    "display(users_data.head()) #знакомимся с данными\n",
    "users_data.info()"
   ]
  },
  {
   "cell_type": "markdown",
   "metadata": {},
   "source": [
    "Тоже все хорошо с данными, разве что переведем даты в нужный формат. Пропуски в колонке прекращения пользования тарифом нас не волнуют. Однако нас волнуют города пользователей, поэтому на всякий случай посмотрим список уникальных значений на наличие неочевидных дубликатов. Пользователей всего 50, так что метода unique() вполне достаточно."
   ]
  },
  {
   "cell_type": "code",
   "execution_count": 7,
   "metadata": {},
   "outputs": [
    {
     "data": {
      "text/plain": [
       "array(['Краснодар', 'Москва', 'Стерлитамак', 'Новокузнецк',\n",
       "       'Набережные Челны', 'Ульяновск', 'Челябинск', 'Пермь', 'Тюмень',\n",
       "       'Самара', 'Санкт-Петербург', 'Иваново', 'Чебоксары', 'Омск', 'Уфа',\n",
       "       'Томск', 'Чита', 'Мурманск', 'Петрозаводск', 'Тверь',\n",
       "       'Екатеринбург', 'Махачкала', 'Вологда', 'Череповец', 'Ярославль',\n",
       "       'Сочи', 'Хабаровск', 'Ставрополь', 'Рязань', 'Улан-Удэ', 'Тула',\n",
       "       'Саратов', 'Ростов-на-Дону', 'Казань', 'Иркутск', 'Курск',\n",
       "       'Калуга', 'Якутск', 'Астрахань', 'Химки', 'Владикавказ',\n",
       "       'Волгоград', 'Саранск', 'Ижевск', 'Новосибирск', 'Брянск',\n",
       "       'Тольятти', 'Нижний Тагил', 'Орёл', 'Белгород', 'Воронеж',\n",
       "       'Волжский', 'Курган', 'Барнаул', 'Красноярск', 'Архангельск',\n",
       "       'Липецк', 'Кемерово', 'Киров', 'Сургут', 'Пенза', 'Магнитогорск',\n",
       "       'Нижний Новгород', 'Кострома', 'Владивосток', 'Тамбов', 'Балашиха',\n",
       "       'Севастополь', 'Калининград', 'Оренбург', 'Смоленск',\n",
       "       'Нижневартовск', 'Владимир', 'Новороссийск', 'Грозный', 'Подольск'],\n",
       "      dtype=object)"
      ]
     },
     "execution_count": 7,
     "metadata": {},
     "output_type": "execute_result"
    }
   ],
   "source": [
    "users_data['city'].unique()"
   ]
  },
  {
   "cell_type": "markdown",
   "metadata": {},
   "source": [
    "<h1>Выводы по Шагу 1</h1>  \n",
    "  \n",
    "Открытие и первое знакомство с данными показало, что...нам повезло! Пропуски в данных отсутствуют, а значит не придется тратить время на их заполнение. В следущем шаге проведем запланированную обработку столбцов, на всякий случай проверим таблицы на дубликаты, а также добавим новые необходимые для анализа столбцы."
   ]
  },
  {
   "cell_type": "markdown",
   "metadata": {},
   "source": [
    "<h1>Шаг 2. Подготовка данных</h1>  \n",
    "  \n",
    "В этом разделе мы приведем данные к нужному виду, исправим ошибки, если они есть. Приведем данные к нужным типам и посчитаем необходимую дополнительную информацию.  \n",
    "  \n",
    "Пропусков данных мы не обнаружили, на всякий случай проверим таблицы на наличие явных дубликатов:"
   ]
  },
  {
   "cell_type": "code",
   "execution_count": 8,
   "metadata": {},
   "outputs": [
    {
     "name": "stdout",
     "output_type": "stream",
     "text": [
      "Дубликаты в данных о звонках: 0\n",
      "Дубликаты в данных об интернет-сессиях: 0\n",
      "Дубликаты в данных о сообщениях: 0\n",
      "Дубликаты в данных о пользователях: 0\n"
     ]
    }
   ],
   "source": [
    "print('Дубликаты в данных о звонках:', calls_data.duplicated().sum())\n",
    "print('Дубликаты в данных об интернет-сессиях:', internet_data.duplicated().sum())\n",
    "print('Дубликаты в данных о сообщениях:', messages_data.duplicated().sum())\n",
    "print('Дубликаты в данных о пользователях:', users_data.duplicated().sum())"
   ]
  },
  {
   "cell_type": "markdown",
   "metadata": {},
   "source": [
    "Супер, дубликатов нет, что не может не радовать. Идем дальше - преобразуем всю информацию о датах в репрезентабельный вид. Сначала преобразуем данные столбцов в особый формат datetime, а потом отбросить год (так как все данные являются данными 2018 года) и число (оно нас не сильно волнует):"
   ]
  },
  {
   "cell_type": "code",
   "execution_count": 9,
   "metadata": {},
   "outputs": [
    {
     "name": "stdout",
     "output_type": "stream",
     "text": [
      "<class 'pandas.core.frame.DataFrame'>\n",
      "RangeIndex: 202607 entries, 0 to 202606\n",
      "Data columns (total 5 columns):\n",
      "id           202607 non-null object\n",
      "call_date    202607 non-null datetime64[ns]\n",
      "duration     202607 non-null int64\n",
      "user_id      202607 non-null int64\n",
      "month        202607 non-null int64\n",
      "dtypes: datetime64[ns](1), int64(3), object(1)\n",
      "memory usage: 7.7+ MB\n"
     ]
    },
    {
     "data": {
      "text/html": [
       "<div>\n",
       "<style scoped>\n",
       "    .dataframe tbody tr th:only-of-type {\n",
       "        vertical-align: middle;\n",
       "    }\n",
       "\n",
       "    .dataframe tbody tr th {\n",
       "        vertical-align: top;\n",
       "    }\n",
       "\n",
       "    .dataframe thead th {\n",
       "        text-align: right;\n",
       "    }\n",
       "</style>\n",
       "<table border=\"1\" class=\"dataframe\">\n",
       "  <thead>\n",
       "    <tr style=\"text-align: right;\">\n",
       "      <th></th>\n",
       "      <th>id</th>\n",
       "      <th>call_date</th>\n",
       "      <th>duration</th>\n",
       "      <th>user_id</th>\n",
       "      <th>month</th>\n",
       "    </tr>\n",
       "  </thead>\n",
       "  <tbody>\n",
       "    <tr>\n",
       "      <td>0</td>\n",
       "      <td>1000_0</td>\n",
       "      <td>2018-07-25</td>\n",
       "      <td>0</td>\n",
       "      <td>1000</td>\n",
       "      <td>7</td>\n",
       "    </tr>\n",
       "    <tr>\n",
       "      <td>1</td>\n",
       "      <td>1000_1</td>\n",
       "      <td>2018-08-17</td>\n",
       "      <td>0</td>\n",
       "      <td>1000</td>\n",
       "      <td>8</td>\n",
       "    </tr>\n",
       "    <tr>\n",
       "      <td>2</td>\n",
       "      <td>1000_2</td>\n",
       "      <td>2018-06-11</td>\n",
       "      <td>3</td>\n",
       "      <td>1000</td>\n",
       "      <td>6</td>\n",
       "    </tr>\n",
       "    <tr>\n",
       "      <td>3</td>\n",
       "      <td>1000_3</td>\n",
       "      <td>2018-09-21</td>\n",
       "      <td>14</td>\n",
       "      <td>1000</td>\n",
       "      <td>9</td>\n",
       "    </tr>\n",
       "    <tr>\n",
       "      <td>4</td>\n",
       "      <td>1000_4</td>\n",
       "      <td>2018-12-15</td>\n",
       "      <td>6</td>\n",
       "      <td>1000</td>\n",
       "      <td>12</td>\n",
       "    </tr>\n",
       "  </tbody>\n",
       "</table>\n",
       "</div>"
      ],
      "text/plain": [
       "       id  call_date  duration  user_id  month\n",
       "0  1000_0 2018-07-25         0     1000      7\n",
       "1  1000_1 2018-08-17         0     1000      8\n",
       "2  1000_2 2018-06-11         3     1000      6\n",
       "3  1000_3 2018-09-21        14     1000      9\n",
       "4  1000_4 2018-12-15         6     1000     12"
      ]
     },
     "metadata": {},
     "output_type": "display_data"
    }
   ],
   "source": [
    "import math #импортируем math для округления\n",
    "calls_data['call_date'] = pd.to_datetime(calls_data['call_date'], format='%Y-%m-%d')\n",
    "calls_data['month'] = pd.DatetimeIndex(calls_data['call_date']).month #в будущем для работы мы будем использовать месяц, решила не перезаписывать столбец с полной датой- мало ли что\n",
    "calls_data['duration'] = calls_data['duration'].apply(math.ceil) #округляем в большую сторону, как и планировали в шаге 1\n",
    "calls_data.info() #проверки ради\n",
    "display(calls_data.head()) #глазами всегда хочется посмотреть"
   ]
  },
  {
   "cell_type": "markdown",
   "metadata": {},
   "source": [
    "Теперь продулаем тоже самое с остальными таблицами и заодно удалим столбуц Unnamed, информация о котором дублирует индексы строк:"
   ]
  },
  {
   "cell_type": "code",
   "execution_count": 10,
   "metadata": {},
   "outputs": [
    {
     "data": {
      "text/html": [
       "<div>\n",
       "<style scoped>\n",
       "    .dataframe tbody tr th:only-of-type {\n",
       "        vertical-align: middle;\n",
       "    }\n",
       "\n",
       "    .dataframe tbody tr th {\n",
       "        vertical-align: top;\n",
       "    }\n",
       "\n",
       "    .dataframe thead th {\n",
       "        text-align: right;\n",
       "    }\n",
       "</style>\n",
       "<table border=\"1\" class=\"dataframe\">\n",
       "  <thead>\n",
       "    <tr style=\"text-align: right;\">\n",
       "      <th></th>\n",
       "      <th>id</th>\n",
       "      <th>mb_used</th>\n",
       "      <th>session_date</th>\n",
       "      <th>user_id</th>\n",
       "      <th>month</th>\n",
       "    </tr>\n",
       "  </thead>\n",
       "  <tbody>\n",
       "    <tr>\n",
       "      <td>0</td>\n",
       "      <td>1000_0</td>\n",
       "      <td>112.95</td>\n",
       "      <td>2018-11-25</td>\n",
       "      <td>1000</td>\n",
       "      <td>11</td>\n",
       "    </tr>\n",
       "    <tr>\n",
       "      <td>1</td>\n",
       "      <td>1000_1</td>\n",
       "      <td>1052.81</td>\n",
       "      <td>2018-09-07</td>\n",
       "      <td>1000</td>\n",
       "      <td>9</td>\n",
       "    </tr>\n",
       "    <tr>\n",
       "      <td>2</td>\n",
       "      <td>1000_2</td>\n",
       "      <td>1197.26</td>\n",
       "      <td>2018-06-25</td>\n",
       "      <td>1000</td>\n",
       "      <td>6</td>\n",
       "    </tr>\n",
       "    <tr>\n",
       "      <td>3</td>\n",
       "      <td>1000_3</td>\n",
       "      <td>550.27</td>\n",
       "      <td>2018-08-22</td>\n",
       "      <td>1000</td>\n",
       "      <td>8</td>\n",
       "    </tr>\n",
       "    <tr>\n",
       "      <td>4</td>\n",
       "      <td>1000_4</td>\n",
       "      <td>302.56</td>\n",
       "      <td>2018-09-24</td>\n",
       "      <td>1000</td>\n",
       "      <td>9</td>\n",
       "    </tr>\n",
       "  </tbody>\n",
       "</table>\n",
       "</div>"
      ],
      "text/plain": [
       "       id  mb_used session_date  user_id  month\n",
       "0  1000_0   112.95   2018-11-25     1000     11\n",
       "1  1000_1  1052.81   2018-09-07     1000      9\n",
       "2  1000_2  1197.26   2018-06-25     1000      6\n",
       "3  1000_3   550.27   2018-08-22     1000      8\n",
       "4  1000_4   302.56   2018-09-24     1000      9"
      ]
     },
     "metadata": {},
     "output_type": "display_data"
    },
    {
     "data": {
      "text/html": [
       "<div>\n",
       "<style scoped>\n",
       "    .dataframe tbody tr th:only-of-type {\n",
       "        vertical-align: middle;\n",
       "    }\n",
       "\n",
       "    .dataframe tbody tr th {\n",
       "        vertical-align: top;\n",
       "    }\n",
       "\n",
       "    .dataframe thead th {\n",
       "        text-align: right;\n",
       "    }\n",
       "</style>\n",
       "<table border=\"1\" class=\"dataframe\">\n",
       "  <thead>\n",
       "    <tr style=\"text-align: right;\">\n",
       "      <th></th>\n",
       "      <th>id</th>\n",
       "      <th>message_date</th>\n",
       "      <th>user_id</th>\n",
       "      <th>month</th>\n",
       "    </tr>\n",
       "  </thead>\n",
       "  <tbody>\n",
       "    <tr>\n",
       "      <td>0</td>\n",
       "      <td>1000_0</td>\n",
       "      <td>2018-06-27</td>\n",
       "      <td>1000</td>\n",
       "      <td>6</td>\n",
       "    </tr>\n",
       "    <tr>\n",
       "      <td>1</td>\n",
       "      <td>1000_1</td>\n",
       "      <td>2018-10-08</td>\n",
       "      <td>1000</td>\n",
       "      <td>10</td>\n",
       "    </tr>\n",
       "    <tr>\n",
       "      <td>2</td>\n",
       "      <td>1000_2</td>\n",
       "      <td>2018-08-04</td>\n",
       "      <td>1000</td>\n",
       "      <td>8</td>\n",
       "    </tr>\n",
       "    <tr>\n",
       "      <td>3</td>\n",
       "      <td>1000_3</td>\n",
       "      <td>2018-06-16</td>\n",
       "      <td>1000</td>\n",
       "      <td>6</td>\n",
       "    </tr>\n",
       "    <tr>\n",
       "      <td>4</td>\n",
       "      <td>1000_4</td>\n",
       "      <td>2018-12-05</td>\n",
       "      <td>1000</td>\n",
       "      <td>12</td>\n",
       "    </tr>\n",
       "  </tbody>\n",
       "</table>\n",
       "</div>"
      ],
      "text/plain": [
       "       id message_date  user_id  month\n",
       "0  1000_0   2018-06-27     1000      6\n",
       "1  1000_1   2018-10-08     1000     10\n",
       "2  1000_2   2018-08-04     1000      8\n",
       "3  1000_3   2018-06-16     1000      6\n",
       "4  1000_4   2018-12-05     1000     12"
      ]
     },
     "metadata": {},
     "output_type": "display_data"
    },
    {
     "data": {
      "text/html": [
       "<div>\n",
       "<style scoped>\n",
       "    .dataframe tbody tr th:only-of-type {\n",
       "        vertical-align: middle;\n",
       "    }\n",
       "\n",
       "    .dataframe tbody tr th {\n",
       "        vertical-align: top;\n",
       "    }\n",
       "\n",
       "    .dataframe thead th {\n",
       "        text-align: right;\n",
       "    }\n",
       "</style>\n",
       "<table border=\"1\" class=\"dataframe\">\n",
       "  <thead>\n",
       "    <tr style=\"text-align: right;\">\n",
       "      <th></th>\n",
       "      <th>user_id</th>\n",
       "      <th>age</th>\n",
       "      <th>churn_date</th>\n",
       "      <th>city</th>\n",
       "      <th>first_name</th>\n",
       "      <th>last_name</th>\n",
       "      <th>reg_date</th>\n",
       "      <th>tariff</th>\n",
       "      <th>month</th>\n",
       "    </tr>\n",
       "  </thead>\n",
       "  <tbody>\n",
       "    <tr>\n",
       "      <td>0</td>\n",
       "      <td>1000</td>\n",
       "      <td>52</td>\n",
       "      <td>NaN</td>\n",
       "      <td>Краснодар</td>\n",
       "      <td>Рафаил</td>\n",
       "      <td>Верещагин</td>\n",
       "      <td>2018-05-25</td>\n",
       "      <td>ultra</td>\n",
       "      <td>5</td>\n",
       "    </tr>\n",
       "    <tr>\n",
       "      <td>1</td>\n",
       "      <td>1001</td>\n",
       "      <td>41</td>\n",
       "      <td>NaN</td>\n",
       "      <td>Москва</td>\n",
       "      <td>Иван</td>\n",
       "      <td>Ежов</td>\n",
       "      <td>2018-11-01</td>\n",
       "      <td>smart</td>\n",
       "      <td>11</td>\n",
       "    </tr>\n",
       "    <tr>\n",
       "      <td>2</td>\n",
       "      <td>1002</td>\n",
       "      <td>59</td>\n",
       "      <td>NaN</td>\n",
       "      <td>Стерлитамак</td>\n",
       "      <td>Евгений</td>\n",
       "      <td>Абрамович</td>\n",
       "      <td>2018-06-17</td>\n",
       "      <td>smart</td>\n",
       "      <td>6</td>\n",
       "    </tr>\n",
       "    <tr>\n",
       "      <td>3</td>\n",
       "      <td>1003</td>\n",
       "      <td>23</td>\n",
       "      <td>NaN</td>\n",
       "      <td>Москва</td>\n",
       "      <td>Белла</td>\n",
       "      <td>Белякова</td>\n",
       "      <td>2018-08-17</td>\n",
       "      <td>ultra</td>\n",
       "      <td>8</td>\n",
       "    </tr>\n",
       "    <tr>\n",
       "      <td>4</td>\n",
       "      <td>1004</td>\n",
       "      <td>68</td>\n",
       "      <td>NaN</td>\n",
       "      <td>Новокузнецк</td>\n",
       "      <td>Татьяна</td>\n",
       "      <td>Авдеенко</td>\n",
       "      <td>2018-05-14</td>\n",
       "      <td>ultra</td>\n",
       "      <td>5</td>\n",
       "    </tr>\n",
       "  </tbody>\n",
       "</table>\n",
       "</div>"
      ],
      "text/plain": [
       "   user_id  age churn_date         city first_name  last_name   reg_date  \\\n",
       "0     1000   52        NaN    Краснодар     Рафаил  Верещагин 2018-05-25   \n",
       "1     1001   41        NaN       Москва       Иван       Ежов 2018-11-01   \n",
       "2     1002   59        NaN  Стерлитамак    Евгений  Абрамович 2018-06-17   \n",
       "3     1003   23        NaN       Москва      Белла   Белякова 2018-08-17   \n",
       "4     1004   68        NaN  Новокузнецк    Татьяна   Авдеенко 2018-05-14   \n",
       "\n",
       "  tariff  month  \n",
       "0  ultra      5  \n",
       "1  smart     11  \n",
       "2  smart      6  \n",
       "3  ultra      8  \n",
       "4  ultra      5  "
      ]
     },
     "metadata": {},
     "output_type": "display_data"
    }
   ],
   "source": [
    "internet_data['session_date'] = pd.to_datetime(internet_data['session_date'], format='%Y-%m-%d')\n",
    "internet_data['month'] = pd.DatetimeIndex(internet_data['session_date']).month\n",
    "#internet_data = internet_data.drop('Unnamed: 0', 1)\n",
    "display(internet_data.head())\n",
    "messages_data['message_date'] = pd.to_datetime(messages_data['message_date'], format='%Y-%m-%d')\n",
    "messages_data['month'] = pd.DatetimeIndex(messages_data['message_date']).month\n",
    "display(messages_data.head())\n",
    "users_data['reg_date'] = pd.to_datetime(users_data['reg_date'], format='%Y-%m-%d')\n",
    "users_data['month'] = pd.DatetimeIndex(users_data['reg_date']).month\n",
    "display(users_data.head())"
   ]
  },
  {
   "cell_type": "markdown",
   "metadata": {},
   "source": [
    "Теперь, когда данные приведены в порядок, посчитаем количество сделанных звонков и израсходованных минут разговора по месяцам:"
   ]
  },
  {
   "cell_type": "code",
   "execution_count": 11,
   "metadata": {},
   "outputs": [
    {
     "data": {
      "text/html": [
       "<div>\n",
       "<style scoped>\n",
       "    .dataframe tbody tr th:only-of-type {\n",
       "        vertical-align: middle;\n",
       "    }\n",
       "\n",
       "    .dataframe tbody tr th {\n",
       "        vertical-align: top;\n",
       "    }\n",
       "\n",
       "    .dataframe thead th {\n",
       "        text-align: right;\n",
       "    }\n",
       "</style>\n",
       "<table border=\"1\" class=\"dataframe\">\n",
       "  <thead>\n",
       "    <tr style=\"text-align: right;\">\n",
       "      <th></th>\n",
       "      <th>user_id</th>\n",
       "      <th>month</th>\n",
       "      <th>duration</th>\n",
       "      <th>amount_of_calls</th>\n",
       "    </tr>\n",
       "  </thead>\n",
       "  <tbody>\n",
       "    <tr>\n",
       "      <td>0</td>\n",
       "      <td>1000</td>\n",
       "      <td>5</td>\n",
       "      <td>159</td>\n",
       "      <td>22</td>\n",
       "    </tr>\n",
       "    <tr>\n",
       "      <td>1</td>\n",
       "      <td>1000</td>\n",
       "      <td>6</td>\n",
       "      <td>172</td>\n",
       "      <td>43</td>\n",
       "    </tr>\n",
       "    <tr>\n",
       "      <td>2</td>\n",
       "      <td>1000</td>\n",
       "      <td>7</td>\n",
       "      <td>340</td>\n",
       "      <td>47</td>\n",
       "    </tr>\n",
       "    <tr>\n",
       "      <td>3</td>\n",
       "      <td>1000</td>\n",
       "      <td>8</td>\n",
       "      <td>408</td>\n",
       "      <td>52</td>\n",
       "    </tr>\n",
       "    <tr>\n",
       "      <td>4</td>\n",
       "      <td>1000</td>\n",
       "      <td>9</td>\n",
       "      <td>466</td>\n",
       "      <td>58</td>\n",
       "    </tr>\n",
       "  </tbody>\n",
       "</table>\n",
       "</div>"
      ],
      "text/plain": [
       "   user_id  month  duration  amount_of_calls\n",
       "0     1000      5       159               22\n",
       "1     1000      6       172               43\n",
       "2     1000      7       340               47\n",
       "3     1000      8       408               52\n",
       "4     1000      9       466               58"
      ]
     },
     "metadata": {},
     "output_type": "display_data"
    }
   ],
   "source": [
    "calls_data2 = calls_data.groupby(['user_id', 'month']).agg({'duration': 'count'}).reset_index() #используем группировку методом groupby, вытаскиваем ЧИСЛО звонков каждый месяц, пока не переписали основную таблицу\n",
    "users_calls = calls_data.groupby(['user_id', 'month']).agg({'duration': 'sum'}).reset_index() # с помощью группировки переписываем и заменяем на нужную нам таблицу\n",
    "users_calls['amount_of_calls'] = calls_data2['duration'] #помним, что тут у нас хранится ЧИСЛО звонков, а не суммарная продолжительность\n",
    "display(users_calls.head()) #проверка"
   ]
  },
  {
   "cell_type": "markdown",
   "metadata": {},
   "source": [
    "Отлично, нам удалось почитать количество и продолжительность звонков для каждого пользователя в разрезе по месяцам!  \n",
    "  \n",
    "Теперь посчитаем количество отправленных сообщений по месяцам:"
   ]
  },
  {
   "cell_type": "code",
   "execution_count": 12,
   "metadata": {},
   "outputs": [
    {
     "data": {
      "text/html": [
       "<div>\n",
       "<style scoped>\n",
       "    .dataframe tbody tr th:only-of-type {\n",
       "        vertical-align: middle;\n",
       "    }\n",
       "\n",
       "    .dataframe tbody tr th {\n",
       "        vertical-align: top;\n",
       "    }\n",
       "\n",
       "    .dataframe thead th {\n",
       "        text-align: right;\n",
       "    }\n",
       "</style>\n",
       "<table border=\"1\" class=\"dataframe\">\n",
       "  <thead>\n",
       "    <tr style=\"text-align: right;\">\n",
       "      <th></th>\n",
       "      <th>user_id</th>\n",
       "      <th>month</th>\n",
       "      <th>amount_of_sms</th>\n",
       "    </tr>\n",
       "  </thead>\n",
       "  <tbody>\n",
       "    <tr>\n",
       "      <td>0</td>\n",
       "      <td>1000</td>\n",
       "      <td>5</td>\n",
       "      <td>22</td>\n",
       "    </tr>\n",
       "    <tr>\n",
       "      <td>1</td>\n",
       "      <td>1000</td>\n",
       "      <td>6</td>\n",
       "      <td>60</td>\n",
       "    </tr>\n",
       "    <tr>\n",
       "      <td>2</td>\n",
       "      <td>1000</td>\n",
       "      <td>7</td>\n",
       "      <td>75</td>\n",
       "    </tr>\n",
       "    <tr>\n",
       "      <td>3</td>\n",
       "      <td>1000</td>\n",
       "      <td>8</td>\n",
       "      <td>81</td>\n",
       "    </tr>\n",
       "    <tr>\n",
       "      <td>4</td>\n",
       "      <td>1000</td>\n",
       "      <td>9</td>\n",
       "      <td>57</td>\n",
       "    </tr>\n",
       "  </tbody>\n",
       "</table>\n",
       "</div>"
      ],
      "text/plain": [
       "   user_id  month  amount_of_sms\n",
       "0     1000      5             22\n",
       "1     1000      6             60\n",
       "2     1000      7             75\n",
       "3     1000      8             81\n",
       "4     1000      9             57"
      ]
     },
     "metadata": {},
     "output_type": "display_data"
    },
    {
     "name": "stdout",
     "output_type": "stream",
     "text": [
      "45.28376886271623\n"
     ]
    }
   ],
   "source": [
    "users_messages = messages_data.groupby(['user_id', 'month']).agg({'id':'count'}).reset_index().rename(columns={'id':'amount_of_sms'}) #тут я додумалась решить проблему через id , а не как со звонками и переименовать колонку\n",
    "display(users_messages.head())\n",
    "print(users_messages['amount_of_sms'].mean())"
   ]
  },
  {
   "cell_type": "markdown",
   "metadata": {},
   "source": [
    "Далее посчитаем объем израсходованного интернет-трафика по месяцам:"
   ]
  },
  {
   "cell_type": "code",
   "execution_count": 13,
   "metadata": {},
   "outputs": [
    {
     "data": {
      "text/html": [
       "<div>\n",
       "<style scoped>\n",
       "    .dataframe tbody tr th:only-of-type {\n",
       "        vertical-align: middle;\n",
       "    }\n",
       "\n",
       "    .dataframe tbody tr th {\n",
       "        vertical-align: top;\n",
       "    }\n",
       "\n",
       "    .dataframe thead th {\n",
       "        text-align: right;\n",
       "    }\n",
       "</style>\n",
       "<table border=\"1\" class=\"dataframe\">\n",
       "  <thead>\n",
       "    <tr style=\"text-align: right;\">\n",
       "      <th></th>\n",
       "      <th>user_id</th>\n",
       "      <th>month</th>\n",
       "      <th>amount_of_mb</th>\n",
       "    </tr>\n",
       "  </thead>\n",
       "  <tbody>\n",
       "    <tr>\n",
       "      <td>0</td>\n",
       "      <td>1000</td>\n",
       "      <td>5</td>\n",
       "      <td>2253.49</td>\n",
       "    </tr>\n",
       "    <tr>\n",
       "      <td>1</td>\n",
       "      <td>1000</td>\n",
       "      <td>6</td>\n",
       "      <td>23233.77</td>\n",
       "    </tr>\n",
       "    <tr>\n",
       "      <td>2</td>\n",
       "      <td>1000</td>\n",
       "      <td>7</td>\n",
       "      <td>14003.64</td>\n",
       "    </tr>\n",
       "    <tr>\n",
       "      <td>3</td>\n",
       "      <td>1000</td>\n",
       "      <td>8</td>\n",
       "      <td>14055.93</td>\n",
       "    </tr>\n",
       "    <tr>\n",
       "      <td>4</td>\n",
       "      <td>1000</td>\n",
       "      <td>9</td>\n",
       "      <td>14568.91</td>\n",
       "    </tr>\n",
       "  </tbody>\n",
       "</table>\n",
       "</div>"
      ],
      "text/plain": [
       "   user_id  month  amount_of_mb\n",
       "0     1000      5       2253.49\n",
       "1     1000      6      23233.77\n",
       "2     1000      7      14003.64\n",
       "3     1000      8      14055.93\n",
       "4     1000      9      14568.91"
      ]
     },
     "metadata": {},
     "output_type": "display_data"
    },
    {
     "name": "stdout",
     "output_type": "stream",
     "text": [
      "17266.708626287855\n"
     ]
    }
   ],
   "source": [
    "users_internet = internet_data.groupby(['user_id', 'month']).agg({'mb_used':'sum'}).reset_index().rename(columns={'mb_used':'amount_of_mb'})\n",
    "display(users_internet.head())\n",
    "print(users_internet['amount_of_mb'].mean())"
   ]
  },
  {
   "cell_type": "markdown",
   "metadata": {},
   "source": [
    "Осталось посчитать помесячную выручку с каждого пользователя. Для этого из суммарного количества звонков, сообщений и интернет-трафика пользователя вычтем бесплатный лимит по тарифу. Все что сверх тарифа  - умножаем на значения тарифного плана, к получившемуся числу добавляем ежемесочную абонентскую плату:"
   ]
  },
  {
   "cell_type": "code",
   "execution_count": 14,
   "metadata": {},
   "outputs": [
    {
     "data": {
      "text/html": [
       "<div>\n",
       "<style scoped>\n",
       "    .dataframe tbody tr th:only-of-type {\n",
       "        vertical-align: middle;\n",
       "    }\n",
       "\n",
       "    .dataframe tbody tr th {\n",
       "        vertical-align: top;\n",
       "    }\n",
       "\n",
       "    .dataframe thead th {\n",
       "        text-align: right;\n",
       "    }\n",
       "</style>\n",
       "<table border=\"1\" class=\"dataframe\">\n",
       "  <thead>\n",
       "    <tr style=\"text-align: right;\">\n",
       "      <th></th>\n",
       "      <th>user_id</th>\n",
       "      <th>month</th>\n",
       "      <th>duration</th>\n",
       "      <th>amount_of_calls</th>\n",
       "      <th>amount_of_sms</th>\n",
       "    </tr>\n",
       "  </thead>\n",
       "  <tbody>\n",
       "    <tr>\n",
       "      <td>0</td>\n",
       "      <td>1000</td>\n",
       "      <td>5</td>\n",
       "      <td>159.0</td>\n",
       "      <td>22.0</td>\n",
       "      <td>22.0</td>\n",
       "    </tr>\n",
       "    <tr>\n",
       "      <td>1</td>\n",
       "      <td>1000</td>\n",
       "      <td>6</td>\n",
       "      <td>172.0</td>\n",
       "      <td>43.0</td>\n",
       "      <td>60.0</td>\n",
       "    </tr>\n",
       "    <tr>\n",
       "      <td>2</td>\n",
       "      <td>1000</td>\n",
       "      <td>7</td>\n",
       "      <td>340.0</td>\n",
       "      <td>47.0</td>\n",
       "      <td>75.0</td>\n",
       "    </tr>\n",
       "    <tr>\n",
       "      <td>3</td>\n",
       "      <td>1000</td>\n",
       "      <td>8</td>\n",
       "      <td>408.0</td>\n",
       "      <td>52.0</td>\n",
       "      <td>81.0</td>\n",
       "    </tr>\n",
       "    <tr>\n",
       "      <td>4</td>\n",
       "      <td>1000</td>\n",
       "      <td>9</td>\n",
       "      <td>466.0</td>\n",
       "      <td>58.0</td>\n",
       "      <td>57.0</td>\n",
       "    </tr>\n",
       "  </tbody>\n",
       "</table>\n",
       "</div>"
      ],
      "text/plain": [
       "   user_id  month  duration  amount_of_calls  amount_of_sms\n",
       "0     1000      5     159.0             22.0           22.0\n",
       "1     1000      6     172.0             43.0           60.0\n",
       "2     1000      7     340.0             47.0           75.0\n",
       "3     1000      8     408.0             52.0           81.0\n",
       "4     1000      9     466.0             58.0           57.0"
      ]
     },
     "execution_count": 14,
     "metadata": {},
     "output_type": "execute_result"
    }
   ],
   "source": [
    "df = users_calls.merge(users_messages, on=['user_id','month'], how='outer')#склеиваем сгруппированные таблицы в единый датафрейм, чтобы никого не потерять используем outer\n",
    "df.head()"
   ]
  },
  {
   "cell_type": "code",
   "execution_count": 15,
   "metadata": {},
   "outputs": [
    {
     "data": {
      "text/html": [
       "<div>\n",
       "<style scoped>\n",
       "    .dataframe tbody tr th:only-of-type {\n",
       "        vertical-align: middle;\n",
       "    }\n",
       "\n",
       "    .dataframe tbody tr th {\n",
       "        vertical-align: top;\n",
       "    }\n",
       "\n",
       "    .dataframe thead th {\n",
       "        text-align: right;\n",
       "    }\n",
       "</style>\n",
       "<table border=\"1\" class=\"dataframe\">\n",
       "  <thead>\n",
       "    <tr style=\"text-align: right;\">\n",
       "      <th></th>\n",
       "      <th>user_id</th>\n",
       "      <th>month</th>\n",
       "      <th>duration</th>\n",
       "      <th>amount_of_calls</th>\n",
       "      <th>amount_of_sms</th>\n",
       "      <th>amount_of_mb</th>\n",
       "    </tr>\n",
       "  </thead>\n",
       "  <tbody>\n",
       "    <tr>\n",
       "      <td>3209</td>\n",
       "      <td>1489</td>\n",
       "      <td>9</td>\n",
       "      <td>NaN</td>\n",
       "      <td>NaN</td>\n",
       "      <td>32.0</td>\n",
       "      <td>17206.30</td>\n",
       "    </tr>\n",
       "    <tr>\n",
       "      <td>3210</td>\n",
       "      <td>1489</td>\n",
       "      <td>10</td>\n",
       "      <td>NaN</td>\n",
       "      <td>NaN</td>\n",
       "      <td>21.0</td>\n",
       "      <td>19559.44</td>\n",
       "    </tr>\n",
       "    <tr>\n",
       "      <td>3211</td>\n",
       "      <td>1489</td>\n",
       "      <td>11</td>\n",
       "      <td>NaN</td>\n",
       "      <td>NaN</td>\n",
       "      <td>20.0</td>\n",
       "      <td>17491.56</td>\n",
       "    </tr>\n",
       "    <tr>\n",
       "      <td>3212</td>\n",
       "      <td>1489</td>\n",
       "      <td>12</td>\n",
       "      <td>NaN</td>\n",
       "      <td>NaN</td>\n",
       "      <td>35.0</td>\n",
       "      <td>17322.51</td>\n",
       "    </tr>\n",
       "    <tr>\n",
       "      <td>3213</td>\n",
       "      <td>1476</td>\n",
       "      <td>4</td>\n",
       "      <td>NaN</td>\n",
       "      <td>NaN</td>\n",
       "      <td>NaN</td>\n",
       "      <td>530.78</td>\n",
       "    </tr>\n",
       "  </tbody>\n",
       "</table>\n",
       "</div>"
      ],
      "text/plain": [
       "      user_id  month  duration  amount_of_calls  amount_of_sms  amount_of_mb\n",
       "3209     1489      9       NaN              NaN           32.0      17206.30\n",
       "3210     1489     10       NaN              NaN           21.0      19559.44\n",
       "3211     1489     11       NaN              NaN           20.0      17491.56\n",
       "3212     1489     12       NaN              NaN           35.0      17322.51\n",
       "3213     1476      4       NaN              NaN            NaN        530.78"
      ]
     },
     "execution_count": 15,
     "metadata": {},
     "output_type": "execute_result"
    }
   ],
   "source": [
    "df = df.merge(users_internet, on=['user_id','month'], how = 'outer') #добавляем интернет\n",
    "df.tail()"
   ]
  },
  {
   "cell_type": "code",
   "execution_count": 16,
   "metadata": {},
   "outputs": [
    {
     "data": {
      "text/html": [
       "<div>\n",
       "<style scoped>\n",
       "    .dataframe tbody tr th:only-of-type {\n",
       "        vertical-align: middle;\n",
       "    }\n",
       "\n",
       "    .dataframe tbody tr th {\n",
       "        vertical-align: top;\n",
       "    }\n",
       "\n",
       "    .dataframe thead th {\n",
       "        text-align: right;\n",
       "    }\n",
       "</style>\n",
       "<table border=\"1\" class=\"dataframe\">\n",
       "  <thead>\n",
       "    <tr style=\"text-align: right;\">\n",
       "      <th></th>\n",
       "      <th>user_id</th>\n",
       "      <th>month</th>\n",
       "      <th>duration</th>\n",
       "      <th>amount_of_calls</th>\n",
       "      <th>amount_of_sms</th>\n",
       "      <th>amount_of_mb</th>\n",
       "      <th>tariff</th>\n",
       "      <th>city</th>\n",
       "      <th>messages_included</th>\n",
       "      <th>mb_per_month_included</th>\n",
       "      <th>minutes_included</th>\n",
       "      <th>rub_monthly_fee</th>\n",
       "      <th>rub_per_gb</th>\n",
       "      <th>rub_per_message</th>\n",
       "      <th>rub_per_minute</th>\n",
       "    </tr>\n",
       "  </thead>\n",
       "  <tbody>\n",
       "    <tr>\n",
       "      <td>0</td>\n",
       "      <td>1000</td>\n",
       "      <td>5</td>\n",
       "      <td>159.0</td>\n",
       "      <td>22.0</td>\n",
       "      <td>22.0</td>\n",
       "      <td>2253.49</td>\n",
       "      <td>ultra</td>\n",
       "      <td>Краснодар</td>\n",
       "      <td>1000</td>\n",
       "      <td>30720</td>\n",
       "      <td>3000</td>\n",
       "      <td>1950</td>\n",
       "      <td>150</td>\n",
       "      <td>1</td>\n",
       "      <td>1</td>\n",
       "    </tr>\n",
       "    <tr>\n",
       "      <td>1</td>\n",
       "      <td>1000</td>\n",
       "      <td>6</td>\n",
       "      <td>172.0</td>\n",
       "      <td>43.0</td>\n",
       "      <td>60.0</td>\n",
       "      <td>23233.77</td>\n",
       "      <td>ultra</td>\n",
       "      <td>Краснодар</td>\n",
       "      <td>1000</td>\n",
       "      <td>30720</td>\n",
       "      <td>3000</td>\n",
       "      <td>1950</td>\n",
       "      <td>150</td>\n",
       "      <td>1</td>\n",
       "      <td>1</td>\n",
       "    </tr>\n",
       "    <tr>\n",
       "      <td>2</td>\n",
       "      <td>1000</td>\n",
       "      <td>7</td>\n",
       "      <td>340.0</td>\n",
       "      <td>47.0</td>\n",
       "      <td>75.0</td>\n",
       "      <td>14003.64</td>\n",
       "      <td>ultra</td>\n",
       "      <td>Краснодар</td>\n",
       "      <td>1000</td>\n",
       "      <td>30720</td>\n",
       "      <td>3000</td>\n",
       "      <td>1950</td>\n",
       "      <td>150</td>\n",
       "      <td>1</td>\n",
       "      <td>1</td>\n",
       "    </tr>\n",
       "    <tr>\n",
       "      <td>3</td>\n",
       "      <td>1000</td>\n",
       "      <td>8</td>\n",
       "      <td>408.0</td>\n",
       "      <td>52.0</td>\n",
       "      <td>81.0</td>\n",
       "      <td>14055.93</td>\n",
       "      <td>ultra</td>\n",
       "      <td>Краснодар</td>\n",
       "      <td>1000</td>\n",
       "      <td>30720</td>\n",
       "      <td>3000</td>\n",
       "      <td>1950</td>\n",
       "      <td>150</td>\n",
       "      <td>1</td>\n",
       "      <td>1</td>\n",
       "    </tr>\n",
       "    <tr>\n",
       "      <td>4</td>\n",
       "      <td>1000</td>\n",
       "      <td>9</td>\n",
       "      <td>466.0</td>\n",
       "      <td>58.0</td>\n",
       "      <td>57.0</td>\n",
       "      <td>14568.91</td>\n",
       "      <td>ultra</td>\n",
       "      <td>Краснодар</td>\n",
       "      <td>1000</td>\n",
       "      <td>30720</td>\n",
       "      <td>3000</td>\n",
       "      <td>1950</td>\n",
       "      <td>150</td>\n",
       "      <td>1</td>\n",
       "      <td>1</td>\n",
       "    </tr>\n",
       "  </tbody>\n",
       "</table>\n",
       "</div>"
      ],
      "text/plain": [
       "   user_id  month  duration  amount_of_calls  amount_of_sms  amount_of_mb  \\\n",
       "0     1000      5     159.0             22.0           22.0       2253.49   \n",
       "1     1000      6     172.0             43.0           60.0      23233.77   \n",
       "2     1000      7     340.0             47.0           75.0      14003.64   \n",
       "3     1000      8     408.0             52.0           81.0      14055.93   \n",
       "4     1000      9     466.0             58.0           57.0      14568.91   \n",
       "\n",
       "  tariff       city  messages_included  mb_per_month_included  \\\n",
       "0  ultra  Краснодар               1000                  30720   \n",
       "1  ultra  Краснодар               1000                  30720   \n",
       "2  ultra  Краснодар               1000                  30720   \n",
       "3  ultra  Краснодар               1000                  30720   \n",
       "4  ultra  Краснодар               1000                  30720   \n",
       "\n",
       "   minutes_included  rub_monthly_fee  rub_per_gb  rub_per_message  \\\n",
       "0              3000             1950         150                1   \n",
       "1              3000             1950         150                1   \n",
       "2              3000             1950         150                1   \n",
       "3              3000             1950         150                1   \n",
       "4              3000             1950         150                1   \n",
       "\n",
       "   rub_per_minute  \n",
       "0               1  \n",
       "1               1  \n",
       "2               1  \n",
       "3               1  \n",
       "4               1  "
      ]
     },
     "execution_count": 16,
     "metadata": {},
     "output_type": "execute_result"
    }
   ],
   "source": [
    "df = df.merge(users_data[['user_id','tariff','city']], on=['user_id'], how ='left') #склеиваем с данными о пользователях\n",
    "tariffs_data  = tariffs_data.rename(columns={'tariff_name':'tariff'})\n",
    "df = df.merge(tariffs_data, on=['tariff'], how ='left') #склеиваем с данными о тарифах\n",
    "df.fillna(0, inplace = True) #для расчета в пропусках поставим нули, так как отсутсвие значение соответсвует нулевому использованию услуги\n",
    "df.head()"
   ]
  },
  {
   "cell_type": "markdown",
   "metadata": {},
   "source": [
    "Теперь напишем функцию, которая будет считать стоимость превышения лимитов по тарифу:"
   ]
  },
  {
   "cell_type": "code",
   "execution_count": 17,
   "metadata": {},
   "outputs": [],
   "source": [
    "def above_the_tariff(row):\n",
    "    sms = (row['amount_of_sms'] - row['messages_included']) * row['rub_per_message']\n",
    "    mins = (row['duration'] - row['minutes_included']) * row['rub_per_minute']\n",
    "    mbs = np.ceil((row['amount_of_mb'] - row['mb_per_month_included']) * row['rub_per_gb'] / 1024)\n",
    "    total = 0\n",
    "    for i in [sms, mins, mbs]:\n",
    "        if i > 0:\n",
    "            total += i\n",
    "    return total"
   ]
  },
  {
   "cell_type": "markdown",
   "metadata": {},
   "source": [
    "Применяем нашу функцию и считаем сколько было получено с пользователя всего:"
   ]
  },
  {
   "cell_type": "code",
   "execution_count": 18,
   "metadata": {
    "scrolled": true
   },
   "outputs": [
    {
     "data": {
      "text/html": [
       "<div>\n",
       "<style scoped>\n",
       "    .dataframe tbody tr th:only-of-type {\n",
       "        vertical-align: middle;\n",
       "    }\n",
       "\n",
       "    .dataframe tbody tr th {\n",
       "        vertical-align: top;\n",
       "    }\n",
       "\n",
       "    .dataframe thead th {\n",
       "        text-align: right;\n",
       "    }\n",
       "</style>\n",
       "<table border=\"1\" class=\"dataframe\">\n",
       "  <thead>\n",
       "    <tr style=\"text-align: right;\">\n",
       "      <th></th>\n",
       "      <th>user_id</th>\n",
       "      <th>month</th>\n",
       "      <th>duration</th>\n",
       "      <th>amount_of_calls</th>\n",
       "      <th>amount_of_sms</th>\n",
       "      <th>amount_of_mb</th>\n",
       "      <th>tariff</th>\n",
       "      <th>city</th>\n",
       "      <th>messages_included</th>\n",
       "      <th>mb_per_month_included</th>\n",
       "      <th>minutes_included</th>\n",
       "      <th>rub_monthly_fee</th>\n",
       "      <th>rub_per_gb</th>\n",
       "      <th>rub_per_message</th>\n",
       "      <th>rub_per_minute</th>\n",
       "      <th>above_the_tariff</th>\n",
       "      <th>total_paid</th>\n",
       "    </tr>\n",
       "  </thead>\n",
       "  <tbody>\n",
       "    <tr>\n",
       "      <td>3209</td>\n",
       "      <td>1489</td>\n",
       "      <td>9</td>\n",
       "      <td>0.0</td>\n",
       "      <td>0.0</td>\n",
       "      <td>32.0</td>\n",
       "      <td>17206.30</td>\n",
       "      <td>smart</td>\n",
       "      <td>Санкт-Петербург</td>\n",
       "      <td>50</td>\n",
       "      <td>15360</td>\n",
       "      <td>500</td>\n",
       "      <td>550</td>\n",
       "      <td>200</td>\n",
       "      <td>3</td>\n",
       "      <td>3</td>\n",
       "      <td>361.0</td>\n",
       "      <td>911.0</td>\n",
       "    </tr>\n",
       "    <tr>\n",
       "      <td>3210</td>\n",
       "      <td>1489</td>\n",
       "      <td>10</td>\n",
       "      <td>0.0</td>\n",
       "      <td>0.0</td>\n",
       "      <td>21.0</td>\n",
       "      <td>19559.44</td>\n",
       "      <td>smart</td>\n",
       "      <td>Санкт-Петербург</td>\n",
       "      <td>50</td>\n",
       "      <td>15360</td>\n",
       "      <td>500</td>\n",
       "      <td>550</td>\n",
       "      <td>200</td>\n",
       "      <td>3</td>\n",
       "      <td>3</td>\n",
       "      <td>821.0</td>\n",
       "      <td>1371.0</td>\n",
       "    </tr>\n",
       "    <tr>\n",
       "      <td>3211</td>\n",
       "      <td>1489</td>\n",
       "      <td>11</td>\n",
       "      <td>0.0</td>\n",
       "      <td>0.0</td>\n",
       "      <td>20.0</td>\n",
       "      <td>17491.56</td>\n",
       "      <td>smart</td>\n",
       "      <td>Санкт-Петербург</td>\n",
       "      <td>50</td>\n",
       "      <td>15360</td>\n",
       "      <td>500</td>\n",
       "      <td>550</td>\n",
       "      <td>200</td>\n",
       "      <td>3</td>\n",
       "      <td>3</td>\n",
       "      <td>417.0</td>\n",
       "      <td>967.0</td>\n",
       "    </tr>\n",
       "    <tr>\n",
       "      <td>3212</td>\n",
       "      <td>1489</td>\n",
       "      <td>12</td>\n",
       "      <td>0.0</td>\n",
       "      <td>0.0</td>\n",
       "      <td>35.0</td>\n",
       "      <td>17322.51</td>\n",
       "      <td>smart</td>\n",
       "      <td>Санкт-Петербург</td>\n",
       "      <td>50</td>\n",
       "      <td>15360</td>\n",
       "      <td>500</td>\n",
       "      <td>550</td>\n",
       "      <td>200</td>\n",
       "      <td>3</td>\n",
       "      <td>3</td>\n",
       "      <td>384.0</td>\n",
       "      <td>934.0</td>\n",
       "    </tr>\n",
       "    <tr>\n",
       "      <td>3213</td>\n",
       "      <td>1476</td>\n",
       "      <td>4</td>\n",
       "      <td>0.0</td>\n",
       "      <td>0.0</td>\n",
       "      <td>0.0</td>\n",
       "      <td>530.78</td>\n",
       "      <td>ultra</td>\n",
       "      <td>Москва</td>\n",
       "      <td>1000</td>\n",
       "      <td>30720</td>\n",
       "      <td>3000</td>\n",
       "      <td>1950</td>\n",
       "      <td>150</td>\n",
       "      <td>1</td>\n",
       "      <td>1</td>\n",
       "      <td>0.0</td>\n",
       "      <td>1950.0</td>\n",
       "    </tr>\n",
       "  </tbody>\n",
       "</table>\n",
       "</div>"
      ],
      "text/plain": [
       "      user_id  month  duration  amount_of_calls  amount_of_sms  amount_of_mb  \\\n",
       "3209     1489      9       0.0              0.0           32.0      17206.30   \n",
       "3210     1489     10       0.0              0.0           21.0      19559.44   \n",
       "3211     1489     11       0.0              0.0           20.0      17491.56   \n",
       "3212     1489     12       0.0              0.0           35.0      17322.51   \n",
       "3213     1476      4       0.0              0.0            0.0        530.78   \n",
       "\n",
       "     tariff             city  messages_included  mb_per_month_included  \\\n",
       "3209  smart  Санкт-Петербург                 50                  15360   \n",
       "3210  smart  Санкт-Петербург                 50                  15360   \n",
       "3211  smart  Санкт-Петербург                 50                  15360   \n",
       "3212  smart  Санкт-Петербург                 50                  15360   \n",
       "3213  ultra           Москва               1000                  30720   \n",
       "\n",
       "      minutes_included  rub_monthly_fee  rub_per_gb  rub_per_message  \\\n",
       "3209               500              550         200                3   \n",
       "3210               500              550         200                3   \n",
       "3211               500              550         200                3   \n",
       "3212               500              550         200                3   \n",
       "3213              3000             1950         150                1   \n",
       "\n",
       "      rub_per_minute  above_the_tariff  total_paid  \n",
       "3209               3             361.0       911.0  \n",
       "3210               3             821.0      1371.0  \n",
       "3211               3             417.0       967.0  \n",
       "3212               3             384.0       934.0  \n",
       "3213               1               0.0      1950.0  "
      ]
     },
     "execution_count": 18,
     "metadata": {},
     "output_type": "execute_result"
    }
   ],
   "source": [
    "df['above_the_tariff'] = df.apply(lambda x: above_the_tariff(x), axis=1) \n",
    "df['total_paid'] = df['rub_monthly_fee'] + df['above_the_tariff']\n",
    "df.tail()"
   ]
  },
  {
   "cell_type": "markdown",
   "metadata": {},
   "source": [
    "<h1>Выводы по Шагу 2</h1>  \n",
    "  \n",
    "В ходе подготовки данныхт мы сгурппировали данные и подготовили к анализу, а так же выяснили сколько платят пользователи за пользование тарифом в разрезе по месяцам."
   ]
  },
  {
   "cell_type": "code",
   "execution_count": 19,
   "metadata": {},
   "outputs": [
    {
     "data": {
      "text/html": [
       "<div>\n",
       "<style scoped>\n",
       "    .dataframe tbody tr th:only-of-type {\n",
       "        vertical-align: middle;\n",
       "    }\n",
       "\n",
       "    .dataframe tbody tr th {\n",
       "        vertical-align: top;\n",
       "    }\n",
       "\n",
       "    .dataframe thead th {\n",
       "        text-align: right;\n",
       "    }\n",
       "</style>\n",
       "<table border=\"1\" class=\"dataframe\">\n",
       "  <thead>\n",
       "    <tr style=\"text-align: right;\">\n",
       "      <th></th>\n",
       "      <th>id</th>\n",
       "      <th>mb_used</th>\n",
       "      <th>session_date</th>\n",
       "      <th>user_id</th>\n",
       "      <th>month</th>\n",
       "    </tr>\n",
       "  </thead>\n",
       "  <tbody>\n",
       "    <tr>\n",
       "      <td>11</td>\n",
       "      <td>1000_11</td>\n",
       "      <td>0.0</td>\n",
       "      <td>2018-08-28</td>\n",
       "      <td>1000</td>\n",
       "      <td>8</td>\n",
       "    </tr>\n",
       "    <tr>\n",
       "      <td>38</td>\n",
       "      <td>1000_38</td>\n",
       "      <td>0.0</td>\n",
       "      <td>2018-11-27</td>\n",
       "      <td>1000</td>\n",
       "      <td>11</td>\n",
       "    </tr>\n",
       "    <tr>\n",
       "      <td>46</td>\n",
       "      <td>1000_46</td>\n",
       "      <td>0.0</td>\n",
       "      <td>2018-06-30</td>\n",
       "      <td>1000</td>\n",
       "      <td>6</td>\n",
       "    </tr>\n",
       "    <tr>\n",
       "      <td>67</td>\n",
       "      <td>1000_67</td>\n",
       "      <td>0.0</td>\n",
       "      <td>2018-06-16</td>\n",
       "      <td>1000</td>\n",
       "      <td>6</td>\n",
       "    </tr>\n",
       "    <tr>\n",
       "      <td>72</td>\n",
       "      <td>1000_72</td>\n",
       "      <td>0.0</td>\n",
       "      <td>2018-06-15</td>\n",
       "      <td>1000</td>\n",
       "      <td>6</td>\n",
       "    </tr>\n",
       "  </tbody>\n",
       "</table>\n",
       "</div>"
      ],
      "text/plain": [
       "         id  mb_used session_date  user_id  month\n",
       "11  1000_11      0.0   2018-08-28     1000      8\n",
       "38  1000_38      0.0   2018-11-27     1000     11\n",
       "46  1000_46      0.0   2018-06-30     1000      6\n",
       "67  1000_67      0.0   2018-06-16     1000      6\n",
       "72  1000_72      0.0   2018-06-15     1000      6"
      ]
     },
     "metadata": {},
     "output_type": "display_data"
    },
    {
     "data": {
      "text/plain": [
       "19598"
      ]
     },
     "metadata": {},
     "output_type": "display_data"
    }
   ],
   "source": [
    "display(internet_data.query('mb_used == 0').head())\n",
    "display(internet_data[internet_data['mb_used'] == 0]['mb_used'].count())"
   ]
  },
  {
   "cell_type": "markdown",
   "metadata": {},
   "source": [
    "\n",
    "<b>Продолжаем рассуждать</b>\n",
    "    \n",
    "Пока нет идей закономерности возникновения нулей. Однако их доля среди всех наблюдений достаточно мала - 13%. Возможно это просто ошибочные сессии, например человек просто открывал браузер или нечто подобное, либо в тариф бывают включены бесплатные мессенджеры, которые могут засчитываться как 0, чтобы потом не учитывать их при расчете.  \n",
    "    На самом деле для нас эти 0 не играют критической роли при последующем анализе -> так как они все равно схлопываются при группировке, возможно поэтому я не стала обращать на них внимания. В связи с последующей группировкой их можно не удалять, посчитав ошибочными сессиями.  \n",
    "    Однако любопытсва ради глянем их распределение по месяцам и по пользователям :D\n",
    "</div>"
   ]
  },
  {
   "cell_type": "code",
   "execution_count": 20,
   "metadata": {},
   "outputs": [
    {
     "data": {
      "text/html": [
       "<div>\n",
       "<style scoped>\n",
       "    .dataframe tbody tr th:only-of-type {\n",
       "        vertical-align: middle;\n",
       "    }\n",
       "\n",
       "    .dataframe tbody tr th {\n",
       "        vertical-align: top;\n",
       "    }\n",
       "\n",
       "    .dataframe thead th {\n",
       "        text-align: right;\n",
       "    }\n",
       "</style>\n",
       "<table border=\"1\" class=\"dataframe\">\n",
       "  <thead>\n",
       "    <tr style=\"text-align: right;\">\n",
       "      <th></th>\n",
       "      <th>user_id</th>\n",
       "      <th>month</th>\n",
       "      <th>zero_sessions</th>\n",
       "    </tr>\n",
       "  </thead>\n",
       "  <tbody>\n",
       "    <tr>\n",
       "      <td>0</td>\n",
       "      <td>1000</td>\n",
       "      <td>5</td>\n",
       "      <td>1</td>\n",
       "    </tr>\n",
       "    <tr>\n",
       "      <td>1</td>\n",
       "      <td>1000</td>\n",
       "      <td>6</td>\n",
       "      <td>5</td>\n",
       "    </tr>\n",
       "    <tr>\n",
       "      <td>2</td>\n",
       "      <td>1000</td>\n",
       "      <td>7</td>\n",
       "      <td>1</td>\n",
       "    </tr>\n",
       "    <tr>\n",
       "      <td>3</td>\n",
       "      <td>1000</td>\n",
       "      <td>8</td>\n",
       "      <td>2</td>\n",
       "    </tr>\n",
       "    <tr>\n",
       "      <td>4</td>\n",
       "      <td>1000</td>\n",
       "      <td>9</td>\n",
       "      <td>2</td>\n",
       "    </tr>\n",
       "  </tbody>\n",
       "</table>\n",
       "</div>"
      ],
      "text/plain": [
       "   user_id  month  zero_sessions\n",
       "0     1000      5              1\n",
       "1     1000      6              5\n",
       "2     1000      7              1\n",
       "3     1000      8              2\n",
       "4     1000      9              2"
      ]
     },
     "metadata": {},
     "output_type": "display_data"
    }
   ],
   "source": [
    "zero_usage = internet_data.query('mb_used == 0').groupby(['user_id', 'month']).agg({'mb_used':'count'}).reset_index().rename(columns={'mb_used':'zero_sessions'})\n",
    "display(zero_usage.head())"
   ]
  },
  {
   "cell_type": "code",
   "execution_count": 21,
   "metadata": {},
   "outputs": [
    {
     "data": {
      "text/plain": [
       "<matplotlib.axes._subplots.AxesSubplot at 0x7ff2b3ad4850>"
      ]
     },
     "execution_count": 21,
     "metadata": {},
     "output_type": "execute_result"
    },
    {
     "data": {
      "image/png": "[encoded data removed]",
      "text/plain": [
       "<Figure size 432x288 with 1 Axes>"
      ]
     },
     "metadata": {
      "needs_background": "light"
     },
     "output_type": "display_data"
    }
   ],
   "source": [
    "zero_usage.groupby('month')['zero_sessions'].median().plot()"
   ]
  },
  {
   "cell_type": "code",
   "execution_count": 22,
   "metadata": {},
   "outputs": [
    {
     "data": {
      "text/plain": [
       "<matplotlib.axes._subplots.AxesSubplot at 0x7ff2b3b23b90>"
      ]
     },
     "execution_count": 22,
     "metadata": {},
     "output_type": "execute_result"
    },
    {
     "data": {
      "image/png": "[encoded data removed]",
      "text/plain": [
       "<Figure size 432x288 with 1 Axes>"
      ]
     },
     "metadata": {
      "needs_background": "light"
     },
     "output_type": "display_data"
    }
   ],
   "source": [
    "zero_usage.groupby('user_id')['zero_sessions'].median().plot(style ='o')"
   ]
  },
  {
   "cell_type": "markdown",
   "metadata": {},
   "source": [
    "\n",
    "<b>Мой вывод</b>\n",
    "\n",
    "Идей закономерности после просмотра графиков так и не появилось, думаю их природа действительно случайна, что в целом подтверждает график зависимости количества нулевых сессий от месяца (с каждым новым месяцем больше пользователей, соответсвенно и ошибочных сессий). В любом случае от этих нулей не нужно избавляться, так как они все ранво схлопнутся при дальнейшей работе и никак не повлияют на выводы :D\n",
    "</div>"
   ]
  },
  {
   "cell_type": "markdown",
   "metadata": {},
   "source": [
    "<h1>Шаг 3. Анализ данных</h1>  \n",
    "\n",
    "На этом шаге опишем поведение клиентов оператора, исходя из выборки. Покажем сколько минут разговора, сколько сообщений и какой объём интернет-трафика требуется пользователям каждого тарифа в месяц. Посчитайтем среднее количество, дисперсию и стандартное отклонение. Построим гистограммы и опишем распределения."
   ]
  },
  {
   "cell_type": "markdown",
   "metadata": {},
   "source": [
    "Основная таблица для анализа сформирована - df, приступим к ее анализу. Для начала построим диаграммы размаха, изучиим выбросы, по необходимости - избавимся от них."
   ]
  },
  {
   "cell_type": "code",
   "execution_count": 23,
   "metadata": {},
   "outputs": [
    {
     "data": {
      "text/html": [
       "<div>\n",
       "<style scoped>\n",
       "    .dataframe tbody tr th:only-of-type {\n",
       "        vertical-align: middle;\n",
       "    }\n",
       "\n",
       "    .dataframe tbody tr th {\n",
       "        vertical-align: top;\n",
       "    }\n",
       "\n",
       "    .dataframe thead th {\n",
       "        text-align: right;\n",
       "    }\n",
       "</style>\n",
       "<table border=\"1\" class=\"dataframe\">\n",
       "  <thead>\n",
       "    <tr style=\"text-align: right;\">\n",
       "      <th></th>\n",
       "      <th>above_the_tariff</th>\n",
       "      <th>total_paid</th>\n",
       "    </tr>\n",
       "  </thead>\n",
       "  <tbody>\n",
       "    <tr>\n",
       "      <td>count</td>\n",
       "      <td>3214.000000</td>\n",
       "      <td>3214.000000</td>\n",
       "    </tr>\n",
       "    <tr>\n",
       "      <td>mean</td>\n",
       "      <td>505.805538</td>\n",
       "      <td>1484.865899</td>\n",
       "    </tr>\n",
       "    <tr>\n",
       "      <td>std</td>\n",
       "      <td>732.212483</td>\n",
       "      <td>782.973144</td>\n",
       "    </tr>\n",
       "    <tr>\n",
       "      <td>min</td>\n",
       "      <td>0.000000</td>\n",
       "      <td>550.000000</td>\n",
       "    </tr>\n",
       "    <tr>\n",
       "      <td>25%</td>\n",
       "      <td>0.000000</td>\n",
       "      <td>692.250000</td>\n",
       "    </tr>\n",
       "    <tr>\n",
       "      <td>50%</td>\n",
       "      <td>105.000000</td>\n",
       "      <td>1558.500000</td>\n",
       "    </tr>\n",
       "    <tr>\n",
       "      <td>75%</td>\n",
       "      <td>836.000000</td>\n",
       "      <td>1950.000000</td>\n",
       "    </tr>\n",
       "    <tr>\n",
       "      <td>max</td>\n",
       "      <td>6150.000000</td>\n",
       "      <td>6700.000000</td>\n",
       "    </tr>\n",
       "  </tbody>\n",
       "</table>\n",
       "</div>"
      ],
      "text/plain": [
       "       above_the_tariff   total_paid\n",
       "count       3214.000000  3214.000000\n",
       "mean         505.805538  1484.865899\n",
       "std          732.212483   782.973144\n",
       "min            0.000000   550.000000\n",
       "25%            0.000000   692.250000\n",
       "50%          105.000000  1558.500000\n",
       "75%          836.000000  1950.000000\n",
       "max         6150.000000  6700.000000"
      ]
     },
     "execution_count": 23,
     "metadata": {},
     "output_type": "execute_result"
    }
   ],
   "source": [
    "df[['above_the_tariff', 'total_paid']].describe()"
   ]
  },
  {
   "cell_type": "code",
   "execution_count": 24,
   "metadata": {
    "scrolled": true
   },
   "outputs": [
    {
     "data": {
      "text/plain": [
       "duration            AxesSubplot(0.125,0.125;0.227941x0.755)\n",
       "amount_of_mb     AxesSubplot(0.398529,0.125;0.227941x0.755)\n",
       "amount_of_sms    AxesSubplot(0.672059,0.125;0.227941x0.755)\n",
       "dtype: object"
      ]
     },
     "execution_count": 24,
     "metadata": {},
     "output_type": "execute_result"
    },
    {
     "data": {
      "image/png": "[encoded data removed]",
      "text/plain": [
       "<Figure size 1080x288 with 3 Axes>"
      ]
     },
     "metadata": {
      "needs_background": "light"
     },
     "output_type": "display_data"
    }
   ],
   "source": [
    "columns = ['duration', 'amount_of_mb', 'amount_of_sms']\n",
    "df[columns].plot(subplots=True, layout=(1, 3), kind = 'box', figsize=(15, 4), grid=True)"
   ]
  },
  {
   "cell_type": "markdown",
   "metadata": {},
   "source": [
    "Теперь рассчитаем границы выбросов:"
   ]
  },
  {
   "cell_type": "code",
   "execution_count": 25,
   "metadata": {},
   "outputs": [
    {
     "name": "stdout",
     "output_type": "stream",
     "text": [
      "------------------------\n",
      "Столбец duration\n",
      "------------------------\n",
      "Верхняя граница 1049.5\n"
     ]
    },
    {
     "data": {
      "text/plain": [
       "count    3214.000000\n",
       "mean      451.244866\n",
       "std       241.909978\n",
       "min         0.000000\n",
       "25%       282.000000\n",
       "50%       443.000000\n",
       "75%       589.000000\n",
       "max      1673.000000\n",
       "Name: duration, dtype: float64"
      ]
     },
     "metadata": {},
     "output_type": "display_data"
    },
    {
     "name": "stdout",
     "output_type": "stream",
     "text": [
      "------------------------\n",
      "Столбец amount_of_mb\n",
      "------------------------\n",
      "Верхняя граница 34823.72749999999\n"
     ]
    },
    {
     "data": {
      "text/plain": [
       "count     3214.000000\n",
       "mean     17207.612859\n",
       "std       7570.958771\n",
       "min          0.000000\n",
       "25%      12491.890000\n",
       "50%      16943.175000\n",
       "75%      21424.625000\n",
       "max      49745.690000\n",
       "Name: amount_of_mb, dtype: float64"
      ]
     },
     "metadata": {},
     "output_type": "display_data"
    },
    {
     "name": "stdout",
     "output_type": "stream",
     "text": [
      "------------------------\n",
      "Столбец amount_of_sms\n",
      "------------------------\n",
      "Верхняя граница 129.0\n"
     ]
    },
    {
     "data": {
      "text/plain": [
       "count    3214.000000\n",
       "mean       38.281269\n",
       "std        36.148326\n",
       "min         0.000000\n",
       "25%         9.000000\n",
       "50%        30.000000\n",
       "75%        57.000000\n",
       "max       224.000000\n",
       "Name: amount_of_sms, dtype: float64"
      ]
     },
     "metadata": {},
     "output_type": "display_data"
    }
   ],
   "source": [
    "for column in columns:\n",
    "    print('------------------------\\nСтолбец {}\\n------------------------'.format(column))\n",
    "    q1=df[column].describe()[4]\n",
    "    q3=df[column].describe()[6]\n",
    "    iqr = q3 - q1\n",
    "    top_edge = q3 + 1.5 * iqr\n",
    "    print ('Верхняя граница {}'.format(top_edge))\n",
    "    display(df[column].describe())"
   ]
  },
  {
   "cell_type": "markdown",
   "metadata": {},
   "source": [
    "Теперь мы можем убрать все выбросы из нашей выборки, чтобы остались только наиболее типичные значения. Таким образом, мы считаем выбросами: звонки, которые продолжались более 1050 минут, объем трафика выше 34824 мб, сообщения, число которых превышает 129:"
   ]
  },
  {
   "cell_type": "code",
   "execution_count": 26,
   "metadata": {},
   "outputs": [],
   "source": [
    "df_filtered = df.query('duration < 1050 and amount_of_mb < 34824 and amount_of_sms < 129')"
   ]
  },
  {
   "cell_type": "code",
   "execution_count": 27,
   "metadata": {},
   "outputs": [
    {
     "data": {
      "text/plain": [
       "duration            AxesSubplot(0.125,0.125;0.227941x0.755)\n",
       "amount_of_mb     AxesSubplot(0.398529,0.125;0.227941x0.755)\n",
       "amount_of_sms    AxesSubplot(0.672059,0.125;0.227941x0.755)\n",
       "dtype: object"
      ]
     },
     "execution_count": 27,
     "metadata": {},
     "output_type": "execute_result"
    },
    {
     "data": {
      "image/png": "[encoded data removed]",
      "text/plain": [
       "<Figure size 1080x288 with 3 Axes>"
      ]
     },
     "metadata": {
      "needs_background": "light"
     },
     "output_type": "display_data"
    }
   ],
   "source": [
    "df_filtered[columns].plot(subplots=True, layout=(1, 3), kind = 'box', figsize=(15, 4), grid=True)"
   ]
  },
  {
   "cell_type": "markdown",
   "metadata": {},
   "source": [
    "Посмотрим на сколько строк изменилась выборка:"
   ]
  },
  {
   "cell_type": "code",
   "execution_count": 28,
   "metadata": {},
   "outputs": [
    {
     "data": {
      "text/plain": [
       "206"
      ]
     },
     "metadata": {},
     "output_type": "display_data"
    }
   ],
   "source": [
    "display(df.shape[0] - df_filtered.shape[0])"
   ]
  },
  {
   "cell_type": "markdown",
   "metadata": {},
   "source": [
    "Теперь приведем тип данных к целочисленному типу:"
   ]
  },
  {
   "cell_type": "code",
   "execution_count": 44,
   "metadata": {},
   "outputs": [
    {
     "name": "stdout",
     "output_type": "stream",
     "text": [
      "<class 'pandas.core.frame.DataFrame'>\n",
      "Int64Index: 3008 entries, 0 to 3213\n",
      "Data columns (total 17 columns):\n",
      "user_id                  3008 non-null int64\n",
      "month                    3008 non-null int64\n",
      "duration                 3008 non-null int64\n",
      "amount_of_calls          3008 non-null int64\n",
      "amount_of_sms            3008 non-null int64\n",
      "amount_of_mb             3008 non-null int64\n",
      "tariff                   3008 non-null object\n",
      "city                     3008 non-null object\n",
      "messages_included        3008 non-null int64\n",
      "mb_per_month_included    3008 non-null int64\n",
      "minutes_included         3008 non-null int64\n",
      "rub_monthly_fee          3008 non-null int64\n",
      "rub_per_gb               3008 non-null int64\n",
      "rub_per_message          3008 non-null int64\n",
      "rub_per_minute           3008 non-null int64\n",
      "above_the_tariff         3008 non-null float64\n",
      "total_paid               3008 non-null float64\n",
      "dtypes: float64(2), int64(13), object(2)\n",
      "memory usage: 423.0+ KB\n"
     ]
    }
   ],
   "source": [
    "df_filtered[columns] = df_filtered[columns].astype('int64')\n",
    "df_filtered.info()"
   ]
  },
  {
   "cell_type": "markdown",
   "metadata": {},
   "source": [
    "Замечаем, что количество звонков тоже надо привести к целочисленному типу:"
   ]
  },
  {
   "cell_type": "code",
   "execution_count": 45,
   "metadata": {},
   "outputs": [
    {
     "name": "stdout",
     "output_type": "stream",
     "text": [
      "<class 'pandas.core.frame.DataFrame'>\n",
      "Int64Index: 3008 entries, 0 to 3213\n",
      "Data columns (total 17 columns):\n",
      "user_id                  3008 non-null int64\n",
      "month                    3008 non-null int64\n",
      "duration                 3008 non-null int64\n",
      "amount_of_calls          3008 non-null int64\n",
      "amount_of_sms            3008 non-null int64\n",
      "amount_of_mb             3008 non-null int64\n",
      "tariff                   3008 non-null object\n",
      "city                     3008 non-null object\n",
      "messages_included        3008 non-null int64\n",
      "mb_per_month_included    3008 non-null int64\n",
      "minutes_included         3008 non-null int64\n",
      "rub_monthly_fee          3008 non-null int64\n",
      "rub_per_gb               3008 non-null int64\n",
      "rub_per_message          3008 non-null int64\n",
      "rub_per_minute           3008 non-null int64\n",
      "above_the_tariff         3008 non-null float64\n",
      "total_paid               3008 non-null float64\n",
      "dtypes: float64(2), int64(13), object(2)\n",
      "memory usage: 423.0+ KB\n"
     ]
    },
    {
     "name": "stderr",
     "output_type": "stream",
     "text": [
      "/opt/conda/lib/python3.7/site-packages/ipykernel_launcher.py:1: SettingWithCopyWarning: \n",
      "A value is trying to be set on a copy of a slice from a DataFrame.\n",
      "Try using .loc[row_indexer,col_indexer] = value instead\n",
      "\n",
      "See the caveats in the documentation: http://pandas.pydata.org/pandas-docs/stable/user_guide/indexing.html#returning-a-view-versus-a-copy\n",
      "  \"\"\"Entry point for launching an IPython kernel.\n"
     ]
    }
   ],
   "source": [
    "df_filtered['amount_of_calls'] = df_filtered['amount_of_calls'].astype('int64')\n",
    "df_filtered.info()"
   ]
  },
  {
   "cell_type": "markdown",
   "metadata": {},
   "source": [
    "Теперь можно перейти к изучению особенностей пользователей в зависимости от тарифа. Сначала узнаем какую долю от общего числа пользователей составляют пользователи каждого тарифа:"
   ]
  },
  {
   "cell_type": "code",
   "execution_count": 31,
   "metadata": {},
   "outputs": [
    {
     "data": {
      "text/plain": [
       "tariff\n",
       "smart    351\n",
       "ultra    149\n",
       "Name: tariff, dtype: int64"
      ]
     },
     "metadata": {},
     "output_type": "display_data"
    },
    {
     "data": {
      "text/plain": [
       "<matplotlib.axes._subplots.AxesSubplot at 0x7ff2b14e5310>"
      ]
     },
     "execution_count": 31,
     "metadata": {},
     "output_type": "execute_result"
    },
    {
     "data": {
      "image/png": "[encoded data removed]",
      "text/plain": [
       "<Figure size 432x288 with 1 Axes>"
      ]
     },
     "metadata": {},
     "output_type": "display_data"
    }
   ],
   "source": [
    "display(users_data.groupby('tariff')['tariff'].count())\n",
    "users_data.groupby('tariff')['tariff'].count().plot(kind='pie',  title='Доля тарифа')"
   ]
  },
  {
   "cell_type": "markdown",
   "metadata": {},
   "source": [
    "Пользователи тарифа Ультра составляют чуть более четверти всех пользователей выборки. Рассмотрим все таки разницу в поведении исходя из продолжительности звонков, трафика и сообщений. "
   ]
  },
  {
   "cell_type": "code",
   "execution_count": 32,
   "metadata": {},
   "outputs": [
    {
     "data": {
      "text/html": [
       "<div>\n",
       "<style scoped>\n",
       "    .dataframe tbody tr th:only-of-type {\n",
       "        vertical-align: middle;\n",
       "    }\n",
       "\n",
       "    .dataframe tbody tr th {\n",
       "        vertical-align: top;\n",
       "    }\n",
       "\n",
       "    .dataframe thead th {\n",
       "        text-align: right;\n",
       "    }\n",
       "</style>\n",
       "<table border=\"1\" class=\"dataframe\">\n",
       "  <thead>\n",
       "    <tr style=\"text-align: right;\">\n",
       "      <th></th>\n",
       "      <th>amount_of_mb</th>\n",
       "      <th>amount_of_sms</th>\n",
       "      <th>duration</th>\n",
       "    </tr>\n",
       "    <tr>\n",
       "      <th>month</th>\n",
       "      <th></th>\n",
       "      <th></th>\n",
       "      <th></th>\n",
       "    </tr>\n",
       "  </thead>\n",
       "  <tbody>\n",
       "    <tr>\n",
       "      <td>1</td>\n",
       "      <td>289448</td>\n",
       "      <td>620</td>\n",
       "      <td>6931</td>\n",
       "    </tr>\n",
       "    <tr>\n",
       "      <td>2</td>\n",
       "      <td>672598</td>\n",
       "      <td>1397</td>\n",
       "      <td>17324</td>\n",
       "    </tr>\n",
       "    <tr>\n",
       "      <td>3</td>\n",
       "      <td>1162983</td>\n",
       "      <td>2453</td>\n",
       "      <td>30034</td>\n",
       "    </tr>\n",
       "    <tr>\n",
       "      <td>4</td>\n",
       "      <td>1507706</td>\n",
       "      <td>3443</td>\n",
       "      <td>41119</td>\n",
       "    </tr>\n",
       "    <tr>\n",
       "      <td>5</td>\n",
       "      <td>2228458</td>\n",
       "      <td>4762</td>\n",
       "      <td>54618</td>\n",
       "    </tr>\n",
       "    <tr>\n",
       "      <td>6</td>\n",
       "      <td>2564272</td>\n",
       "      <td>5344</td>\n",
       "      <td>64128</td>\n",
       "    </tr>\n",
       "    <tr>\n",
       "      <td>7</td>\n",
       "      <td>3144184</td>\n",
       "      <td>6647</td>\n",
       "      <td>81360</td>\n",
       "    </tr>\n",
       "    <tr>\n",
       "      <td>8</td>\n",
       "      <td>3879842</td>\n",
       "      <td>7771</td>\n",
       "      <td>98263</td>\n",
       "    </tr>\n",
       "    <tr>\n",
       "      <td>9</td>\n",
       "      <td>4215270</td>\n",
       "      <td>8610</td>\n",
       "      <td>110724</td>\n",
       "    </tr>\n",
       "    <tr>\n",
       "      <td>10</td>\n",
       "      <td>4899547</td>\n",
       "      <td>9788</td>\n",
       "      <td>124446</td>\n",
       "    </tr>\n",
       "    <tr>\n",
       "      <td>11</td>\n",
       "      <td>5302615</td>\n",
       "      <td>10672</td>\n",
       "      <td>136780</td>\n",
       "    </tr>\n",
       "    <tr>\n",
       "      <td>12</td>\n",
       "      <td>5773684</td>\n",
       "      <td>11480</td>\n",
       "      <td>152355</td>\n",
       "    </tr>\n",
       "  </tbody>\n",
       "</table>\n",
       "</div>"
      ],
      "text/plain": [
       "       amount_of_mb  amount_of_sms  duration\n",
       "month                                       \n",
       "1            289448            620      6931\n",
       "2            672598           1397     17324\n",
       "3           1162983           2453     30034\n",
       "4           1507706           3443     41119\n",
       "5           2228458           4762     54618\n",
       "6           2564272           5344     64128\n",
       "7           3144184           6647     81360\n",
       "8           3879842           7771     98263\n",
       "9           4215270           8610    110724\n",
       "10          4899547           9788    124446\n",
       "11          5302615          10672    136780\n",
       "12          5773684          11480    152355"
      ]
     },
     "metadata": {},
     "output_type": "display_data"
    }
   ],
   "source": [
    "df_filtered_smart = pd.pivot_table(data=df_filtered.loc[df['tariff']=='smart'], index = 'month', values=columns, aggfunc=sum)\n",
    "display(df_filtered_smart)"
   ]
  },
  {
   "cell_type": "markdown",
   "metadata": {},
   "source": [
    "Видно, как из месяца в месяц растет продолжительность звонков, трафика и смс, скорее всего это связано с ростом пользователей тарифа. Посмотрим на графике:"
   ]
  },
  {
   "cell_type": "code",
   "execution_count": 33,
   "metadata": {},
   "outputs": [
    {
     "data": {
      "image/png": "[encoded data removed]",
      "text/plain": [
       "<Figure size 432x288 with 1 Axes>"
      ]
     },
     "metadata": {
      "needs_background": "light"
     },
     "output_type": "display_data"
    }
   ],
   "source": [
    "df_filtered.loc[df_filtered['tariff']=='smart'].groupby('month')['user_id'].count().plot()\n",
    "plt.title('Количество пользователей по месяцам')\n",
    "plt.xlabel('Месяц')\n",
    "plt.ylabel('Количество')\n",
    "plt.show()"
   ]
  },
  {
   "cell_type": "markdown",
   "metadata": {},
   "source": [
    "Видно, что с каждым весяцем к тарифу подключалось все больше пользователей. Интересно, а есть ли такой же равномерный рост популярности у тарифа Ультра? Но сначала рассчитаем среднее, дисперсию и стандартное отклонение, но уже без группировки по месяцам:"
   ]
  },
  {
   "cell_type": "code",
   "execution_count": 34,
   "metadata": {},
   "outputs": [
    {
     "data": {
      "text/html": [
       "<div>\n",
       "<style scoped>\n",
       "    .dataframe tbody tr th:only-of-type {\n",
       "        vertical-align: middle;\n",
       "    }\n",
       "\n",
       "    .dataframe tbody tr th {\n",
       "        vertical-align: top;\n",
       "    }\n",
       "\n",
       "    .dataframe thead th {\n",
       "        text-align: right;\n",
       "    }\n",
       "</style>\n",
       "<table border=\"1\" class=\"dataframe\">\n",
       "  <thead>\n",
       "    <tr style=\"text-align: right;\">\n",
       "      <th></th>\n",
       "      <th>user_id</th>\n",
       "      <th>month</th>\n",
       "      <th>duration</th>\n",
       "      <th>amount_of_calls</th>\n",
       "      <th>amount_of_sms</th>\n",
       "      <th>amount_of_mb</th>\n",
       "      <th>messages_included</th>\n",
       "      <th>mb_per_month_included</th>\n",
       "      <th>minutes_included</th>\n",
       "      <th>rub_monthly_fee</th>\n",
       "      <th>rub_per_gb</th>\n",
       "      <th>rub_per_message</th>\n",
       "      <th>rub_per_minute</th>\n",
       "      <th>above_the_tariff</th>\n",
       "      <th>total_paid</th>\n",
       "    </tr>\n",
       "  </thead>\n",
       "  <tbody>\n",
       "    <tr>\n",
       "      <td>count</td>\n",
       "      <td>2212.000000</td>\n",
       "      <td>2212.000000</td>\n",
       "      <td>2212.000000</td>\n",
       "      <td>2212.000000</td>\n",
       "      <td>2212.000000</td>\n",
       "      <td>2212.000000</td>\n",
       "      <td>2212.0</td>\n",
       "      <td>2212.0</td>\n",
       "      <td>2212.0</td>\n",
       "      <td>2212.0</td>\n",
       "      <td>2212.0</td>\n",
       "      <td>2212.0</td>\n",
       "      <td>2212.0</td>\n",
       "      <td>2212.000000</td>\n",
       "      <td>2212.000000</td>\n",
       "    </tr>\n",
       "    <tr>\n",
       "      <td>mean</td>\n",
       "      <td>1246.260398</td>\n",
       "      <td>8.328210</td>\n",
       "      <td>415.046112</td>\n",
       "      <td>58.063291</td>\n",
       "      <td>32.995931</td>\n",
       "      <td>16112.390145</td>\n",
       "      <td>50.0</td>\n",
       "      <td>15360.0</td>\n",
       "      <td>500.0</td>\n",
       "      <td>550.0</td>\n",
       "      <td>200.0</td>\n",
       "      <td>3.0</td>\n",
       "      <td>3.0</td>\n",
       "      <td>658.170434</td>\n",
       "      <td>1208.170434</td>\n",
       "    </tr>\n",
       "    <tr>\n",
       "      <td>std</td>\n",
       "      <td>146.242044</td>\n",
       "      <td>2.918749</td>\n",
       "      <td>186.940935</td>\n",
       "      <td>25.488490</td>\n",
       "      <td>27.630771</td>\n",
       "      <td>5756.455350</td>\n",
       "      <td>0.0</td>\n",
       "      <td>0.0</td>\n",
       "      <td>0.0</td>\n",
       "      <td>0.0</td>\n",
       "      <td>0.0</td>\n",
       "      <td>0.0</td>\n",
       "      <td>0.0</td>\n",
       "      <td>735.869857</td>\n",
       "      <td>735.869857</td>\n",
       "    </tr>\n",
       "    <tr>\n",
       "      <td>min</td>\n",
       "      <td>1001.000000</td>\n",
       "      <td>1.000000</td>\n",
       "      <td>0.000000</td>\n",
       "      <td>0.000000</td>\n",
       "      <td>0.000000</td>\n",
       "      <td>0.000000</td>\n",
       "      <td>50.0</td>\n",
       "      <td>15360.0</td>\n",
       "      <td>500.0</td>\n",
       "      <td>550.0</td>\n",
       "      <td>200.0</td>\n",
       "      <td>3.0</td>\n",
       "      <td>3.0</td>\n",
       "      <td>0.000000</td>\n",
       "      <td>550.000000</td>\n",
       "    </tr>\n",
       "    <tr>\n",
       "      <td>25%</td>\n",
       "      <td>1121.000000</td>\n",
       "      <td>6.000000</td>\n",
       "      <td>281.000000</td>\n",
       "      <td>40.000000</td>\n",
       "      <td>10.000000</td>\n",
       "      <td>12615.000000</td>\n",
       "      <td>50.0</td>\n",
       "      <td>15360.0</td>\n",
       "      <td>500.0</td>\n",
       "      <td>550.0</td>\n",
       "      <td>200.0</td>\n",
       "      <td>3.0</td>\n",
       "      <td>3.0</td>\n",
       "      <td>0.000000</td>\n",
       "      <td>550.000000</td>\n",
       "    </tr>\n",
       "    <tr>\n",
       "      <td>50%</td>\n",
       "      <td>1239.000000</td>\n",
       "      <td>9.000000</td>\n",
       "      <td>420.000000</td>\n",
       "      <td>59.000000</td>\n",
       "      <td>28.000000</td>\n",
       "      <td>16457.000000</td>\n",
       "      <td>50.0</td>\n",
       "      <td>15360.0</td>\n",
       "      <td>500.0</td>\n",
       "      <td>550.0</td>\n",
       "      <td>200.0</td>\n",
       "      <td>3.0</td>\n",
       "      <td>3.0</td>\n",
       "      <td>404.000000</td>\n",
       "      <td>954.000000</td>\n",
       "    </tr>\n",
       "    <tr>\n",
       "      <td>75%</td>\n",
       "      <td>1376.000000</td>\n",
       "      <td>11.000000</td>\n",
       "      <td>543.000000</td>\n",
       "      <td>76.000000</td>\n",
       "      <td>50.000000</td>\n",
       "      <td>19974.000000</td>\n",
       "      <td>50.0</td>\n",
       "      <td>15360.0</td>\n",
       "      <td>500.0</td>\n",
       "      <td>550.0</td>\n",
       "      <td>200.0</td>\n",
       "      <td>3.0</td>\n",
       "      <td>3.0</td>\n",
       "      <td>1097.000000</td>\n",
       "      <td>1647.000000</td>\n",
       "    </tr>\n",
       "    <tr>\n",
       "      <td>max</td>\n",
       "      <td>1499.000000</td>\n",
       "      <td>12.000000</td>\n",
       "      <td>1022.000000</td>\n",
       "      <td>137.000000</td>\n",
       "      <td>127.000000</td>\n",
       "      <td>33886.000000</td>\n",
       "      <td>50.0</td>\n",
       "      <td>15360.0</td>\n",
       "      <td>500.0</td>\n",
       "      <td>550.0</td>\n",
       "      <td>200.0</td>\n",
       "      <td>3.0</td>\n",
       "      <td>3.0</td>\n",
       "      <td>4063.000000</td>\n",
       "      <td>4613.000000</td>\n",
       "    </tr>\n",
       "  </tbody>\n",
       "</table>\n",
       "</div>"
      ],
      "text/plain": [
       "           user_id        month     duration  amount_of_calls  amount_of_sms  \\\n",
       "count  2212.000000  2212.000000  2212.000000      2212.000000    2212.000000   \n",
       "mean   1246.260398     8.328210   415.046112        58.063291      32.995931   \n",
       "std     146.242044     2.918749   186.940935        25.488490      27.630771   \n",
       "min    1001.000000     1.000000     0.000000         0.000000       0.000000   \n",
       "25%    1121.000000     6.000000   281.000000        40.000000      10.000000   \n",
       "50%    1239.000000     9.000000   420.000000        59.000000      28.000000   \n",
       "75%    1376.000000    11.000000   543.000000        76.000000      50.000000   \n",
       "max    1499.000000    12.000000  1022.000000       137.000000     127.000000   \n",
       "\n",
       "       amount_of_mb  messages_included  mb_per_month_included  \\\n",
       "count   2212.000000             2212.0                 2212.0   \n",
       "mean   16112.390145               50.0                15360.0   \n",
       "std     5756.455350                0.0                    0.0   \n",
       "min        0.000000               50.0                15360.0   \n",
       "25%    12615.000000               50.0                15360.0   \n",
       "50%    16457.000000               50.0                15360.0   \n",
       "75%    19974.000000               50.0                15360.0   \n",
       "max    33886.000000               50.0                15360.0   \n",
       "\n",
       "       minutes_included  rub_monthly_fee  rub_per_gb  rub_per_message  \\\n",
       "count            2212.0           2212.0      2212.0           2212.0   \n",
       "mean              500.0            550.0       200.0              3.0   \n",
       "std                 0.0              0.0         0.0              0.0   \n",
       "min               500.0            550.0       200.0              3.0   \n",
       "25%               500.0            550.0       200.0              3.0   \n",
       "50%               500.0            550.0       200.0              3.0   \n",
       "75%               500.0            550.0       200.0              3.0   \n",
       "max               500.0            550.0       200.0              3.0   \n",
       "\n",
       "       rub_per_minute  above_the_tariff   total_paid  \n",
       "count          2212.0       2212.000000  2212.000000  \n",
       "mean              3.0        658.170434  1208.170434  \n",
       "std               0.0        735.869857   735.869857  \n",
       "min               3.0          0.000000   550.000000  \n",
       "25%               3.0          0.000000   550.000000  \n",
       "50%               3.0        404.000000   954.000000  \n",
       "75%               3.0       1097.000000  1647.000000  \n",
       "max               3.0       4063.000000  4613.000000  "
      ]
     },
     "execution_count": 34,
     "metadata": {},
     "output_type": "execute_result"
    }
   ],
   "source": [
    "df_filtered.loc[df_filtered['tariff']=='smart'].describe() "
   ]
  },
  {
   "cell_type": "markdown",
   "metadata": {},
   "source": [
    "Теперь проделаем все тоже самое с пользователями тарифа Ультра, а затем посмотрим разницу поведения."
   ]
  },
  {
   "cell_type": "code",
   "execution_count": 35,
   "metadata": {},
   "outputs": [
    {
     "data": {
      "text/html": [
       "<div>\n",
       "<style scoped>\n",
       "    .dataframe tbody tr th:only-of-type {\n",
       "        vertical-align: middle;\n",
       "    }\n",
       "\n",
       "    .dataframe tbody tr th {\n",
       "        vertical-align: top;\n",
       "    }\n",
       "\n",
       "    .dataframe thead th {\n",
       "        text-align: right;\n",
       "    }\n",
       "</style>\n",
       "<table border=\"1\" class=\"dataframe\">\n",
       "  <thead>\n",
       "    <tr style=\"text-align: right;\">\n",
       "      <th></th>\n",
       "      <th>amount_of_mb</th>\n",
       "      <th>amount_of_sms</th>\n",
       "      <th>duration</th>\n",
       "    </tr>\n",
       "    <tr>\n",
       "      <th>month</th>\n",
       "      <th></th>\n",
       "      <th></th>\n",
       "      <th></th>\n",
       "    </tr>\n",
       "  </thead>\n",
       "  <tbody>\n",
       "    <tr>\n",
       "      <td>1</td>\n",
       "      <td>118263</td>\n",
       "      <td>304</td>\n",
       "      <td>3853</td>\n",
       "    </tr>\n",
       "    <tr>\n",
       "      <td>2</td>\n",
       "      <td>282610</td>\n",
       "      <td>527</td>\n",
       "      <td>7131</td>\n",
       "    </tr>\n",
       "    <tr>\n",
       "      <td>3</td>\n",
       "      <td>513603</td>\n",
       "      <td>741</td>\n",
       "      <td>13149</td>\n",
       "    </tr>\n",
       "    <tr>\n",
       "      <td>4</td>\n",
       "      <td>813361</td>\n",
       "      <td>1446</td>\n",
       "      <td>22821</td>\n",
       "    </tr>\n",
       "    <tr>\n",
       "      <td>5</td>\n",
       "      <td>1060482</td>\n",
       "      <td>2030</td>\n",
       "      <td>29244</td>\n",
       "    </tr>\n",
       "    <tr>\n",
       "      <td>6</td>\n",
       "      <td>1292630</td>\n",
       "      <td>2534</td>\n",
       "      <td>33770</td>\n",
       "    </tr>\n",
       "    <tr>\n",
       "      <td>7</td>\n",
       "      <td>1143313</td>\n",
       "      <td>2617</td>\n",
       "      <td>34729</td>\n",
       "    </tr>\n",
       "    <tr>\n",
       "      <td>8</td>\n",
       "      <td>1517158</td>\n",
       "      <td>3512</td>\n",
       "      <td>41478</td>\n",
       "    </tr>\n",
       "    <tr>\n",
       "      <td>9</td>\n",
       "      <td>1688649</td>\n",
       "      <td>3732</td>\n",
       "      <td>45351</td>\n",
       "    </tr>\n",
       "    <tr>\n",
       "      <td>10</td>\n",
       "      <td>1740456</td>\n",
       "      <td>4345</td>\n",
       "      <td>48293</td>\n",
       "    </tr>\n",
       "    <tr>\n",
       "      <td>11</td>\n",
       "      <td>1793083</td>\n",
       "      <td>4594</td>\n",
       "      <td>51037</td>\n",
       "    </tr>\n",
       "    <tr>\n",
       "      <td>12</td>\n",
       "      <td>1919878</td>\n",
       "      <td>4791</td>\n",
       "      <td>53861</td>\n",
       "    </tr>\n",
       "  </tbody>\n",
       "</table>\n",
       "</div>"
      ],
      "text/plain": [
       "       amount_of_mb  amount_of_sms  duration\n",
       "month                                       \n",
       "1            118263            304      3853\n",
       "2            282610            527      7131\n",
       "3            513603            741     13149\n",
       "4            813361           1446     22821\n",
       "5           1060482           2030     29244\n",
       "6           1292630           2534     33770\n",
       "7           1143313           2617     34729\n",
       "8           1517158           3512     41478\n",
       "9           1688649           3732     45351\n",
       "10          1740456           4345     48293\n",
       "11          1793083           4594     51037\n",
       "12          1919878           4791     53861"
      ]
     },
     "metadata": {},
     "output_type": "display_data"
    },
    {
     "data": {
      "text/html": [
       "<div>\n",
       "<style scoped>\n",
       "    .dataframe tbody tr th:only-of-type {\n",
       "        vertical-align: middle;\n",
       "    }\n",
       "\n",
       "    .dataframe tbody tr th {\n",
       "        vertical-align: top;\n",
       "    }\n",
       "\n",
       "    .dataframe thead th {\n",
       "        text-align: right;\n",
       "    }\n",
       "</style>\n",
       "<table border=\"1\" class=\"dataframe\">\n",
       "  <thead>\n",
       "    <tr style=\"text-align: right;\">\n",
       "      <th></th>\n",
       "      <th>user_id</th>\n",
       "      <th>month</th>\n",
       "      <th>duration</th>\n",
       "      <th>amount_of_calls</th>\n",
       "      <th>amount_of_sms</th>\n",
       "      <th>amount_of_mb</th>\n",
       "      <th>messages_included</th>\n",
       "      <th>mb_per_month_included</th>\n",
       "      <th>minutes_included</th>\n",
       "      <th>rub_monthly_fee</th>\n",
       "      <th>rub_per_gb</th>\n",
       "      <th>rub_per_message</th>\n",
       "      <th>rub_per_minute</th>\n",
       "      <th>above_the_tariff</th>\n",
       "      <th>total_paid</th>\n",
       "    </tr>\n",
       "  </thead>\n",
       "  <tbody>\n",
       "    <tr>\n",
       "      <td>count</td>\n",
       "      <td>796.000000</td>\n",
       "      <td>796.000000</td>\n",
       "      <td>796.000000</td>\n",
       "      <td>796.000000</td>\n",
       "      <td>796.000000</td>\n",
       "      <td>796.000000</td>\n",
       "      <td>796.0</td>\n",
       "      <td>796.0</td>\n",
       "      <td>796.0</td>\n",
       "      <td>796.0</td>\n",
       "      <td>796.0</td>\n",
       "      <td>796.0</td>\n",
       "      <td>796.0</td>\n",
       "      <td>796.000000</td>\n",
       "      <td>796.000000</td>\n",
       "    </tr>\n",
       "    <tr>\n",
       "      <td>mean</td>\n",
       "      <td>1267.194724</td>\n",
       "      <td>8.064070</td>\n",
       "      <td>483.312814</td>\n",
       "      <td>67.437186</td>\n",
       "      <td>39.162060</td>\n",
       "      <td>17441.565327</td>\n",
       "      <td>1000.0</td>\n",
       "      <td>30720.0</td>\n",
       "      <td>3000.0</td>\n",
       "      <td>1950.0</td>\n",
       "      <td>150.0</td>\n",
       "      <td>1.0</td>\n",
       "      <td>1.0</td>\n",
       "      <td>19.192211</td>\n",
       "      <td>1969.192211</td>\n",
       "    </tr>\n",
       "    <tr>\n",
       "      <td>std</td>\n",
       "      <td>144.353065</td>\n",
       "      <td>2.924572</td>\n",
       "      <td>266.633891</td>\n",
       "      <td>37.109423</td>\n",
       "      <td>35.462162</td>\n",
       "      <td>8707.129348</td>\n",
       "      <td>0.0</td>\n",
       "      <td>0.0</td>\n",
       "      <td>0.0</td>\n",
       "      <td>0.0</td>\n",
       "      <td>0.0</td>\n",
       "      <td>0.0</td>\n",
       "      <td>0.0</td>\n",
       "      <td>83.416449</td>\n",
       "      <td>83.416449</td>\n",
       "    </tr>\n",
       "    <tr>\n",
       "      <td>min</td>\n",
       "      <td>1000.000000</td>\n",
       "      <td>1.000000</td>\n",
       "      <td>0.000000</td>\n",
       "      <td>0.000000</td>\n",
       "      <td>0.000000</td>\n",
       "      <td>0.000000</td>\n",
       "      <td>1000.0</td>\n",
       "      <td>30720.0</td>\n",
       "      <td>3000.0</td>\n",
       "      <td>1950.0</td>\n",
       "      <td>150.0</td>\n",
       "      <td>1.0</td>\n",
       "      <td>1.0</td>\n",
       "      <td>0.000000</td>\n",
       "      <td>1950.000000</td>\n",
       "    </tr>\n",
       "    <tr>\n",
       "      <td>25%</td>\n",
       "      <td>1126.000000</td>\n",
       "      <td>6.000000</td>\n",
       "      <td>280.500000</td>\n",
       "      <td>40.000000</td>\n",
       "      <td>4.000000</td>\n",
       "      <td>10762.000000</td>\n",
       "      <td>1000.0</td>\n",
       "      <td>30720.0</td>\n",
       "      <td>3000.0</td>\n",
       "      <td>1950.0</td>\n",
       "      <td>150.0</td>\n",
       "      <td>1.0</td>\n",
       "      <td>1.0</td>\n",
       "      <td>0.000000</td>\n",
       "      <td>1950.000000</td>\n",
       "    </tr>\n",
       "    <tr>\n",
       "      <td>50%</td>\n",
       "      <td>1292.000000</td>\n",
       "      <td>8.000000</td>\n",
       "      <td>497.500000</td>\n",
       "      <td>69.000000</td>\n",
       "      <td>31.000000</td>\n",
       "      <td>17404.000000</td>\n",
       "      <td>1000.0</td>\n",
       "      <td>30720.0</td>\n",
       "      <td>3000.0</td>\n",
       "      <td>1950.0</td>\n",
       "      <td>150.0</td>\n",
       "      <td>1.0</td>\n",
       "      <td>1.0</td>\n",
       "      <td>0.000000</td>\n",
       "      <td>1950.000000</td>\n",
       "    </tr>\n",
       "    <tr>\n",
       "      <td>75%</td>\n",
       "      <td>1385.000000</td>\n",
       "      <td>11.000000</td>\n",
       "      <td>683.250000</td>\n",
       "      <td>94.250000</td>\n",
       "      <td>65.000000</td>\n",
       "      <td>23861.000000</td>\n",
       "      <td>1000.0</td>\n",
       "      <td>30720.0</td>\n",
       "      <td>3000.0</td>\n",
       "      <td>1950.0</td>\n",
       "      <td>150.0</td>\n",
       "      <td>1.0</td>\n",
       "      <td>1.0</td>\n",
       "      <td>0.000000</td>\n",
       "      <td>1950.000000</td>\n",
       "    </tr>\n",
       "    <tr>\n",
       "      <td>max</td>\n",
       "      <td>1495.000000</td>\n",
       "      <td>12.000000</td>\n",
       "      <td>1045.000000</td>\n",
       "      <td>165.000000</td>\n",
       "      <td>128.000000</td>\n",
       "      <td>34709.000000</td>\n",
       "      <td>1000.0</td>\n",
       "      <td>30720.0</td>\n",
       "      <td>3000.0</td>\n",
       "      <td>1950.0</td>\n",
       "      <td>150.0</td>\n",
       "      <td>1.0</td>\n",
       "      <td>1.0</td>\n",
       "      <td>585.000000</td>\n",
       "      <td>2535.000000</td>\n",
       "    </tr>\n",
       "  </tbody>\n",
       "</table>\n",
       "</div>"
      ],
      "text/plain": [
       "           user_id       month     duration  amount_of_calls  amount_of_sms  \\\n",
       "count   796.000000  796.000000   796.000000       796.000000     796.000000   \n",
       "mean   1267.194724    8.064070   483.312814        67.437186      39.162060   \n",
       "std     144.353065    2.924572   266.633891        37.109423      35.462162   \n",
       "min    1000.000000    1.000000     0.000000         0.000000       0.000000   \n",
       "25%    1126.000000    6.000000   280.500000        40.000000       4.000000   \n",
       "50%    1292.000000    8.000000   497.500000        69.000000      31.000000   \n",
       "75%    1385.000000   11.000000   683.250000        94.250000      65.000000   \n",
       "max    1495.000000   12.000000  1045.000000       165.000000     128.000000   \n",
       "\n",
       "       amount_of_mb  messages_included  mb_per_month_included  \\\n",
       "count    796.000000              796.0                  796.0   \n",
       "mean   17441.565327             1000.0                30720.0   \n",
       "std     8707.129348                0.0                    0.0   \n",
       "min        0.000000             1000.0                30720.0   \n",
       "25%    10762.000000             1000.0                30720.0   \n",
       "50%    17404.000000             1000.0                30720.0   \n",
       "75%    23861.000000             1000.0                30720.0   \n",
       "max    34709.000000             1000.0                30720.0   \n",
       "\n",
       "       minutes_included  rub_monthly_fee  rub_per_gb  rub_per_message  \\\n",
       "count             796.0            796.0       796.0            796.0   \n",
       "mean             3000.0           1950.0       150.0              1.0   \n",
       "std                 0.0              0.0         0.0              0.0   \n",
       "min              3000.0           1950.0       150.0              1.0   \n",
       "25%              3000.0           1950.0       150.0              1.0   \n",
       "50%              3000.0           1950.0       150.0              1.0   \n",
       "75%              3000.0           1950.0       150.0              1.0   \n",
       "max              3000.0           1950.0       150.0              1.0   \n",
       "\n",
       "       rub_per_minute  above_the_tariff   total_paid  \n",
       "count           796.0        796.000000   796.000000  \n",
       "mean              1.0         19.192211  1969.192211  \n",
       "std               0.0         83.416449    83.416449  \n",
       "min               1.0          0.000000  1950.000000  \n",
       "25%               1.0          0.000000  1950.000000  \n",
       "50%               1.0          0.000000  1950.000000  \n",
       "75%               1.0          0.000000  1950.000000  \n",
       "max               1.0        585.000000  2535.000000  "
      ]
     },
     "metadata": {},
     "output_type": "display_data"
    },
    {
     "data": {
      "image/png": "[encoded data removed]",
      "text/plain": [
       "<Figure size 432x288 with 1 Axes>"
      ]
     },
     "metadata": {
      "needs_background": "light"
     },
     "output_type": "display_data"
    }
   ],
   "source": [
    "df_filtered_ultra = pd.pivot_table(data=df_filtered.loc[df['tariff']=='ultra'], index = 'month', values=columns, aggfunc=sum)\n",
    "display(df_filtered_ultra)\n",
    "display(df_filtered.loc[df_filtered['tariff']=='ultra'].describe())\n",
    "df_filtered.loc[df_filtered['tariff']=='ultra'].groupby('month')['user_id'].count().plot()\n",
    "plt.title('Количество пользователей по месяцам')\n",
    "plt.xlabel('Месяц')\n",
    "plt.ylabel('Количество')\n",
    "plt.show()"
   ]
  },
  {
   "cell_type": "markdown",
   "metadata": {},
   "source": [
    "Популярность тарифа ультра растет не так же гладко, как тарифа смарт - в опредленные месяцы даже есть уменьшение числа пользователей относительно предыдущего периода. Однако, средние значения потребления услуг не сильно отличаются - рассмотрим точнее разницу среднего и медианы у двух тарифов:"
   ]
  },
  {
   "cell_type": "code",
   "execution_count": 36,
   "metadata": {},
   "outputs": [
    {
     "name": "stdout",
     "output_type": "stream",
     "text": [
      "Среднее значение duration тарифа smart отличается от  ultra на -68.3\n",
      "Медиана duration тарифа smart отличается от  ultra на -77.5\n",
      "\n",
      "Среднее значение amount_of_mb тарифа smart отличается от  ultra на -1329.2\n",
      "Медиана amount_of_mb тарифа smart отличается от  ultra на -947.0\n",
      "\n",
      "Среднее значение amount_of_sms тарифа smart отличается от  ultra на -6.2\n",
      "Медиана amount_of_sms тарифа smart отличается от  ultra на -3.0\n",
      "\n"
     ]
    }
   ],
   "source": [
    "df_filtered_smart = df_filtered.loc[df_filtered['tariff']=='smart']\n",
    "df_filtered_ultra = df_filtered.loc[df_filtered['tariff']=='ultra']\n",
    "for column in columns:\n",
    "    mean_difference = round(df_filtered_smart[column].describe()[1] - df_filtered_ultra[column].describe()[1], ndigits=1)\n",
    "    median_difference = round(df_filtered_smart[column].describe()[5] - df_filtered_ultra[column].describe()[5], ndigits=1)\n",
    "    print('Среднее значение {} тарифа smart отличается от  ultra на {}'.format(column, mean_difference))\n",
    "    print('Медиана {} тарифа smart отличается от  ultra на {}\\n'.format(column, median_difference))"
   ]
  },
  {
   "cell_type": "markdown",
   "metadata": {},
   "source": [
    "Сразу стало видно, что пользователи тарифа Ультра не зря переплачивают за абонентскую плату: среднее потребление по всем направлениям у них выше, чем у пользователей тарифа Смарт: в среднем они говорят дольше на час, потребляют на гигабайт больше интернета и совсем незначительно (смски видимо у всех уже не в почете) больше отправляют смс.\n",
    "\n",
    "Теперь посмотрим на распредление - построим гистограммы плотности для каждого показателя по обоим тарифам:"
   ]
  },
  {
   "cell_type": "code",
   "execution_count": 37,
   "metadata": {},
   "outputs": [
    {
     "data": {
      "image/png": "[encoded data removed]",
      "text/plain": [
       "<Figure size 1440x360 with 3 Axes>"
      ]
     },
     "metadata": {
      "needs_background": "light"
     },
     "output_type": "display_data"
    },
    {
     "data": {
      "image/png": "[encoded data removed]",
      "text/plain": [
       "<Figure size 1440x360 with 3 Axes>"
      ]
     },
     "metadata": {
      "needs_background": "light"
     },
     "output_type": "display_data"
    }
   ],
   "source": [
    "fig, axs = plt.subplots(1,3, figsize=[20,5])\n",
    "fig.suptitle('Гистограммы плотности для тарифа smart',fontsize=18)\n",
    "for i, column in enumerate(columns):\n",
    "    sns.distplot(df_filtered_smart[column], ax=axs[i], color='green')\n",
    "    \n",
    "plt.show()\n",
    "\n",
    "fig, axs = plt.subplots(1,3, figsize=[20,5])\n",
    "fig.suptitle('Гистограммы плотности для тарифа ultra',fontsize=18)\n",
    "for i, column in enumerate(columns):\n",
    "    sns.distplot(df_filtered_ultra[column], ax=axs[i], color='blue')"
   ]
  },
  {
   "cell_type": "markdown",
   "metadata": {},
   "source": [
    "<h1>Выводы по Шагу 3</h1>  \n",
    "\n",
    "\n",
    "Распредления тарифов очень похожи из этого следует, что пользователи ведут себя примерно одинакого.Гистограммы плотности сообщений ассиметричены в обоих случаях, так как это непопулярная услуга. Колокол гистограмм продолжительности звонков и количества мегабайт на тарифе Ультра шире, так как он включает в себя больше услуг и потребление на этом тарифе больше."
   ]
  },
  {
   "cell_type": "markdown",
   "metadata": {},
   "source": [
    "<h1>Шаг 4. Проверка гипотез</h1>  \n",
    "\n",
    "Проверка гипотез:  \n",
    "•\tсредняя выручка пользователей тарифов «Ультра» и «Смарт» различаются;  \n",
    "•\tсредняя выручка пользователей из Москвы отличается от выручки пользователей из других регионов.\n",
    "\n",
    "\n",
    "Поясните:  \n",
    "•\tкак вы формулировали нулевую и альтернативную гипотезы;  \n",
    "•\tкакой критерий использовали для проверки гипотез и почему.\n"
   ]
  },
  {
   "cell_type": "markdown",
   "metadata": {},
   "source": [
    "Приступаем к проверки гипотез, превая - средняя выручка пользователей тарифов «Ультра» и «Смарт» различаются.  Будем проверять две генеральные совокупности на равенство их средних (st.ttest_ind). Считаем, что первая генеральная совокупность - пользователи тарифа smart, вторая - ultra. В каждой выборке достаточно наблюдений, чтобы применить t-критерий. Формулируем гипотезы исходя из того, что первая гипотеза - всегда со знаком равенства:\n",
    "\n",
    "Н0 - средняя выручка компании от пользователей тарифов «Ультра» и «Смарт» одинаковая  \n",
    "H1 - средняя выручка компании от пользователей тарифов «Ультра» и «Смарт» отличается"
   ]
  },
  {
   "cell_type": "markdown",
   "metadata": {},
   "source": [
    "В целях понимания значения аргумента equal_var  метода st.ttest_ind сравним дисперсии:"
   ]
  },
  {
   "cell_type": "code",
   "execution_count": 38,
   "metadata": {},
   "outputs": [
    {
     "name": "stdout",
     "output_type": "stream",
     "text": [
      "540225\n",
      "6889\n"
     ]
    }
   ],
   "source": [
    "ultra = df_filtered.query(\"tariff == 'ultra'\")\n",
    "smart = df_filtered.query(\"tariff == 'smart'\")\n",
    "print(int(smart['total_paid'].describe()[2])**2)\n",
    "print(int(ultra['total_paid'].describe()[2])**2)\n"
   ]
  },
  {
   "cell_type": "markdown",
   "metadata": {},
   "source": [
    "Исходя из разницы дисперсий для проведения t-теста в методе пропишем аргумент equal_var=False. Уровень значимости зададим равным 5%:"
   ]
  },
  {
   "cell_type": "code",
   "execution_count": 39,
   "metadata": {},
   "outputs": [
    {
     "name": "stdout",
     "output_type": "stream",
     "text": [
      "p-значение: 0.0\n",
      "Отвергаем нулевую гипотезу\n"
     ]
    }
   ],
   "source": [
    "from scipy import stats as st\n",
    "alpha = 0.05\n",
    "result = st.ttest_ind(smart['total_paid'], ultra['total_paid'], equal_var=False)\n",
    "\n",
    "print('p-значение:',result.pvalue)\n",
    "\n",
    "if (result.pvalue < alpha):\n",
    "    print(\"Отвергаем нулевую гипотезу\")\n",
    "else:\n",
    "    print(\"Не получилось отвергнуть нулевую гипотезу\")"
   ]
  },
  {
   "cell_type": "markdown",
   "metadata": {},
   "source": [
    "Таким образом, Н0 отвергается, средняя выручка компании от тарифов Смарт и Ультра отличается.  "
   ]
  },
  {
   "cell_type": "markdown",
   "metadata": {},
   "source": [
    "Проверим вторую гипотезу: средняя выручка пользователей из Москвы отличается от выручки пользователей из других регионов.  \n",
    "Тест проведем по аналогии с предыдущим, пользователи из Москвы одна генеральная совокупность, жители остальных городов - принадлежат к другой. Проверим равенство дисперсий и затем проверим гипотезу:  \n",
    "Н0 - средняя выручка компании в Москве равна выручке из других регионов  \n",
    "H1 - средняя выручка компании в Москвы НЕ равна выручке из других регионов"
   ]
  },
  {
   "cell_type": "code",
   "execution_count": 40,
   "metadata": {},
   "outputs": [
    {
     "name": "stdout",
     "output_type": "stream",
     "text": [
      "465124\n",
      "522729\n"
     ]
    }
   ],
   "source": [
    "moscow_revenue = df_filtered.loc[df_filtered['city']== 'Москва','total_paid'] \n",
    "regions_revenue = df_filtered.loc[df_filtered['city'] != 'Москва','total_paid'] \n",
    "print(int(moscow_revenue.describe()[2])**2)\n",
    "print(int(regions_revenue.describe()[2])**2)"
   ]
  },
  {
   "cell_type": "markdown",
   "metadata": {},
   "source": [
    "Получается не очевидно, поверим при помощи теста Левена, зададим уровень значимости 5%:"
   ]
  },
  {
   "cell_type": "code",
   "execution_count": 41,
   "metadata": {},
   "outputs": [
    {
     "name": "stdout",
     "output_type": "stream",
     "text": [
      "0.0490281934195799\n"
     ]
    }
   ],
   "source": [
    "stat, p = st.levene(moscow_revenue, regions_revenue)\n",
    "print(p)"
   ]
  },
  {
   "cell_type": "markdown",
   "metadata": {},
   "source": [
    "p-значение теста Левена оказалось меньше 5%, значит отвергаем нулевую гипотезу о равенстве дисперсий наших выборок, устанавливаем equal_var=False:"
   ]
  },
  {
   "cell_type": "code",
   "execution_count": 42,
   "metadata": {},
   "outputs": [
    {
     "name": "stdout",
     "output_type": "stream",
     "text": [
      "p-значение: 0.3428989349418019\n",
      "Не получилось отвергнуть нулевую гипотезу\n"
     ]
    }
   ],
   "source": [
    "result = st.ttest_ind(moscow_revenue, regions_revenue, equal_var=False)\n",
    "\n",
    "print('p-значение:',result.pvalue)\n",
    "\n",
    "if (result.pvalue < alpha):\n",
    "    print(\"Отвергаем нулевую гипотезу\")\n",
    "else:\n",
    "    print(\"Не получилось отвергнуть нулевую гипотезу\")"
   ]
  },
  {
   "cell_type": "markdown",
   "metadata": {},
   "source": [
    "p-уровень значимости получился равен почти 40%, что не позволяет нам отвергнуть нулевую гипотизу.\n",
    "\n",
    "Следовательно, выручка компании в Москве не отличается от выручки в регионах."
   ]
  },
  {
   "cell_type": "markdown",
   "metadata": {},
   "source": [
    "<h1>Выводы</h1>  \n",
    "\n",
    "С большой долей вероятности было установлено, что средняя выручка у разных тарифов не равна, и средняя выручка от клиента тарифа ultra оказалась выше, чем у тарифа smart. Можно было бы обозначить тариф Ультра, как наиболее перспективный, если бы могли проанализировать расходы связанные с обслуживанием и привлечением пользователей. Так как экономику себестоимости рассчитать нет возможности, то нельзя точно заявить о перспективности тарифа. Однако можно сделать вывод о том, что пользователи тарифа Ультра чаще не выходят за рамки своего тарифа, а вот пользователи тарифа Смарт зачастую доплачивают за минуты и трафик.\n",
    "Точно можно сделать вывод о том, что не нужно концентрироваться только на Москве, расширение в регионах тоже перспективно."
   ]
  }
 ],
 "metadata": {
  "ExecuteTimeLog": [
   {
    "duration": 777,
    "start_time": "2022-01-26T09:36:37.872Z"
   },
   {
    "duration": 17,
    "start_time": "2022-01-26T09:37:08.319Z"
   },
   {
    "duration": 427,
    "start_time": "2022-01-26T09:41:24.968Z"
   },
   {
    "duration": 369,
    "start_time": "2022-01-26T09:41:55.370Z"
   },
   {
    "duration": 449,
    "start_time": "2022-01-26T09:47:43.645Z"
   },
   {
    "duration": 431,
    "start_time": "2022-01-26T09:50:02.025Z"
   },
   {
    "duration": 399,
    "start_time": "2022-01-26T09:56:29.319Z"
   },
   {
    "duration": 399,
    "start_time": "2022-01-26T09:57:43.423Z"
   },
   {
    "duration": 505,
    "start_time": "2022-01-26T10:29:58.361Z"
   },
   {
    "duration": 218,
    "start_time": "2022-01-26T10:30:41.360Z"
   },
   {
    "duration": 321,
    "start_time": "2022-01-26T11:58:27.707Z"
   },
   {
    "duration": 235,
    "start_time": "2022-01-26T11:58:30.460Z"
   },
   {
    "duration": 451,
    "start_time": "2022-01-26T12:00:40.030Z"
   },
   {
    "duration": 440,
    "start_time": "2022-01-26T12:01:19.756Z"
   },
   {
    "duration": 400,
    "start_time": "2022-01-26T12:01:36.390Z"
   },
   {
    "duration": 7,
    "start_time": "2022-01-26T12:20:06.802Z"
   },
   {
    "duration": 121,
    "start_time": "2022-01-26T12:55:42.495Z"
   },
   {
    "duration": 208,
    "start_time": "2022-01-26T12:55:57.761Z"
   },
   {
    "duration": 124,
    "start_time": "2022-01-26T12:59:39.542Z"
   },
   {
    "duration": 117,
    "start_time": "2022-01-26T12:59:50.300Z"
   },
   {
    "duration": 593,
    "start_time": "2022-01-26T13:01:05.036Z"
   },
   {
    "duration": 284,
    "start_time": "2022-01-26T13:01:17.108Z"
   },
   {
    "duration": 46,
    "start_time": "2022-01-26T13:10:28.577Z"
   },
   {
    "duration": 32,
    "start_time": "2022-01-26T13:10:48.699Z"
   },
   {
    "duration": 337,
    "start_time": "2022-01-26T13:12:25.113Z"
   },
   {
    "duration": 371,
    "start_time": "2022-01-26T13:14:21.001Z"
   },
   {
    "duration": 400,
    "start_time": "2022-01-26T13:15:34.791Z"
   },
   {
    "duration": 104,
    "start_time": "2022-01-26T13:15:43.774Z"
   },
   {
    "duration": 143,
    "start_time": "2022-01-26T13:17:51.115Z"
   },
   {
    "duration": 133,
    "start_time": "2022-01-26T13:18:18.339Z"
   },
   {
    "duration": 7591,
    "start_time": "2022-01-26T14:17:28.581Z"
   },
   {
    "duration": 340,
    "start_time": "2022-01-26T14:18:21.512Z"
   },
   {
    "duration": 970,
    "start_time": "2022-01-26T14:18:36.165Z"
   },
   {
    "duration": 423,
    "start_time": "2022-01-26T14:18:37.138Z"
   },
   {
    "duration": 1256,
    "start_time": "2022-01-26T14:18:37.565Z"
   },
   {
    "duration": 581,
    "start_time": "2022-01-26T14:18:38.824Z"
   },
   {
    "duration": 708,
    "start_time": "2022-01-26T14:18:39.407Z"
   },
   {
    "duration": 169,
    "start_time": "2022-01-26T14:18:40.118Z"
   },
   {
    "duration": 514,
    "start_time": "2022-01-26T14:18:40.289Z"
   },
   {
    "duration": 468,
    "start_time": "2022-01-26T14:18:40.806Z"
   },
   {
    "duration": 675,
    "start_time": "2022-01-26T14:18:41.277Z"
   },
   {
    "duration": 358,
    "start_time": "2022-01-26T14:19:13.686Z"
   },
   {
    "duration": 353,
    "start_time": "2022-01-26T14:19:50.885Z"
   },
   {
    "duration": 314,
    "start_time": "2022-01-26T14:20:24.005Z"
   },
   {
    "duration": 335,
    "start_time": "2022-01-26T14:23:43.795Z"
   },
   {
    "duration": 1052,
    "start_time": "2022-01-26T14:24:24.733Z"
   },
   {
    "duration": 589,
    "start_time": "2022-01-26T14:24:25.789Z"
   },
   {
    "duration": 2994,
    "start_time": "2022-01-26T14:24:26.382Z"
   },
   {
    "duration": 3986,
    "start_time": "2022-01-26T14:24:29.380Z"
   },
   {
    "duration": 1836,
    "start_time": "2022-01-26T14:24:33.369Z"
   },
   {
    "duration": 825,
    "start_time": "2022-01-26T14:24:35.207Z"
   },
   {
    "duration": 1501,
    "start_time": "2022-01-26T14:24:36.035Z"
   },
   {
    "duration": 978,
    "start_time": "2022-01-26T14:24:37.539Z"
   },
   {
    "duration": 1869,
    "start_time": "2022-01-26T14:24:38.520Z"
   },
   {
    "duration": 313,
    "start_time": "2022-01-26T14:24:57.171Z"
   },
   {
    "duration": 720,
    "start_time": "2022-01-26T14:25:57.590Z"
   },
   {
    "duration": 121,
    "start_time": "2022-01-26T14:26:45.241Z"
   },
   {
    "duration": 321,
    "start_time": "2022-01-26T14:35:52.153Z"
   },
   {
    "duration": 45,
    "start_time": "2022-01-26T14:36:04.141Z"
   },
   {
    "duration": 42,
    "start_time": "2022-01-26T14:43:46.366Z"
   },
   {
    "duration": 30,
    "start_time": "2022-01-26T14:43:58.880Z"
   },
   {
    "duration": 22,
    "start_time": "2022-01-26T14:44:26.248Z"
   },
   {
    "duration": 28,
    "start_time": "2022-01-26T14:44:44.168Z"
   },
   {
    "duration": 37,
    "start_time": "2022-01-26T14:48:07.017Z"
   },
   {
    "duration": 312,
    "start_time": "2022-01-26T14:48:24.656Z"
   },
   {
    "duration": 62,
    "start_time": "2022-01-26T14:49:35.298Z"
   },
   {
    "duration": 76,
    "start_time": "2022-01-26T14:50:00.056Z"
   },
   {
    "duration": 61,
    "start_time": "2022-01-26T14:50:16.379Z"
   },
   {
    "duration": 71,
    "start_time": "2022-01-26T14:52:18.751Z"
   },
   {
    "duration": 57,
    "start_time": "2022-01-26T14:59:09.703Z"
   },
   {
    "duration": 24,
    "start_time": "2022-01-26T14:59:20.216Z"
   },
   {
    "duration": 965,
    "start_time": "2022-01-26T14:59:42.372Z"
   },
   {
    "duration": 425,
    "start_time": "2022-01-26T14:59:43.340Z"
   },
   {
    "duration": 517,
    "start_time": "2022-01-26T14:59:43.768Z"
   },
   {
    "duration": 348,
    "start_time": "2022-01-26T14:59:44.288Z"
   },
   {
    "duration": 219,
    "start_time": "2022-01-26T14:59:44.638Z"
   },
   {
    "duration": 99,
    "start_time": "2022-01-26T14:59:44.859Z"
   },
   {
    "duration": 643,
    "start_time": "2022-01-26T14:59:44.960Z"
   },
   {
    "duration": 372,
    "start_time": "2022-01-26T14:59:45.606Z"
   },
   {
    "duration": 367,
    "start_time": "2022-01-26T14:59:45.980Z"
   },
   {
    "duration": 209,
    "start_time": "2022-01-26T14:59:46.350Z"
   },
   {
    "duration": 34,
    "start_time": "2022-01-26T15:03:50.828Z"
   },
   {
    "duration": 19,
    "start_time": "2022-01-26T15:04:21.171Z"
   },
   {
    "duration": 982,
    "start_time": "2022-01-26T15:04:28.839Z"
   },
   {
    "duration": 425,
    "start_time": "2022-01-26T15:04:29.824Z"
   },
   {
    "duration": 439,
    "start_time": "2022-01-26T15:04:30.252Z"
   },
   {
    "duration": 633,
    "start_time": "2022-01-26T15:04:30.695Z"
   },
   {
    "duration": 277,
    "start_time": "2022-01-26T15:04:31.333Z"
   },
   {
    "duration": 92,
    "start_time": "2022-01-26T15:04:31.613Z"
   },
   {
    "duration": 566,
    "start_time": "2022-01-26T15:04:31.707Z"
   },
   {
    "duration": 233,
    "start_time": "2022-01-26T15:04:32.275Z"
   },
   {
    "duration": 349,
    "start_time": "2022-01-26T15:04:32.512Z"
   },
   {
    "duration": 200,
    "start_time": "2022-01-26T15:04:32.864Z"
   },
   {
    "duration": 371,
    "start_time": "2022-01-26T15:04:33.066Z"
   },
   {
    "duration": 983,
    "start_time": "2022-01-26T15:04:49.954Z"
   },
   {
    "duration": 458,
    "start_time": "2022-01-26T15:04:50.940Z"
   },
   {
    "duration": 433,
    "start_time": "2022-01-26T15:04:51.402Z"
   },
   {
    "duration": 335,
    "start_time": "2022-01-26T15:04:51.838Z"
   },
   {
    "duration": 220,
    "start_time": "2022-01-26T15:04:52.175Z"
   },
   {
    "duration": 239,
    "start_time": "2022-01-26T15:04:52.398Z"
   },
   {
    "duration": 530,
    "start_time": "2022-01-26T15:04:52.641Z"
   },
   {
    "duration": 211,
    "start_time": "2022-01-26T15:04:53.173Z"
   },
   {
    "duration": 294,
    "start_time": "2022-01-26T15:04:53.388Z"
   },
   {
    "duration": 151,
    "start_time": "2022-01-26T15:04:53.685Z"
   },
   {
    "duration": 349,
    "start_time": "2022-01-26T15:04:53.839Z"
   },
   {
    "duration": 367,
    "start_time": "2022-02-28T18:15:15.326Z"
   },
   {
    "duration": 901,
    "start_time": "2022-02-28T18:15:28.675Z"
   },
   {
    "duration": 492,
    "start_time": "2022-02-28T18:15:29.579Z"
   },
   {
    "duration": 411,
    "start_time": "2022-02-28T18:15:30.074Z"
   },
   {
    "duration": 302,
    "start_time": "2022-02-28T18:15:30.488Z"
   },
   {
    "duration": 304,
    "start_time": "2022-02-28T18:15:30.793Z"
   },
   {
    "duration": 8,
    "start_time": "2022-02-28T18:15:31.100Z"
   },
   {
    "duration": 301,
    "start_time": "2022-02-28T18:15:31.111Z"
   },
   {
    "duration": 208,
    "start_time": "2022-02-28T18:15:31.415Z"
   },
   {
    "duration": 151,
    "start_time": "2022-02-28T18:15:31.627Z"
   },
   {
    "duration": 49,
    "start_time": "2022-02-28T18:15:31.780Z"
   },
   {
    "duration": 34,
    "start_time": "2022-02-28T18:15:31.851Z"
   },
   {
    "duration": 371,
    "start_time": "2022-02-28T18:20:17.886Z"
   },
   {
    "duration": 267,
    "start_time": "2022-02-28T18:20:31.873Z"
   },
   {
    "duration": 300,
    "start_time": "2022-02-28T18:20:48.511Z"
   },
   {
    "duration": 273,
    "start_time": "2022-02-28T18:21:25.462Z"
   },
   {
    "duration": 1020,
    "start_time": "2022-02-28T18:22:14.424Z"
   },
   {
    "duration": 399,
    "start_time": "2022-02-28T18:22:15.446Z"
   },
   {
    "duration": 411,
    "start_time": "2022-02-28T18:22:15.853Z"
   },
   {
    "duration": 325,
    "start_time": "2022-02-28T18:22:16.267Z"
   },
   {
    "duration": 219,
    "start_time": "2022-02-28T18:22:16.595Z"
   },
   {
    "duration": 6,
    "start_time": "2022-02-28T18:22:16.817Z"
   },
   {
    "duration": 389,
    "start_time": "2022-02-28T18:22:16.826Z"
   },
   {
    "duration": 333,
    "start_time": "2022-02-28T18:22:17.218Z"
   },
   {
    "duration": 214,
    "start_time": "2022-02-28T18:22:17.556Z"
   },
   {
    "duration": 84,
    "start_time": "2022-02-28T18:22:17.773Z"
   },
   {
    "duration": 47,
    "start_time": "2022-02-28T18:22:17.860Z"
   },
   {
    "duration": 20,
    "start_time": "2022-02-28T18:23:52.278Z"
   },
   {
    "duration": 974,
    "start_time": "2022-02-28T18:24:10.528Z"
   },
   {
    "duration": 448,
    "start_time": "2022-02-28T18:24:11.504Z"
   },
   {
    "duration": 397,
    "start_time": "2022-02-28T18:24:11.959Z"
   },
   {
    "duration": 320,
    "start_time": "2022-02-28T18:24:12.358Z"
   },
   {
    "duration": 243,
    "start_time": "2022-02-28T18:24:12.681Z"
   },
   {
    "duration": 5,
    "start_time": "2022-02-28T18:24:12.927Z"
   },
   {
    "duration": 274,
    "start_time": "2022-02-28T18:24:12.935Z"
   },
   {
    "duration": 203,
    "start_time": "2022-02-28T18:24:13.213Z"
   },
   {
    "duration": 156,
    "start_time": "2022-02-28T18:24:13.418Z"
   },
   {
    "duration": 49,
    "start_time": "2022-02-28T18:24:13.577Z"
   },
   {
    "duration": 52,
    "start_time": "2022-02-28T18:24:13.629Z"
   },
   {
    "duration": 7525,
    "start_time": "2022-02-28T18:24:19.729Z"
   },
   {
    "duration": -1184,
    "start_time": "2022-02-28T18:24:43.832Z"
   },
   {
    "duration": 916,
    "start_time": "2022-02-28T18:24:48.590Z"
   },
   {
    "duration": 390,
    "start_time": "2022-02-28T18:24:49.508Z"
   },
   {
    "duration": 376,
    "start_time": "2022-02-28T18:24:49.902Z"
   },
   {
    "duration": 272,
    "start_time": "2022-02-28T18:24:50.280Z"
   },
   {
    "duration": 204,
    "start_time": "2022-02-28T18:24:50.554Z"
   },
   {
    "duration": 6,
    "start_time": "2022-02-28T18:24:50.761Z"
   },
   {
    "duration": 277,
    "start_time": "2022-02-28T18:24:50.769Z"
   },
   {
    "duration": 199,
    "start_time": "2022-02-28T18:24:51.052Z"
   },
   {
    "duration": 149,
    "start_time": "2022-02-28T18:24:51.254Z"
   },
   {
    "duration": 64,
    "start_time": "2022-02-28T18:24:51.405Z"
   },
   {
    "duration": 31,
    "start_time": "2022-02-28T18:24:51.471Z"
   },
   {
    "duration": 910,
    "start_time": "2022-02-28T18:50:24.805Z"
   },
   {
    "duration": 416,
    "start_time": "2022-02-28T18:50:25.717Z"
   },
   {
    "duration": 380,
    "start_time": "2022-02-28T18:50:26.137Z"
   },
   {
    "duration": 299,
    "start_time": "2022-02-28T18:50:26.521Z"
   },
   {
    "duration": 193,
    "start_time": "2022-02-28T18:50:26.822Z"
   },
   {
    "duration": 6,
    "start_time": "2022-02-28T18:50:27.018Z"
   },
   {
    "duration": 276,
    "start_time": "2022-02-28T18:50:27.026Z"
   },
   {
    "duration": 200,
    "start_time": "2022-02-28T18:50:27.305Z"
   },
   {
    "duration": 147,
    "start_time": "2022-02-28T18:50:27.509Z"
   },
   {
    "duration": 44,
    "start_time": "2022-02-28T18:50:27.658Z"
   },
   {
    "duration": 52,
    "start_time": "2022-02-28T18:50:27.704Z"
   },
   {
    "duration": 25,
    "start_time": "2022-02-28T18:50:27.759Z"
   },
   {
    "duration": 989,
    "start_time": "2022-02-28T19:10:05.410Z"
   },
   {
    "duration": 437,
    "start_time": "2022-02-28T19:10:06.401Z"
   },
   {
    "duration": 422,
    "start_time": "2022-02-28T19:10:06.854Z"
   },
   {
    "duration": 313,
    "start_time": "2022-02-28T19:10:07.278Z"
   },
   {
    "duration": 208,
    "start_time": "2022-02-28T19:10:07.593Z"
   },
   {
    "duration": 7,
    "start_time": "2022-02-28T19:10:07.803Z"
   },
   {
    "duration": 274,
    "start_time": "2022-02-28T19:10:07.812Z"
   },
   {
    "duration": 248,
    "start_time": "2022-02-28T19:10:08.090Z"
   },
   {
    "duration": 161,
    "start_time": "2022-02-28T19:10:08.341Z"
   },
   {
    "duration": 64,
    "start_time": "2022-02-28T19:10:08.504Z"
   },
   {
    "duration": 30,
    "start_time": "2022-02-28T19:10:08.570Z"
   },
   {
    "duration": 62,
    "start_time": "2022-02-28T19:10:08.602Z"
   },
   {
    "duration": 25,
    "start_time": "2022-02-28T19:10:08.668Z"
   },
   {
    "duration": 22,
    "start_time": "2022-02-28T19:16:17.238Z"
   },
   {
    "duration": 481,
    "start_time": "2022-02-28T19:17:49.624Z"
   },
   {
    "duration": 33,
    "start_time": "2022-02-28T19:18:17.114Z"
   },
   {
    "duration": 271,
    "start_time": "2022-02-28T19:19:31.766Z"
   },
   {
    "duration": 44,
    "start_time": "2022-02-28T19:19:58.120Z"
   },
   {
    "duration": 1017,
    "start_time": "2022-02-28T19:20:29.124Z"
   },
   {
    "duration": 453,
    "start_time": "2022-02-28T19:20:30.143Z"
   },
   {
    "duration": 466,
    "start_time": "2022-02-28T19:20:30.600Z"
   },
   {
    "duration": 332,
    "start_time": "2022-02-28T19:20:31.068Z"
   },
   {
    "duration": 202,
    "start_time": "2022-02-28T19:20:31.403Z"
   },
   {
    "duration": 6,
    "start_time": "2022-02-28T19:20:31.607Z"
   },
   {
    "duration": 257,
    "start_time": "2022-02-28T19:20:31.615Z"
   },
   {
    "duration": 192,
    "start_time": "2022-02-28T19:20:31.876Z"
   },
   {
    "duration": 143,
    "start_time": "2022-02-28T19:20:32.071Z"
   },
   {
    "duration": 63,
    "start_time": "2022-02-28T19:20:32.216Z"
   },
   {
    "duration": 28,
    "start_time": "2022-02-28T19:20:32.282Z"
   },
   {
    "duration": 46,
    "start_time": "2022-02-28T19:20:32.312Z"
   },
   {
    "duration": 20,
    "start_time": "2022-02-28T19:20:32.360Z"
   },
   {
    "duration": 21,
    "start_time": "2022-02-28T19:20:32.383Z"
   },
   {
    "duration": 65,
    "start_time": "2022-02-28T19:20:32.407Z"
   },
   {
    "duration": 365,
    "start_time": "2022-02-28T19:23:04.362Z"
   },
   {
    "duration": 1016,
    "start_time": "2022-02-28T19:23:14.814Z"
   },
   {
    "duration": 407,
    "start_time": "2022-02-28T19:23:15.832Z"
   },
   {
    "duration": 417,
    "start_time": "2022-02-28T19:23:16.242Z"
   },
   {
    "duration": 308,
    "start_time": "2022-02-28T19:23:16.661Z"
   },
   {
    "duration": 221,
    "start_time": "2022-02-28T19:23:16.971Z"
   },
   {
    "duration": 7,
    "start_time": "2022-02-28T19:23:17.195Z"
   },
   {
    "duration": 306,
    "start_time": "2022-02-28T19:23:17.205Z"
   },
   {
    "duration": 206,
    "start_time": "2022-02-28T19:23:17.514Z"
   },
   {
    "duration": 154,
    "start_time": "2022-02-28T19:23:17.724Z"
   },
   {
    "duration": 46,
    "start_time": "2022-02-28T19:23:17.880Z"
   },
   {
    "duration": 51,
    "start_time": "2022-02-28T19:23:17.928Z"
   },
   {
    "duration": 26,
    "start_time": "2022-02-28T19:23:17.981Z"
   },
   {
    "duration": 54,
    "start_time": "2022-02-28T19:23:18.009Z"
   },
   {
    "duration": 25,
    "start_time": "2022-02-28T19:23:18.066Z"
   },
   {
    "duration": 400,
    "start_time": "2022-02-28T19:23:18.093Z"
   },
   {
    "duration": 23,
    "start_time": "2022-02-28T19:33:55.151Z"
   },
   {
    "duration": 32,
    "start_time": "2022-02-28T19:34:34.313Z"
   },
   {
    "duration": 848,
    "start_time": "2022-02-28T19:34:44.102Z"
   },
   {
    "duration": 406,
    "start_time": "2022-02-28T19:34:44.953Z"
   },
   {
    "duration": 398,
    "start_time": "2022-02-28T19:34:45.365Z"
   },
   {
    "duration": 306,
    "start_time": "2022-02-28T19:34:45.765Z"
   },
   {
    "duration": 234,
    "start_time": "2022-02-28T19:34:46.073Z"
   },
   {
    "duration": 7,
    "start_time": "2022-02-28T19:34:46.309Z"
   },
   {
    "duration": 267,
    "start_time": "2022-02-28T19:34:46.318Z"
   },
   {
    "duration": 201,
    "start_time": "2022-02-28T19:34:46.590Z"
   },
   {
    "duration": 162,
    "start_time": "2022-02-28T19:34:46.794Z"
   },
   {
    "duration": 44,
    "start_time": "2022-02-28T19:34:46.959Z"
   },
   {
    "duration": 53,
    "start_time": "2022-02-28T19:34:47.005Z"
   },
   {
    "duration": 26,
    "start_time": "2022-02-28T19:34:47.060Z"
   },
   {
    "duration": 22,
    "start_time": "2022-02-28T19:34:47.088Z"
   },
   {
    "duration": 51,
    "start_time": "2022-02-28T19:34:47.112Z"
   },
   {
    "duration": 32,
    "start_time": "2022-02-28T19:34:47.165Z"
   },
   {
    "duration": 986,
    "start_time": "2022-02-28T19:35:07.668Z"
   },
   {
    "duration": 381,
    "start_time": "2022-02-28T19:35:08.657Z"
   },
   {
    "duration": 465,
    "start_time": "2022-02-28T19:35:09.040Z"
   },
   {
    "duration": 321,
    "start_time": "2022-02-28T19:35:09.507Z"
   },
   {
    "duration": 205,
    "start_time": "2022-02-28T19:35:09.831Z"
   },
   {
    "duration": 6,
    "start_time": "2022-02-28T19:35:10.038Z"
   },
   {
    "duration": 275,
    "start_time": "2022-02-28T19:35:10.046Z"
   },
   {
    "duration": 196,
    "start_time": "2022-02-28T19:35:10.323Z"
   },
   {
    "duration": 149,
    "start_time": "2022-02-28T19:35:10.523Z"
   },
   {
    "duration": 43,
    "start_time": "2022-02-28T19:35:10.675Z"
   },
   {
    "duration": 53,
    "start_time": "2022-02-28T19:35:10.721Z"
   },
   {
    "duration": 28,
    "start_time": "2022-02-28T19:35:10.776Z"
   },
   {
    "duration": 53,
    "start_time": "2022-02-28T19:35:10.807Z"
   },
   {
    "duration": 25,
    "start_time": "2022-02-28T19:35:10.863Z"
   },
   {
    "duration": 62,
    "start_time": "2022-02-28T19:35:10.891Z"
   },
   {
    "duration": 28,
    "start_time": "2022-02-28T19:38:34.255Z"
   },
   {
    "duration": 928,
    "start_time": "2022-02-28T19:40:12.711Z"
   },
   {
    "duration": 379,
    "start_time": "2022-02-28T19:40:13.642Z"
   },
   {
    "duration": 391,
    "start_time": "2022-02-28T19:40:14.025Z"
   },
   {
    "duration": 291,
    "start_time": "2022-02-28T19:40:14.419Z"
   },
   {
    "duration": 195,
    "start_time": "2022-02-28T19:40:14.712Z"
   },
   {
    "duration": 6,
    "start_time": "2022-02-28T19:40:14.910Z"
   },
   {
    "duration": 289,
    "start_time": "2022-02-28T19:40:14.918Z"
   },
   {
    "duration": 212,
    "start_time": "2022-02-28T19:40:15.209Z"
   },
   {
    "duration": 156,
    "start_time": "2022-02-28T19:40:15.425Z"
   },
   {
    "duration": 66,
    "start_time": "2022-02-28T19:40:15.585Z"
   },
   {
    "duration": 29,
    "start_time": "2022-02-28T19:40:15.654Z"
   },
   {
    "duration": 25,
    "start_time": "2022-02-28T19:40:15.685Z"
   },
   {
    "duration": 50,
    "start_time": "2022-02-28T19:40:15.713Z"
   },
   {
    "duration": 24,
    "start_time": "2022-02-28T19:40:15.766Z"
   },
   {
    "duration": 26,
    "start_time": "2022-02-28T19:40:15.792Z"
   },
   {
    "duration": 939,
    "start_time": "2022-02-28T19:49:54.209Z"
   },
   {
    "duration": 390,
    "start_time": "2022-02-28T19:49:55.151Z"
   },
   {
    "duration": 404,
    "start_time": "2022-02-28T19:49:55.552Z"
   },
   {
    "duration": 283,
    "start_time": "2022-02-28T19:49:55.959Z"
   },
   {
    "duration": 253,
    "start_time": "2022-02-28T19:49:56.245Z"
   },
   {
    "duration": 8,
    "start_time": "2022-02-28T19:49:56.501Z"
   },
   {
    "duration": 285,
    "start_time": "2022-02-28T19:49:56.514Z"
   },
   {
    "duration": 208,
    "start_time": "2022-02-28T19:49:56.803Z"
   },
   {
    "duration": 155,
    "start_time": "2022-02-28T19:49:57.013Z"
   },
   {
    "duration": 45,
    "start_time": "2022-02-28T19:49:57.170Z"
   },
   {
    "duration": 54,
    "start_time": "2022-02-28T19:49:57.218Z"
   },
   {
    "duration": 25,
    "start_time": "2022-02-28T19:49:57.274Z"
   },
   {
    "duration": 50,
    "start_time": "2022-02-28T19:49:57.302Z"
   },
   {
    "duration": 23,
    "start_time": "2022-02-28T19:49:57.355Z"
   },
   {
    "duration": 361,
    "start_time": "2022-02-28T19:49:57.380Z"
   },
   {
    "duration": 283,
    "start_time": "2022-02-28T19:53:41.720Z"
   },
   {
    "duration": 42,
    "start_time": "2022-02-28T19:54:03.004Z"
   },
   {
    "duration": 886,
    "start_time": "2022-02-28T19:54:11.008Z"
   },
   {
    "duration": 396,
    "start_time": "2022-02-28T19:54:11.897Z"
   },
   {
    "duration": 469,
    "start_time": "2022-02-28T19:54:12.299Z"
   },
   {
    "duration": 303,
    "start_time": "2022-02-28T19:54:12.770Z"
   },
   {
    "duration": 233,
    "start_time": "2022-02-28T19:54:13.075Z"
   },
   {
    "duration": 6,
    "start_time": "2022-02-28T19:54:13.310Z"
   },
   {
    "duration": 263,
    "start_time": "2022-02-28T19:54:13.318Z"
   },
   {
    "duration": 192,
    "start_time": "2022-02-28T19:54:13.585Z"
   },
   {
    "duration": 142,
    "start_time": "2022-02-28T19:54:13.780Z"
   },
   {
    "duration": 59,
    "start_time": "2022-02-28T19:54:13.925Z"
   },
   {
    "duration": 28,
    "start_time": "2022-02-28T19:54:13.986Z"
   },
   {
    "duration": 48,
    "start_time": "2022-02-28T19:54:14.017Z"
   },
   {
    "duration": 20,
    "start_time": "2022-02-28T19:54:14.068Z"
   },
   {
    "duration": 22,
    "start_time": "2022-02-28T19:54:14.090Z"
   },
   {
    "duration": 71,
    "start_time": "2022-02-28T19:54:14.114Z"
   },
   {
    "duration": 1066,
    "start_time": "2022-02-28T20:04:37.241Z"
   },
   {
    "duration": 372,
    "start_time": "2022-02-28T20:04:38.309Z"
   },
   {
    "duration": 380,
    "start_time": "2022-02-28T20:04:38.685Z"
   },
   {
    "duration": 286,
    "start_time": "2022-02-28T20:04:39.068Z"
   },
   {
    "duration": 213,
    "start_time": "2022-02-28T20:04:39.356Z"
   },
   {
    "duration": 6,
    "start_time": "2022-02-28T20:04:39.571Z"
   },
   {
    "duration": 292,
    "start_time": "2022-02-28T20:04:39.579Z"
   },
   {
    "duration": 198,
    "start_time": "2022-02-28T20:04:39.873Z"
   },
   {
    "duration": 147,
    "start_time": "2022-02-28T20:04:40.074Z"
   },
   {
    "duration": 60,
    "start_time": "2022-02-28T20:04:40.224Z"
   },
   {
    "duration": 28,
    "start_time": "2022-02-28T20:04:40.286Z"
   },
   {
    "duration": 46,
    "start_time": "2022-02-28T20:04:40.316Z"
   },
   {
    "duration": 22,
    "start_time": "2022-02-28T20:04:40.364Z"
   },
   {
    "duration": 21,
    "start_time": "2022-02-28T20:04:40.388Z"
   },
   {
    "duration": 70,
    "start_time": "2022-02-28T20:04:40.411Z"
   },
   {
    "duration": 5,
    "start_time": "2022-02-28T20:04:40.484Z"
   },
   {
    "duration": 8243,
    "start_time": "2022-02-28T20:09:25.483Z"
   },
   {
    "duration": 5,
    "start_time": "2022-02-28T20:11:04.290Z"
   },
   {
    "duration": 335,
    "start_time": "2022-02-28T20:11:06.180Z"
   },
   {
    "duration": 347,
    "start_time": "2022-02-28T20:12:12.659Z"
   },
   {
    "duration": 254,
    "start_time": "2022-03-01T17:21:03.589Z"
   },
   {
    "duration": 793,
    "start_time": "2022-03-01T17:21:10.126Z"
   },
   {
    "duration": 367,
    "start_time": "2022-03-01T17:21:10.921Z"
   },
   {
    "duration": 309,
    "start_time": "2022-03-01T17:21:11.290Z"
   },
   {
    "duration": 240,
    "start_time": "2022-03-01T17:21:11.601Z"
   },
   {
    "duration": 208,
    "start_time": "2022-03-01T17:21:11.843Z"
   },
   {
    "duration": 4,
    "start_time": "2022-03-01T17:21:12.053Z"
   },
   {
    "duration": 186,
    "start_time": "2022-03-01T17:21:12.059Z"
   },
   {
    "duration": 154,
    "start_time": "2022-03-01T17:21:12.247Z"
   },
   {
    "duration": 118,
    "start_time": "2022-03-01T17:21:12.402Z"
   },
   {
    "duration": 33,
    "start_time": "2022-03-01T17:21:12.521Z"
   },
   {
    "duration": 33,
    "start_time": "2022-03-01T17:21:12.556Z"
   },
   {
    "duration": 17,
    "start_time": "2022-03-01T17:21:12.591Z"
   },
   {
    "duration": 13,
    "start_time": "2022-03-01T17:21:12.610Z"
   },
   {
    "duration": 15,
    "start_time": "2022-03-01T17:21:12.625Z"
   },
   {
    "duration": 55,
    "start_time": "2022-03-01T17:21:12.641Z"
   },
   {
    "duration": 4,
    "start_time": "2022-03-01T17:21:12.698Z"
   },
   {
    "duration": 232,
    "start_time": "2022-03-01T17:21:12.703Z"
   },
   {
    "duration": 419,
    "start_time": "2022-03-01T17:21:12.937Z"
   },
   {
    "duration": 18,
    "start_time": "2022-03-01T17:22:07.765Z"
   },
   {
    "duration": 276,
    "start_time": "2022-03-01T18:23:40.677Z"
   },
   {
    "duration": 810,
    "start_time": "2022-03-01T18:23:46.974Z"
   },
   {
    "duration": 344,
    "start_time": "2022-03-01T18:23:47.786Z"
   },
   {
    "duration": 445,
    "start_time": "2022-03-01T18:23:48.132Z"
   },
   {
    "duration": 234,
    "start_time": "2022-03-01T18:23:48.579Z"
   },
   {
    "duration": 181,
    "start_time": "2022-03-01T18:23:48.815Z"
   },
   {
    "duration": 5,
    "start_time": "2022-03-01T18:23:48.998Z"
   },
   {
    "duration": 199,
    "start_time": "2022-03-01T18:23:49.004Z"
   },
   {
    "duration": 149,
    "start_time": "2022-03-01T18:23:49.205Z"
   },
   {
    "duration": 107,
    "start_time": "2022-03-01T18:23:49.356Z"
   },
   {
    "duration": 32,
    "start_time": "2022-03-01T18:23:49.477Z"
   },
   {
    "duration": 22,
    "start_time": "2022-03-01T18:23:49.511Z"
   },
   {
    "duration": 43,
    "start_time": "2022-03-01T18:23:49.534Z"
   },
   {
    "duration": 15,
    "start_time": "2022-03-01T18:23:49.579Z"
   },
   {
    "duration": 15,
    "start_time": "2022-03-01T18:23:49.595Z"
   },
   {
    "duration": 25,
    "start_time": "2022-03-01T18:23:49.612Z"
   },
   {
    "duration": 4,
    "start_time": "2022-03-01T18:23:49.639Z"
   },
   {
    "duration": 219,
    "start_time": "2022-03-01T18:23:49.677Z"
   },
   {
    "duration": 403,
    "start_time": "2022-03-01T18:23:49.898Z"
   },
   {
    "duration": 286,
    "start_time": "2022-03-01T18:23:50.303Z"
   },
   {
    "duration": 33,
    "start_time": "2022-03-01T18:23:58.107Z"
   },
   {
    "duration": 9,
    "start_time": "2022-03-01T18:31:33.628Z"
   },
   {
    "duration": 453,
    "start_time": "2022-03-01T18:31:59.618Z"
   },
   {
    "duration": 5,
    "start_time": "2022-03-01T18:34:38.209Z"
   },
   {
    "duration": 204,
    "start_time": "2022-03-01T18:36:43.369Z"
   },
   {
    "duration": 14,
    "start_time": "2022-03-01T18:36:51.033Z"
   },
   {
    "duration": 9,
    "start_time": "2022-03-01T18:38:38.228Z"
   },
   {
    "duration": 209,
    "start_time": "2022-03-01T18:44:17.976Z"
   },
   {
    "duration": 120,
    "start_time": "2022-03-01T18:44:33.455Z"
   },
   {
    "duration": 16,
    "start_time": "2022-03-01T19:14:02.627Z"
   },
   {
    "duration": 214,
    "start_time": "2022-03-01T19:29:03.553Z"
   },
   {
    "duration": 192,
    "start_time": "2022-03-01T19:31:12.891Z"
   },
   {
    "duration": 59,
    "start_time": "2022-03-01T19:44:26.291Z"
   },
   {
    "duration": 18,
    "start_time": "2022-03-01T19:45:21.608Z"
   },
   {
    "duration": 51,
    "start_time": "2022-03-01T19:53:00.234Z"
   },
   {
    "duration": 221,
    "start_time": "2022-03-01T19:54:44.066Z"
   },
   {
    "duration": 228,
    "start_time": "2022-03-01T19:54:59.015Z"
   },
   {
    "duration": 32,
    "start_time": "2022-03-01T20:05:23.931Z"
   },
   {
    "duration": 35,
    "start_time": "2022-03-01T20:11:30.349Z"
   },
   {
    "duration": 695,
    "start_time": "2022-03-01T20:21:11.575Z"
   },
   {
    "duration": 1343,
    "start_time": "2022-03-01T20:21:54.368Z"
   },
   {
    "duration": 306,
    "start_time": "2022-03-01T20:21:55.714Z"
   },
   {
    "duration": 303,
    "start_time": "2022-03-01T20:21:56.024Z"
   },
   {
    "duration": 237,
    "start_time": "2022-03-01T20:21:56.329Z"
   },
   {
    "duration": 221,
    "start_time": "2022-03-01T20:21:56.568Z"
   },
   {
    "duration": 6,
    "start_time": "2022-03-01T20:21:56.791Z"
   },
   {
    "duration": 210,
    "start_time": "2022-03-01T20:21:56.799Z"
   },
   {
    "duration": 155,
    "start_time": "2022-03-01T20:21:57.013Z"
   },
   {
    "duration": 122,
    "start_time": "2022-03-01T20:21:57.171Z"
   },
   {
    "duration": 46,
    "start_time": "2022-03-01T20:21:57.296Z"
   },
   {
    "duration": 47,
    "start_time": "2022-03-01T20:21:57.344Z"
   },
   {
    "duration": 22,
    "start_time": "2022-03-01T20:21:57.393Z"
   },
   {
    "duration": 16,
    "start_time": "2022-03-01T20:21:57.417Z"
   },
   {
    "duration": 48,
    "start_time": "2022-03-01T20:21:57.435Z"
   },
   {
    "duration": 27,
    "start_time": "2022-03-01T20:21:57.485Z"
   },
   {
    "duration": 5,
    "start_time": "2022-03-01T20:21:57.514Z"
   },
   {
    "duration": 261,
    "start_time": "2022-03-01T20:21:57.521Z"
   },
   {
    "duration": 435,
    "start_time": "2022-03-01T20:21:57.783Z"
   },
   {
    "duration": 36,
    "start_time": "2022-03-01T20:21:58.220Z"
   },
   {
    "duration": 8,
    "start_time": "2022-03-01T20:21:58.278Z"
   },
   {
    "duration": 419,
    "start_time": "2022-03-01T20:21:58.287Z"
   },
   {
    "duration": 4,
    "start_time": "2022-03-01T20:21:58.708Z"
   },
   {
    "duration": 23,
    "start_time": "2022-03-01T20:21:58.713Z"
   },
   {
    "duration": 20,
    "start_time": "2022-03-01T20:21:58.738Z"
   },
   {
    "duration": 88,
    "start_time": "2022-03-01T20:21:58.760Z"
   },
   {
    "duration": 29,
    "start_time": "2022-03-01T20:21:58.852Z"
   },
   {
    "duration": 208,
    "start_time": "2022-03-01T20:21:58.884Z"
   },
   {
    "duration": 54,
    "start_time": "2022-03-01T20:21:59.094Z"
   },
   {
    "duration": 275,
    "start_time": "2022-03-01T20:21:59.150Z"
   },
   {
    "duration": 36,
    "start_time": "2022-03-01T20:21:59.426Z"
   },
   {
    "duration": 1483,
    "start_time": "2022-03-01T20:21:59.477Z"
   },
   {
    "duration": 1353,
    "start_time": "2022-03-01T20:22:28.771Z"
   },
   {
    "duration": 1417,
    "start_time": "2022-03-01T20:22:44.367Z"
   },
   {
    "duration": 21,
    "start_time": "2022-03-01T20:48:48.610Z"
   },
   {
    "duration": 298,
    "start_time": "2022-03-01T20:51:21.605Z"
   },
   {
    "duration": 5,
    "start_time": "2022-03-01T20:52:32.164Z"
   },
   {
    "duration": 211,
    "start_time": "2022-03-01T20:56:24.941Z"
   },
   {
    "duration": 6,
    "start_time": "2022-03-01T20:56:40.144Z"
   },
   {
    "duration": 5250,
    "start_time": "2022-03-01T21:08:01.370Z"
   },
   {
    "duration": 218,
    "start_time": "2022-03-01T21:08:13.817Z"
   },
   {
    "duration": 11,
    "start_time": "2022-03-01T21:08:22.765Z"
   },
   {
    "duration": 15,
    "start_time": "2022-03-01T21:09:06.788Z"
   },
   {
    "duration": 207,
    "start_time": "2022-03-01T21:09:36.721Z"
   },
   {
    "duration": 1432,
    "start_time": "2022-03-01T21:10:00.881Z"
   },
   {
    "duration": 310,
    "start_time": "2022-03-01T21:10:02.315Z"
   },
   {
    "duration": 316,
    "start_time": "2022-03-01T21:10:02.630Z"
   },
   {
    "duration": 240,
    "start_time": "2022-03-01T21:10:02.947Z"
   },
   {
    "duration": 177,
    "start_time": "2022-03-01T21:10:03.189Z"
   },
   {
    "duration": 5,
    "start_time": "2022-03-01T21:10:03.367Z"
   },
   {
    "duration": 199,
    "start_time": "2022-03-01T21:10:03.373Z"
   },
   {
    "duration": 151,
    "start_time": "2022-03-01T21:10:03.575Z"
   },
   {
    "duration": 111,
    "start_time": "2022-03-01T21:10:03.728Z"
   },
   {
    "duration": 46,
    "start_time": "2022-03-01T21:10:03.841Z"
   },
   {
    "duration": 24,
    "start_time": "2022-03-01T21:10:03.889Z"
   },
   {
    "duration": 19,
    "start_time": "2022-03-01T21:10:03.915Z"
   },
   {
    "duration": 44,
    "start_time": "2022-03-01T21:10:03.936Z"
   },
   {
    "duration": 15,
    "start_time": "2022-03-01T21:10:03.982Z"
   },
   {
    "duration": 28,
    "start_time": "2022-03-01T21:10:03.999Z"
   },
   {
    "duration": 3,
    "start_time": "2022-03-01T21:10:04.029Z"
   },
   {
    "duration": 238,
    "start_time": "2022-03-01T21:10:04.034Z"
   },
   {
    "duration": 20,
    "start_time": "2022-03-01T21:10:04.273Z"
   },
   {
    "duration": 411,
    "start_time": "2022-03-01T21:10:04.294Z"
   },
   {
    "duration": 38,
    "start_time": "2022-03-01T21:10:04.707Z"
   },
   {
    "duration": 31,
    "start_time": "2022-03-01T21:10:04.746Z"
   },
   {
    "duration": 431,
    "start_time": "2022-03-01T21:10:04.779Z"
   },
   {
    "duration": 4,
    "start_time": "2022-03-01T21:10:05.212Z"
   },
   {
    "duration": 18,
    "start_time": "2022-03-01T21:10:05.218Z"
   },
   {
    "duration": 9,
    "start_time": "2022-03-01T21:10:05.238Z"
   },
   {
    "duration": 110,
    "start_time": "2022-03-01T21:10:05.250Z"
   },
   {
    "duration": 32,
    "start_time": "2022-03-01T21:10:05.362Z"
   },
   {
    "duration": 221,
    "start_time": "2022-03-01T21:10:05.396Z"
   },
   {
    "duration": 65,
    "start_time": "2022-03-01T21:10:05.619Z"
   },
   {
    "duration": 278,
    "start_time": "2022-03-01T21:10:05.686Z"
   },
   {
    "duration": 37,
    "start_time": "2022-03-01T21:10:05.966Z"
   },
   {
    "duration": 1497,
    "start_time": "2022-03-01T21:10:06.005Z"
   },
   {
    "duration": 16,
    "start_time": "2022-03-01T21:10:07.504Z"
   },
   {
    "duration": 14,
    "start_time": "2022-03-01T21:10:07.522Z"
   },
   {
    "duration": 22,
    "start_time": "2022-03-01T21:10:07.537Z"
   },
   {
    "duration": 323,
    "start_time": "2022-03-01T21:10:07.561Z"
   },
   {
    "duration": 5,
    "start_time": "2022-03-01T21:10:18.800Z"
   },
   {
    "duration": 6,
    "start_time": "2022-03-01T21:11:24.807Z"
   },
   {
    "duration": 1336,
    "start_time": "2022-03-01T21:18:09.967Z"
   },
   {
    "duration": 314,
    "start_time": "2022-03-01T21:18:11.305Z"
   },
   {
    "duration": 317,
    "start_time": "2022-03-01T21:18:11.621Z"
   },
   {
    "duration": 230,
    "start_time": "2022-03-01T21:18:11.940Z"
   },
   {
    "duration": 178,
    "start_time": "2022-03-01T21:18:12.171Z"
   },
   {
    "duration": 4,
    "start_time": "2022-03-01T21:18:12.351Z"
   },
   {
    "duration": 208,
    "start_time": "2022-03-01T21:18:12.357Z"
   },
   {
    "duration": 152,
    "start_time": "2022-03-01T21:18:12.566Z"
   },
   {
    "duration": 112,
    "start_time": "2022-03-01T21:18:12.721Z"
   },
   {
    "duration": 48,
    "start_time": "2022-03-01T21:18:12.836Z"
   },
   {
    "duration": 23,
    "start_time": "2022-03-01T21:18:12.886Z"
   },
   {
    "duration": 20,
    "start_time": "2022-03-01T21:18:12.910Z"
   },
   {
    "duration": 15,
    "start_time": "2022-03-01T21:18:12.931Z"
   },
   {
    "duration": 43,
    "start_time": "2022-03-01T21:18:12.947Z"
   },
   {
    "duration": 25,
    "start_time": "2022-03-01T21:18:12.992Z"
   },
   {
    "duration": 4,
    "start_time": "2022-03-01T21:18:13.018Z"
   },
   {
    "duration": 240,
    "start_time": "2022-03-01T21:18:13.024Z"
   },
   {
    "duration": 21,
    "start_time": "2022-03-01T21:18:13.266Z"
   },
   {
    "duration": 414,
    "start_time": "2022-03-01T21:18:13.289Z"
   },
   {
    "duration": 36,
    "start_time": "2022-03-01T21:18:13.705Z"
   },
   {
    "duration": 36,
    "start_time": "2022-03-01T21:18:13.743Z"
   },
   {
    "duration": 427,
    "start_time": "2022-03-01T21:18:13.781Z"
   },
   {
    "duration": 4,
    "start_time": "2022-03-01T21:18:14.210Z"
   },
   {
    "duration": 16,
    "start_time": "2022-03-01T21:18:14.216Z"
   },
   {
    "duration": 11,
    "start_time": "2022-03-01T21:18:14.234Z"
   },
   {
    "duration": 106,
    "start_time": "2022-03-01T21:18:14.247Z"
   },
   {
    "duration": 32,
    "start_time": "2022-03-01T21:18:14.357Z"
   },
   {
    "duration": 202,
    "start_time": "2022-03-01T21:18:14.391Z"
   },
   {
    "duration": 53,
    "start_time": "2022-03-01T21:18:14.594Z"
   },
   {
    "duration": 258,
    "start_time": "2022-03-01T21:18:14.649Z"
   },
   {
    "duration": 34,
    "start_time": "2022-03-01T21:18:14.908Z"
   },
   {
    "duration": 1502,
    "start_time": "2022-03-01T21:18:14.943Z"
   },
   {
    "duration": 14,
    "start_time": "2022-03-01T21:18:16.447Z"
   },
   {
    "duration": 16,
    "start_time": "2022-03-01T21:18:16.463Z"
   },
   {
    "duration": 15,
    "start_time": "2022-03-01T21:18:16.481Z"
   },
   {
    "duration": 5,
    "start_time": "2022-03-01T21:18:16.497Z"
   },
   {
    "duration": 13,
    "start_time": "2022-03-01T21:18:16.503Z"
   },
   {
    "duration": 1353,
    "start_time": "2022-03-10T15:16:02.986Z"
   },
   {
    "duration": 511,
    "start_time": "2022-03-10T15:16:04.341Z"
   },
   {
    "duration": 409,
    "start_time": "2022-03-10T15:16:04.854Z"
   },
   {
    "duration": 373,
    "start_time": "2022-03-10T15:16:05.264Z"
   },
   {
    "duration": 155,
    "start_time": "2022-03-10T15:16:05.639Z"
   },
   {
    "duration": 7,
    "start_time": "2022-03-10T15:16:05.796Z"
   },
   {
    "duration": 192,
    "start_time": "2022-03-10T15:16:05.805Z"
   },
   {
    "duration": 190,
    "start_time": "2022-03-10T15:16:06.892Z"
   },
   {
    "duration": 385,
    "start_time": "2022-03-10T15:16:13.280Z"
   },
   {
    "duration": 59,
    "start_time": "2022-03-10T15:16:25.771Z"
   },
   {
    "duration": 1308,
    "start_time": "2022-03-10T17:31:35.968Z"
   },
   {
    "duration": 404,
    "start_time": "2022-03-10T17:31:37.278Z"
   },
   {
    "duration": 321,
    "start_time": "2022-03-10T17:31:37.684Z"
   },
   {
    "duration": 181,
    "start_time": "2022-03-10T17:31:38.007Z"
   },
   {
    "duration": 248,
    "start_time": "2022-03-10T17:31:38.189Z"
   },
   {
    "duration": 197,
    "start_time": "2022-03-10T17:31:38.439Z"
   },
   {
    "duration": 4,
    "start_time": "2022-03-10T17:31:38.638Z"
   },
   {
    "duration": 158,
    "start_time": "2022-03-10T17:31:38.644Z"
   },
   {
    "duration": 124,
    "start_time": "2022-03-10T17:31:38.804Z"
   },
   {
    "duration": 87,
    "start_time": "2022-03-10T17:31:38.929Z"
   },
   {
    "duration": 39,
    "start_time": "2022-03-10T17:31:39.018Z"
   },
   {
    "duration": 42,
    "start_time": "2022-03-10T17:31:39.059Z"
   },
   {
    "duration": 19,
    "start_time": "2022-03-10T17:31:39.103Z"
   },
   {
    "duration": 17,
    "start_time": "2022-03-10T17:31:39.124Z"
   },
   {
    "duration": 34,
    "start_time": "2022-03-10T17:31:39.143Z"
   },
   {
    "duration": 39,
    "start_time": "2022-03-10T17:31:39.179Z"
   },
   {
    "duration": 11,
    "start_time": "2022-03-10T17:31:39.219Z"
   },
   {
    "duration": 205,
    "start_time": "2022-03-10T17:31:39.231Z"
   },
   {
    "duration": 14,
    "start_time": "2022-03-10T17:31:39.438Z"
   },
   {
    "duration": 342,
    "start_time": "2022-03-10T17:31:39.453Z"
   },
   {
    "duration": 30,
    "start_time": "2022-03-10T17:31:39.797Z"
   },
   {
    "duration": 7,
    "start_time": "2022-03-10T17:31:39.829Z"
   },
   {
    "duration": 347,
    "start_time": "2022-03-10T17:31:39.840Z"
   },
   {
    "duration": 4,
    "start_time": "2022-03-10T17:31:40.189Z"
   },
   {
    "duration": 22,
    "start_time": "2022-03-10T17:31:40.201Z"
   },
   {
    "duration": 6,
    "start_time": "2022-03-10T17:31:40.225Z"
   },
   {
    "duration": 81,
    "start_time": "2022-03-10T17:31:40.233Z"
   },
   {
    "duration": 13,
    "start_time": "2022-03-10T17:31:40.316Z"
   },
   {
    "duration": 163,
    "start_time": "2022-03-10T17:31:40.330Z"
   },
   {
    "duration": 46,
    "start_time": "2022-03-10T17:31:40.494Z"
   },
   {
    "duration": 209,
    "start_time": "2022-03-10T17:31:40.541Z"
   },
   {
    "duration": 30,
    "start_time": "2022-03-10T17:31:40.751Z"
   },
   {
    "duration": 1178,
    "start_time": "2022-03-10T17:31:40.783Z"
   },
   {
    "duration": 12,
    "start_time": "2022-03-10T17:31:41.963Z"
   },
   {
    "duration": 4,
    "start_time": "2022-03-10T17:31:41.977Z"
   },
   {
    "duration": 10,
    "start_time": "2022-03-10T17:31:42.001Z"
   },
   {
    "duration": 4,
    "start_time": "2022-03-10T17:31:42.012Z"
   },
   {
    "duration": 7,
    "start_time": "2022-03-10T17:31:42.018Z"
   },
   {
    "duration": 14,
    "start_time": "2022-03-10T17:52:43.980Z"
   },
   {
    "duration": 12,
    "start_time": "2022-03-10T17:52:55.828Z"
   },
   {
    "duration": 12,
    "start_time": "2022-03-10T17:53:40.182Z"
   },
   {
    "duration": 389,
    "start_time": "2022-03-10T17:54:46.729Z"
   },
   {
    "duration": 6293,
    "start_time": "2022-03-10T17:55:19.071Z"
   },
   {
    "duration": 259,
    "start_time": "2022-03-10T17:55:45.933Z"
   },
   {
    "duration": 19,
    "start_time": "2022-03-10T17:58:16.282Z"
   },
   {
    "duration": 17,
    "start_time": "2022-03-10T17:58:54.172Z"
   },
   {
    "duration": 9,
    "start_time": "2022-03-10T18:07:51.015Z"
   },
   {
    "duration": 13,
    "start_time": "2022-03-10T18:09:33.807Z"
   },
   {
    "duration": 15,
    "start_time": "2022-03-10T18:09:40.054Z"
   },
   {
    "duration": 15,
    "start_time": "2022-03-10T18:09:59.954Z"
   },
   {
    "duration": 17,
    "start_time": "2022-03-10T18:10:41.189Z"
   },
   {
    "duration": 18,
    "start_time": "2022-03-10T18:11:30.299Z"
   },
   {
    "duration": 163,
    "start_time": "2022-03-10T18:13:25.304Z"
   },
   {
    "duration": 17,
    "start_time": "2022-03-10T18:13:59.791Z"
   },
   {
    "duration": 164,
    "start_time": "2022-03-10T18:14:22.497Z"
   },
   {
    "duration": 150,
    "start_time": "2022-03-10T18:15:14.695Z"
   },
   {
    "duration": 83,
    "start_time": "2022-03-10T18:17:54.889Z"
   },
   {
    "duration": 1439,
    "start_time": "2022-03-10T18:18:48.462Z"
   },
   {
    "duration": 328,
    "start_time": "2022-03-10T18:18:49.903Z"
   },
   {
    "duration": 345,
    "start_time": "2022-03-10T18:18:50.236Z"
   },
   {
    "duration": 146,
    "start_time": "2022-03-10T18:18:50.583Z"
   },
   {
    "duration": 274,
    "start_time": "2022-03-10T18:18:50.730Z"
   },
   {
    "duration": 210,
    "start_time": "2022-03-10T18:18:51.006Z"
   },
   {
    "duration": 5,
    "start_time": "2022-03-10T18:18:51.220Z"
   },
   {
    "duration": 239,
    "start_time": "2022-03-10T18:18:51.228Z"
   },
   {
    "duration": 216,
    "start_time": "2022-03-10T18:18:51.469Z"
   },
   {
    "duration": 118,
    "start_time": "2022-03-10T18:18:51.686Z"
   },
   {
    "duration": 55,
    "start_time": "2022-03-10T18:18:51.806Z"
   },
   {
    "duration": 46,
    "start_time": "2022-03-10T18:18:51.863Z"
   },
   {
    "duration": 28,
    "start_time": "2022-03-10T18:18:51.911Z"
   },
   {
    "duration": 18,
    "start_time": "2022-03-10T18:18:51.940Z"
   },
   {
    "duration": 18,
    "start_time": "2022-03-10T18:18:51.960Z"
   },
   {
    "duration": 22,
    "start_time": "2022-03-10T18:18:52.001Z"
   },
   {
    "duration": 11,
    "start_time": "2022-03-10T18:18:52.024Z"
   },
   {
    "duration": 212,
    "start_time": "2022-03-10T18:18:52.037Z"
   },
   {
    "duration": 17,
    "start_time": "2022-03-10T18:18:52.250Z"
   },
   {
    "duration": 14,
    "start_time": "2022-03-10T18:18:52.268Z"
   },
   {
    "duration": 156,
    "start_time": "2022-03-10T18:18:52.301Z"
   },
   {
    "duration": 164,
    "start_time": "2022-03-10T18:18:52.461Z"
   },
   {
    "duration": 16,
    "start_time": "2022-03-10T18:18:52.627Z"
   },
   {
    "duration": 358,
    "start_time": "2022-03-10T18:18:52.645Z"
   },
   {
    "duration": 41,
    "start_time": "2022-03-10T18:18:53.005Z"
   },
   {
    "duration": 9,
    "start_time": "2022-03-10T18:18:53.048Z"
   },
   {
    "duration": 595,
    "start_time": "2022-03-10T18:18:53.059Z"
   },
   {
    "duration": 5,
    "start_time": "2022-03-10T18:18:53.656Z"
   },
   {
    "duration": 13,
    "start_time": "2022-03-10T18:18:53.662Z"
   },
   {
    "duration": 31,
    "start_time": "2022-03-10T18:18:53.676Z"
   },
   {
    "duration": 69,
    "start_time": "2022-03-10T18:18:53.708Z"
   },
   {
    "duration": 35,
    "start_time": "2022-03-10T18:18:53.778Z"
   },
   {
    "duration": 223,
    "start_time": "2022-03-10T18:18:53.815Z"
   },
   {
    "duration": 42,
    "start_time": "2022-03-10T18:18:54.040Z"
   },
   {
    "duration": 232,
    "start_time": "2022-03-10T18:18:54.084Z"
   },
   {
    "duration": 28,
    "start_time": "2022-03-10T18:18:54.318Z"
   },
   {
    "duration": 1549,
    "start_time": "2022-03-10T18:18:54.347Z"
   },
   {
    "duration": 18,
    "start_time": "2022-03-10T18:18:55.901Z"
   },
   {
    "duration": 6,
    "start_time": "2022-03-10T18:18:55.921Z"
   },
   {
    "duration": 14,
    "start_time": "2022-03-10T18:18:55.929Z"
   },
   {
    "duration": 4,
    "start_time": "2022-03-10T18:18:55.945Z"
   },
   {
    "duration": 6,
    "start_time": "2022-03-10T18:18:55.951Z"
   },
   {
    "duration": 10,
    "start_time": "2022-03-10T18:19:12.898Z"
   },
   {
    "duration": 7,
    "start_time": "2022-03-10T18:20:20.476Z"
   },
   {
    "duration": 8,
    "start_time": "2022-03-10T18:20:23.117Z"
   },
   {
    "duration": 1178,
    "start_time": "2022-03-10T18:22:42.050Z"
   },
   {
    "duration": 327,
    "start_time": "2022-03-10T18:22:43.230Z"
   },
   {
    "duration": 323,
    "start_time": "2022-03-10T18:22:43.561Z"
   },
   {
    "duration": 133,
    "start_time": "2022-03-10T18:22:43.886Z"
   },
   {
    "duration": 308,
    "start_time": "2022-03-10T18:22:44.020Z"
   },
   {
    "duration": 261,
    "start_time": "2022-03-10T18:22:44.330Z"
   },
   {
    "duration": 4,
    "start_time": "2022-03-10T18:22:44.595Z"
   },
   {
    "duration": 165,
    "start_time": "2022-03-10T18:22:44.602Z"
   },
   {
    "duration": 135,
    "start_time": "2022-03-10T18:22:44.769Z"
   },
   {
    "duration": 74,
    "start_time": "2022-03-10T18:22:44.906Z"
   },
   {
    "duration": 43,
    "start_time": "2022-03-10T18:22:45.002Z"
   },
   {
    "duration": 23,
    "start_time": "2022-03-10T18:22:45.046Z"
   },
   {
    "duration": 35,
    "start_time": "2022-03-10T18:22:45.071Z"
   },
   {
    "duration": 13,
    "start_time": "2022-03-10T18:22:45.107Z"
   },
   {
    "duration": 14,
    "start_time": "2022-03-10T18:22:45.121Z"
   },
   {
    "duration": 23,
    "start_time": "2022-03-10T18:22:45.137Z"
   },
   {
    "duration": 4,
    "start_time": "2022-03-10T18:22:45.161Z"
   },
   {
    "duration": 227,
    "start_time": "2022-03-10T18:22:45.167Z"
   },
   {
    "duration": 16,
    "start_time": "2022-03-10T18:22:45.395Z"
   },
   {
    "duration": 13,
    "start_time": "2022-03-10T18:22:45.413Z"
   },
   {
    "duration": 164,
    "start_time": "2022-03-10T18:22:45.428Z"
   },
   {
    "duration": 158,
    "start_time": "2022-03-10T18:22:45.595Z"
   },
   {
    "duration": 13,
    "start_time": "2022-03-10T18:22:45.755Z"
   },
   {
    "duration": 333,
    "start_time": "2022-03-10T18:22:45.769Z"
   },
   {
    "duration": 29,
    "start_time": "2022-03-10T18:22:46.104Z"
   },
   {
    "duration": 6,
    "start_time": "2022-03-10T18:22:46.135Z"
   },
   {
    "duration": 346,
    "start_time": "2022-03-10T18:22:46.142Z"
   },
   {
    "duration": 3,
    "start_time": "2022-03-10T18:22:46.490Z"
   },
   {
    "duration": 10,
    "start_time": "2022-03-10T18:22:46.501Z"
   },
   {
    "duration": 7,
    "start_time": "2022-03-10T18:22:46.513Z"
   },
   {
    "duration": 87,
    "start_time": "2022-03-10T18:22:46.522Z"
   },
   {
    "duration": 15,
    "start_time": "2022-03-10T18:22:46.610Z"
   },
   {
    "duration": 223,
    "start_time": "2022-03-10T18:22:46.627Z"
   },
   {
    "duration": 51,
    "start_time": "2022-03-10T18:22:46.851Z"
   },
   {
    "duration": 231,
    "start_time": "2022-03-10T18:22:46.904Z"
   },
   {
    "duration": 28,
    "start_time": "2022-03-10T18:22:47.136Z"
   },
   {
    "duration": 1291,
    "start_time": "2022-03-10T18:22:47.166Z"
   },
   {
    "duration": 51,
    "start_time": "2022-03-10T18:22:48.458Z"
   },
   {
    "duration": 4,
    "start_time": "2022-03-10T18:22:48.511Z"
   },
   {
    "duration": 16,
    "start_time": "2022-03-10T18:22:48.517Z"
   },
   {
    "duration": 4,
    "start_time": "2022-03-10T18:22:48.535Z"
   },
   {
    "duration": 8,
    "start_time": "2022-03-10T18:22:48.540Z"
   },
   {
    "duration": 9,
    "start_time": "2022-03-10T18:23:13.905Z"
   },
   {
    "duration": 8,
    "start_time": "2022-03-10T18:23:20.479Z"
   },
   {
    "duration": 8,
    "start_time": "2022-03-10T18:23:22.953Z"
   },
   {
    "duration": 1344,
    "start_time": "2022-03-10T18:23:30.197Z"
   },
   {
    "duration": 333,
    "start_time": "2022-03-10T18:23:31.542Z"
   },
   {
    "duration": 313,
    "start_time": "2022-03-10T18:23:31.877Z"
   },
   {
    "duration": 132,
    "start_time": "2022-03-10T18:23:32.192Z"
   },
   {
    "duration": 248,
    "start_time": "2022-03-10T18:23:32.326Z"
   },
   {
    "duration": 202,
    "start_time": "2022-03-10T18:23:32.576Z"
   },
   {
    "duration": 5,
    "start_time": "2022-03-10T18:23:32.780Z"
   },
   {
    "duration": 160,
    "start_time": "2022-03-10T18:23:32.788Z"
   },
   {
    "duration": 134,
    "start_time": "2022-03-10T18:23:32.951Z"
   },
   {
    "duration": 87,
    "start_time": "2022-03-10T18:23:33.087Z"
   },
   {
    "duration": 56,
    "start_time": "2022-03-10T18:23:33.176Z"
   },
   {
    "duration": 23,
    "start_time": "2022-03-10T18:23:33.233Z"
   },
   {
    "duration": 18,
    "start_time": "2022-03-10T18:23:33.257Z"
   },
   {
    "duration": 34,
    "start_time": "2022-03-10T18:23:33.277Z"
   },
   {
    "duration": 13,
    "start_time": "2022-03-10T18:23:33.312Z"
   },
   {
    "duration": 22,
    "start_time": "2022-03-10T18:23:33.326Z"
   },
   {
    "duration": 3,
    "start_time": "2022-03-10T18:23:33.350Z"
   },
   {
    "duration": 213,
    "start_time": "2022-03-10T18:23:33.354Z"
   },
   {
    "duration": 16,
    "start_time": "2022-03-10T18:23:33.569Z"
   },
   {
    "duration": 26,
    "start_time": "2022-03-10T18:23:33.587Z"
   },
   {
    "duration": 164,
    "start_time": "2022-03-10T18:23:33.615Z"
   },
   {
    "duration": 152,
    "start_time": "2022-03-10T18:23:33.780Z"
   },
   {
    "duration": 14,
    "start_time": "2022-03-10T18:23:33.935Z"
   },
   {
    "duration": 335,
    "start_time": "2022-03-10T18:23:33.951Z"
   },
   {
    "duration": 34,
    "start_time": "2022-03-10T18:23:34.287Z"
   },
   {
    "duration": 6,
    "start_time": "2022-03-10T18:23:34.322Z"
   },
   {
    "duration": 332,
    "start_time": "2022-03-10T18:23:34.330Z"
   },
   {
    "duration": 3,
    "start_time": "2022-03-10T18:23:34.663Z"
   },
   {
    "duration": 19,
    "start_time": "2022-03-10T18:23:34.668Z"
   },
   {
    "duration": 14,
    "start_time": "2022-03-10T18:23:34.689Z"
   },
   {
    "duration": 66,
    "start_time": "2022-03-10T18:23:34.704Z"
   },
   {
    "duration": 30,
    "start_time": "2022-03-10T18:23:34.772Z"
   },
   {
    "duration": 221,
    "start_time": "2022-03-10T18:23:34.804Z"
   },
   {
    "duration": 42,
    "start_time": "2022-03-10T18:23:35.026Z"
   },
   {
    "duration": 211,
    "start_time": "2022-03-10T18:23:35.069Z"
   },
   {
    "duration": 33,
    "start_time": "2022-03-10T18:23:35.282Z"
   },
   {
    "duration": 1116,
    "start_time": "2022-03-10T18:23:35.317Z"
   },
   {
    "duration": 12,
    "start_time": "2022-03-10T18:23:36.434Z"
   },
   {
    "duration": 14,
    "start_time": "2022-03-10T18:23:36.448Z"
   },
   {
    "duration": 14,
    "start_time": "2022-03-10T18:23:36.463Z"
   },
   {
    "duration": 4,
    "start_time": "2022-03-10T18:23:36.479Z"
   },
   {
    "duration": 17,
    "start_time": "2022-03-10T18:23:36.484Z"
   },
   {
    "duration": 10,
    "start_time": "2022-03-10T18:23:59.637Z"
   },
   {
    "duration": 9,
    "start_time": "2022-03-10T18:24:03.527Z"
   },
   {
    "duration": 8,
    "start_time": "2022-03-10T18:24:08.716Z"
   }
  ],
  "kernelspec": {
   "display_name": "Python 3 (ipykernel)",
   "language": "python",
   "name": "python3"
  },
  "language_info": {
   "codemirror_mode": {
    "name": "ipython",
    "version": 3
   },
   "file_extension": ".py",
   "mimetype": "text/x-python",
   "name": "python",
   "nbconvert_exporter": "python",
   "pygments_lexer": "ipython3",
   "version": "3.9.7"
  },
  "toc": {
   "base_numbering": 1,
   "nav_menu": {},
   "number_sections": true,
   "sideBar": true,
   "skip_h1_title": true,
   "title_cell": "Table of Contents",
   "title_sidebar": "Contents",
   "toc_cell": false,
   "toc_position": {},
   "toc_section_display": true,
   "toc_window_display": false
  }
 },
 "nbformat": 4,
 "nbformat_minor": 2
}
